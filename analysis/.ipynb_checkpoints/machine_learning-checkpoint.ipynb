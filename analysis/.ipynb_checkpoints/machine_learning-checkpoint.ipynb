{
 "cells": [
  {
   "cell_type": "markdown",
   "id": "684d74d5",
   "metadata": {},
   "source": [
    "# Imports"
   ]
  },
  {
   "cell_type": "code",
   "execution_count": 1,
   "id": "701a7c28",
   "metadata": {},
   "outputs": [],
   "source": [
    "import pandas as pd\n",
    "import matplotlib.pyplot as plt\n",
    "import numpy as np\n",
    "import seaborn as sns\n",
    "\n",
    "from sklearn.model_selection import train_test_split\n",
    "from sklearn.model_selection import cross_val_score\n",
    "\n",
    "from sklearn.linear_model import LinearRegression, LassoCV, Ridge, LogisticRegression, BayesianRidge, TweedieRegressor, SGDClassifier, ElasticNet \n",
    "from sklearn.svm import SVR\n",
    "\n",
    "\n",
    "from sklearn import tree\n",
    "from sklearn.feature_selection import SelectFromModel\n",
    "from sklearn.preprocessing import StandardScaler\n",
    "\n",
    "from sklearn.metrics import *"
   ]
  },
  {
   "cell_type": "markdown",
   "id": "935ef21a",
   "metadata": {},
   "source": [
    "# DataFrame, Data et Variables"
   ]
  },
  {
   "cell_type": "markdown",
   "id": "62a236e5",
   "metadata": {},
   "source": [
    "### Data Quality"
   ]
  },
  {
   "cell_type": "code",
   "execution_count": 2,
   "id": "d4efb336",
   "metadata": {
    "scrolled": true
   },
   "outputs": [
    {
     "data": {
      "text/html": [
       "<div>\n",
       "<style scoped>\n",
       "    .dataframe tbody tr th:only-of-type {\n",
       "        vertical-align: middle;\n",
       "    }\n",
       "\n",
       "    .dataframe tbody tr th {\n",
       "        vertical-align: top;\n",
       "    }\n",
       "\n",
       "    .dataframe thead th {\n",
       "        text-align: right;\n",
       "    }\n",
       "</style>\n",
       "<table border=\"1\" class=\"dataframe\">\n",
       "  <thead>\n",
       "    <tr style=\"text-align: right;\">\n",
       "      <th></th>\n",
       "      <th>Superficie (m2)</th>\n",
       "      <th>Nombre Pieces</th>\n",
       "      <th>Nombre Chambres</th>\n",
       "      <th>Prix (Euros)</th>\n",
       "      <th>Code Postal</th>\n",
       "      <th>Classe Energetique</th>\n",
       "      <th>Nombre Photos</th>\n",
       "      <th>Etage</th>\n",
       "      <th>Type de Bien</th>\n",
       "      <th>Type Vendeur</th>\n",
       "      <th>Terrasse</th>\n",
       "      <th>Parking</th>\n",
       "      <th>Cave</th>\n",
       "      <th>Ascenseur</th>\n",
       "      <th>Gardien</th>\n",
       "      <th>Renove</th>\n",
       "      <th>Box</th>\n",
       "    </tr>\n",
       "  </thead>\n",
       "  <tbody>\n",
       "    <tr>\n",
       "      <th>10664</th>\n",
       "      <td>265</td>\n",
       "      <td>7</td>\n",
       "      <td>4</td>\n",
       "      <td>13000000</td>\n",
       "      <td>75008</td>\n",
       "      <td>0</td>\n",
       "      <td>2</td>\n",
       "      <td>4</td>\n",
       "      <td>1</td>\n",
       "      <td>1</td>\n",
       "      <td>-1</td>\n",
       "      <td>1</td>\n",
       "      <td>1</td>\n",
       "      <td>1</td>\n",
       "      <td>1</td>\n",
       "      <td>1</td>\n",
       "      <td>-1</td>\n",
       "    </tr>\n",
       "    <tr>\n",
       "      <th>10662</th>\n",
       "      <td>300</td>\n",
       "      <td>7</td>\n",
       "      <td>3</td>\n",
       "      <td>11000000</td>\n",
       "      <td>75008</td>\n",
       "      <td>4</td>\n",
       "      <td>10</td>\n",
       "      <td>3</td>\n",
       "      <td>1</td>\n",
       "      <td>1</td>\n",
       "      <td>1</td>\n",
       "      <td>1</td>\n",
       "      <td>1</td>\n",
       "      <td>1</td>\n",
       "      <td>1</td>\n",
       "      <td>-1</td>\n",
       "      <td>-1</td>\n",
       "    </tr>\n",
       "    <tr>\n",
       "      <th>10663</th>\n",
       "      <td>400</td>\n",
       "      <td>9</td>\n",
       "      <td>4</td>\n",
       "      <td>11000000</td>\n",
       "      <td>75008</td>\n",
       "      <td>0</td>\n",
       "      <td>1</td>\n",
       "      <td>-1</td>\n",
       "      <td>1</td>\n",
       "      <td>1</td>\n",
       "      <td>1</td>\n",
       "      <td>-1</td>\n",
       "      <td>-1</td>\n",
       "      <td>1</td>\n",
       "      <td>1</td>\n",
       "      <td>-1</td>\n",
       "      <td>-1</td>\n",
       "    </tr>\n",
       "    <tr>\n",
       "      <th>10661</th>\n",
       "      <td>440</td>\n",
       "      <td>9</td>\n",
       "      <td>5</td>\n",
       "      <td>10950000</td>\n",
       "      <td>75016</td>\n",
       "      <td>0</td>\n",
       "      <td>10</td>\n",
       "      <td>4</td>\n",
       "      <td>1</td>\n",
       "      <td>1</td>\n",
       "      <td>-1</td>\n",
       "      <td>1</td>\n",
       "      <td>1</td>\n",
       "      <td>1</td>\n",
       "      <td>1</td>\n",
       "      <td>-1</td>\n",
       "      <td>-1</td>\n",
       "    </tr>\n",
       "    <tr>\n",
       "      <th>10660</th>\n",
       "      <td>318</td>\n",
       "      <td>5</td>\n",
       "      <td>3</td>\n",
       "      <td>10500000</td>\n",
       "      <td>75007</td>\n",
       "      <td>0</td>\n",
       "      <td>10</td>\n",
       "      <td>5</td>\n",
       "      <td>1</td>\n",
       "      <td>1</td>\n",
       "      <td>-1</td>\n",
       "      <td>-1</td>\n",
       "      <td>-1</td>\n",
       "      <td>-1</td>\n",
       "      <td>-1</td>\n",
       "      <td>-1</td>\n",
       "      <td>-1</td>\n",
       "    </tr>\n",
       "    <tr>\n",
       "      <th>10659</th>\n",
       "      <td>455</td>\n",
       "      <td>8</td>\n",
       "      <td>4</td>\n",
       "      <td>10400000</td>\n",
       "      <td>75016</td>\n",
       "      <td>0</td>\n",
       "      <td>10</td>\n",
       "      <td>3</td>\n",
       "      <td>1</td>\n",
       "      <td>1</td>\n",
       "      <td>-1</td>\n",
       "      <td>-1</td>\n",
       "      <td>1</td>\n",
       "      <td>1</td>\n",
       "      <td>-1</td>\n",
       "      <td>-1</td>\n",
       "      <td>-1</td>\n",
       "    </tr>\n",
       "    <tr>\n",
       "      <th>10657</th>\n",
       "      <td>465</td>\n",
       "      <td>1</td>\n",
       "      <td>9</td>\n",
       "      <td>10375000</td>\n",
       "      <td>75116</td>\n",
       "      <td>0</td>\n",
       "      <td>1</td>\n",
       "      <td>3</td>\n",
       "      <td>1</td>\n",
       "      <td>1</td>\n",
       "      <td>-1</td>\n",
       "      <td>-1</td>\n",
       "      <td>-1</td>\n",
       "      <td>-1</td>\n",
       "      <td>-1</td>\n",
       "      <td>-1</td>\n",
       "      <td>-1</td>\n",
       "    </tr>\n",
       "    <tr>\n",
       "      <th>10658</th>\n",
       "      <td>465</td>\n",
       "      <td>1</td>\n",
       "      <td>9</td>\n",
       "      <td>10375000</td>\n",
       "      <td>75016</td>\n",
       "      <td>5</td>\n",
       "      <td>10</td>\n",
       "      <td>3</td>\n",
       "      <td>1</td>\n",
       "      <td>1</td>\n",
       "      <td>1</td>\n",
       "      <td>-1</td>\n",
       "      <td>-1</td>\n",
       "      <td>1</td>\n",
       "      <td>1</td>\n",
       "      <td>-1</td>\n",
       "      <td>-1</td>\n",
       "    </tr>\n",
       "    <tr>\n",
       "      <th>10656</th>\n",
       "      <td>440</td>\n",
       "      <td>8</td>\n",
       "      <td>5</td>\n",
       "      <td>10279000</td>\n",
       "      <td>75116</td>\n",
       "      <td>0</td>\n",
       "      <td>10</td>\n",
       "      <td>4</td>\n",
       "      <td>1</td>\n",
       "      <td>1</td>\n",
       "      <td>-1</td>\n",
       "      <td>-1</td>\n",
       "      <td>-1</td>\n",
       "      <td>-1</td>\n",
       "      <td>-1</td>\n",
       "      <td>-1</td>\n",
       "      <td>-1</td>\n",
       "    </tr>\n",
       "    <tr>\n",
       "      <th>3643</th>\n",
       "      <td>417</td>\n",
       "      <td>6</td>\n",
       "      <td>4</td>\n",
       "      <td>9900000</td>\n",
       "      <td>75016</td>\n",
       "      <td>5</td>\n",
       "      <td>10</td>\n",
       "      <td>2</td>\n",
       "      <td>1</td>\n",
       "      <td>1</td>\n",
       "      <td>-1</td>\n",
       "      <td>-1</td>\n",
       "      <td>-1</td>\n",
       "      <td>-1</td>\n",
       "      <td>-1</td>\n",
       "      <td>-1</td>\n",
       "      <td>-1</td>\n",
       "    </tr>\n",
       "    <tr>\n",
       "      <th>10655</th>\n",
       "      <td>409</td>\n",
       "      <td>7</td>\n",
       "      <td>4</td>\n",
       "      <td>9600000</td>\n",
       "      <td>75016</td>\n",
       "      <td>7</td>\n",
       "      <td>10</td>\n",
       "      <td>-1</td>\n",
       "      <td>1</td>\n",
       "      <td>1</td>\n",
       "      <td>-1</td>\n",
       "      <td>-1</td>\n",
       "      <td>-1</td>\n",
       "      <td>-1</td>\n",
       "      <td>-1</td>\n",
       "      <td>-1</td>\n",
       "      <td>-1</td>\n",
       "    </tr>\n",
       "    <tr>\n",
       "      <th>10653</th>\n",
       "      <td>380</td>\n",
       "      <td>8</td>\n",
       "      <td>4</td>\n",
       "      <td>9400000</td>\n",
       "      <td>75116</td>\n",
       "      <td>0</td>\n",
       "      <td>1</td>\n",
       "      <td>4</td>\n",
       "      <td>1</td>\n",
       "      <td>1</td>\n",
       "      <td>-1</td>\n",
       "      <td>-1</td>\n",
       "      <td>1</td>\n",
       "      <td>1</td>\n",
       "      <td>-1</td>\n",
       "      <td>-1</td>\n",
       "      <td>-1</td>\n",
       "    </tr>\n",
       "    <tr>\n",
       "      <th>10654</th>\n",
       "      <td>382</td>\n",
       "      <td>1</td>\n",
       "      <td>5</td>\n",
       "      <td>9400000</td>\n",
       "      <td>75116</td>\n",
       "      <td>0</td>\n",
       "      <td>10</td>\n",
       "      <td>8</td>\n",
       "      <td>1</td>\n",
       "      <td>1</td>\n",
       "      <td>-1</td>\n",
       "      <td>-1</td>\n",
       "      <td>-1</td>\n",
       "      <td>-1</td>\n",
       "      <td>-1</td>\n",
       "      <td>-1</td>\n",
       "      <td>-1</td>\n",
       "    </tr>\n",
       "    <tr>\n",
       "      <th>3642</th>\n",
       "      <td>416</td>\n",
       "      <td>1</td>\n",
       "      <td>8</td>\n",
       "      <td>9375000</td>\n",
       "      <td>75116</td>\n",
       "      <td>0</td>\n",
       "      <td>10</td>\n",
       "      <td>8</td>\n",
       "      <td>1</td>\n",
       "      <td>1</td>\n",
       "      <td>-1</td>\n",
       "      <td>-1</td>\n",
       "      <td>-1</td>\n",
       "      <td>1</td>\n",
       "      <td>-1</td>\n",
       "      <td>-1</td>\n",
       "      <td>-1</td>\n",
       "    </tr>\n",
       "    <tr>\n",
       "      <th>508</th>\n",
       "      <td>254</td>\n",
       "      <td>6</td>\n",
       "      <td>3</td>\n",
       "      <td>9225000</td>\n",
       "      <td>75008</td>\n",
       "      <td>2</td>\n",
       "      <td>10</td>\n",
       "      <td>7</td>\n",
       "      <td>1</td>\n",
       "      <td>1</td>\n",
       "      <td>-1</td>\n",
       "      <td>-1</td>\n",
       "      <td>1</td>\n",
       "      <td>-1</td>\n",
       "      <td>-1</td>\n",
       "      <td>-1</td>\n",
       "      <td>-1</td>\n",
       "    </tr>\n",
       "  </tbody>\n",
       "</table>\n",
       "</div>"
      ],
      "text/plain": [
       "       Superficie (m2)  Nombre Pieces  Nombre Chambres  Prix (Euros)  \\\n",
       "10664              265              7                4      13000000   \n",
       "10662              300              7                3      11000000   \n",
       "10663              400              9                4      11000000   \n",
       "10661              440              9                5      10950000   \n",
       "10660              318              5                3      10500000   \n",
       "10659              455              8                4      10400000   \n",
       "10657              465              1                9      10375000   \n",
       "10658              465              1                9      10375000   \n",
       "10656              440              8                5      10279000   \n",
       "3643               417              6                4       9900000   \n",
       "10655              409              7                4       9600000   \n",
       "10653              380              8                4       9400000   \n",
       "10654              382              1                5       9400000   \n",
       "3642               416              1                8       9375000   \n",
       "508                254              6                3       9225000   \n",
       "\n",
       "       Code Postal  Classe Energetique  Nombre Photos  Etage  Type de Bien  \\\n",
       "10664        75008                   0              2      4             1   \n",
       "10662        75008                   4             10      3             1   \n",
       "10663        75008                   0              1     -1             1   \n",
       "10661        75016                   0             10      4             1   \n",
       "10660        75007                   0             10      5             1   \n",
       "10659        75016                   0             10      3             1   \n",
       "10657        75116                   0              1      3             1   \n",
       "10658        75016                   5             10      3             1   \n",
       "10656        75116                   0             10      4             1   \n",
       "3643         75016                   5             10      2             1   \n",
       "10655        75016                   7             10     -1             1   \n",
       "10653        75116                   0              1      4             1   \n",
       "10654        75116                   0             10      8             1   \n",
       "3642         75116                   0             10      8             1   \n",
       "508          75008                   2             10      7             1   \n",
       "\n",
       "       Type Vendeur  Terrasse  Parking  Cave  Ascenseur  Gardien  Renove  Box  \n",
       "10664             1        -1        1     1          1        1       1   -1  \n",
       "10662             1         1        1     1          1        1      -1   -1  \n",
       "10663             1         1       -1    -1          1        1      -1   -1  \n",
       "10661             1        -1        1     1          1        1      -1   -1  \n",
       "10660             1        -1       -1    -1         -1       -1      -1   -1  \n",
       "10659             1        -1       -1     1          1       -1      -1   -1  \n",
       "10657             1        -1       -1    -1         -1       -1      -1   -1  \n",
       "10658             1         1       -1    -1          1        1      -1   -1  \n",
       "10656             1        -1       -1    -1         -1       -1      -1   -1  \n",
       "3643              1        -1       -1    -1         -1       -1      -1   -1  \n",
       "10655             1        -1       -1    -1         -1       -1      -1   -1  \n",
       "10653             1        -1       -1     1          1       -1      -1   -1  \n",
       "10654             1        -1       -1    -1         -1       -1      -1   -1  \n",
       "3642              1        -1       -1    -1          1       -1      -1   -1  \n",
       "508               1        -1       -1     1         -1       -1      -1   -1  "
      ]
     },
     "execution_count": 2,
     "metadata": {},
     "output_type": "execute_result"
    }
   ],
   "source": [
    "df = pd.read_csv('../scraping/logicimmo.csv')\n",
    "X = df.drop('Prix (Euros)', axis = 1)\n",
    "y = df['Prix (Euros)']\n",
    "\n",
    "df.sort_values(by=['Prix (Euros)'], ascending=False).head(15)"
   ]
  },
  {
   "cell_type": "code",
   "execution_count": 3,
   "id": "b1401f10",
   "metadata": {},
   "outputs": [
    {
     "name": "stdout",
     "output_type": "stream",
     "text": [
      "13000000\n"
     ]
    }
   ],
   "source": [
    "print(max(y))"
   ]
  },
  {
   "cell_type": "code",
   "execution_count": 4,
   "id": "e6741f99",
   "metadata": {},
   "outputs": [
    {
     "data": {
      "text/plain": [
       "Text(0, 0.5, 'prix')"
      ]
     },
     "execution_count": 4,
     "metadata": {},
     "output_type": "execute_result"
    },
    {
     "data": {
      "image/png": "[encoded data removed]",
      "text/plain": [
       "<Figure size 432x288 with 1 Axes>"
      ]
     },
     "metadata": {
      "needs_background": "light"
     },
     "output_type": "display_data"
    }
   ],
   "source": [
    "ax = df['Prix (Euros)'].plot()\n",
    "ax.set_xlabel(\"appartements\")\n",
    "ax.set_ylabel(\"prix\")"
   ]
  },
  {
   "cell_type": "code",
   "execution_count": 5,
   "id": "891bce31",
   "metadata": {
    "scrolled": true
   },
   "outputs": [
    {
     "data": {
      "image/png": "[encoded data removed]",
      "text/plain": [
       "<Figure size 432x288 with 1 Axes>"
      ]
     },
     "metadata": {
      "needs_background": "light"
     },
     "output_type": "display_data"
    }
   ],
   "source": [
    "plt.hist(y, bins=100)\n",
    "plt.show()\n",
    "#histogramme des prix -> certains atteignent les 9 900 000 €"
   ]
  },
  {
   "cell_type": "markdown",
   "id": "8d35ae9d",
   "metadata": {},
   "source": [
    "Pour éviter que les valeurs extrèmes biaisent le modèle, on ne les prend pas en compte."
   ]
  },
  {
   "cell_type": "code",
   "execution_count": 6,
   "id": "b473eee3",
   "metadata": {
    "scrolled": true
   },
   "outputs": [
    {
     "name": "stdout",
     "output_type": "stream",
     "text": [
      "Nombre de biens supprimés :  344\n"
     ]
    },
    {
     "data": {
      "text/html": [
       "<div>\n",
       "<style scoped>\n",
       "    .dataframe tbody tr th:only-of-type {\n",
       "        vertical-align: middle;\n",
       "    }\n",
       "\n",
       "    .dataframe tbody tr th {\n",
       "        vertical-align: top;\n",
       "    }\n",
       "\n",
       "    .dataframe thead th {\n",
       "        text-align: right;\n",
       "    }\n",
       "</style>\n",
       "<table border=\"1\" class=\"dataframe\">\n",
       "  <thead>\n",
       "    <tr style=\"text-align: right;\">\n",
       "      <th></th>\n",
       "      <th>Superficie (m2)</th>\n",
       "      <th>Nombre Pieces</th>\n",
       "      <th>Nombre Chambres</th>\n",
       "      <th>Prix (Euros)</th>\n",
       "      <th>Code Postal</th>\n",
       "      <th>Classe Energetique</th>\n",
       "      <th>Nombre Photos</th>\n",
       "      <th>Etage</th>\n",
       "      <th>Type de Bien</th>\n",
       "      <th>Type Vendeur</th>\n",
       "      <th>Terrasse</th>\n",
       "      <th>Parking</th>\n",
       "      <th>Cave</th>\n",
       "      <th>Ascenseur</th>\n",
       "      <th>Gardien</th>\n",
       "      <th>Renove</th>\n",
       "      <th>Box</th>\n",
       "    </tr>\n",
       "  </thead>\n",
       "  <tbody>\n",
       "    <tr>\n",
       "      <th>14363</th>\n",
       "      <td>168</td>\n",
       "      <td>6</td>\n",
       "      <td>4</td>\n",
       "      <td>2000000</td>\n",
       "      <td>75009</td>\n",
       "      <td>0</td>\n",
       "      <td>10</td>\n",
       "      <td>2</td>\n",
       "      <td>1</td>\n",
       "      <td>1</td>\n",
       "      <td>-1</td>\n",
       "      <td>-1</td>\n",
       "      <td>-1</td>\n",
       "      <td>-1</td>\n",
       "      <td>-1</td>\n",
       "      <td>-1</td>\n",
       "      <td>-1</td>\n",
       "    </tr>\n",
       "    <tr>\n",
       "      <th>2251</th>\n",
       "      <td>168</td>\n",
       "      <td>6</td>\n",
       "      <td>4</td>\n",
       "      <td>2000000</td>\n",
       "      <td>75009</td>\n",
       "      <td>0</td>\n",
       "      <td>10</td>\n",
       "      <td>2</td>\n",
       "      <td>1</td>\n",
       "      <td>1</td>\n",
       "      <td>-1</td>\n",
       "      <td>-1</td>\n",
       "      <td>-1</td>\n",
       "      <td>-1</td>\n",
       "      <td>-1</td>\n",
       "      <td>-1</td>\n",
       "      <td>-1</td>\n",
       "    </tr>\n",
       "    <tr>\n",
       "      <th>2250</th>\n",
       "      <td>188</td>\n",
       "      <td>7</td>\n",
       "      <td>4</td>\n",
       "      <td>1990000</td>\n",
       "      <td>75016</td>\n",
       "      <td>4</td>\n",
       "      <td>10</td>\n",
       "      <td>3</td>\n",
       "      <td>1</td>\n",
       "      <td>1</td>\n",
       "      <td>1</td>\n",
       "      <td>1</td>\n",
       "      <td>1</td>\n",
       "      <td>1</td>\n",
       "      <td>-1</td>\n",
       "      <td>-1</td>\n",
       "      <td>-1</td>\n",
       "    </tr>\n",
       "    <tr>\n",
       "      <th>3536</th>\n",
       "      <td>188</td>\n",
       "      <td>7</td>\n",
       "      <td>4</td>\n",
       "      <td>1990000</td>\n",
       "      <td>75016</td>\n",
       "      <td>4</td>\n",
       "      <td>10</td>\n",
       "      <td>3</td>\n",
       "      <td>1</td>\n",
       "      <td>1</td>\n",
       "      <td>-1</td>\n",
       "      <td>-1</td>\n",
       "      <td>-1</td>\n",
       "      <td>-1</td>\n",
       "      <td>-1</td>\n",
       "      <td>-1</td>\n",
       "      <td>-1</td>\n",
       "    </tr>\n",
       "    <tr>\n",
       "      <th>461</th>\n",
       "      <td>188</td>\n",
       "      <td>7</td>\n",
       "      <td>4</td>\n",
       "      <td>1990000</td>\n",
       "      <td>75016</td>\n",
       "      <td>4</td>\n",
       "      <td>10</td>\n",
       "      <td>3</td>\n",
       "      <td>1</td>\n",
       "      <td>1</td>\n",
       "      <td>-1</td>\n",
       "      <td>-1</td>\n",
       "      <td>1</td>\n",
       "      <td>-1</td>\n",
       "      <td>-1</td>\n",
       "      <td>-1</td>\n",
       "      <td>-1</td>\n",
       "    </tr>\n",
       "    <tr>\n",
       "      <th>2248</th>\n",
       "      <td>100</td>\n",
       "      <td>3</td>\n",
       "      <td>2</td>\n",
       "      <td>1990000</td>\n",
       "      <td>75001</td>\n",
       "      <td>0</td>\n",
       "      <td>10</td>\n",
       "      <td>4</td>\n",
       "      <td>1</td>\n",
       "      <td>1</td>\n",
       "      <td>-1</td>\n",
       "      <td>-1</td>\n",
       "      <td>1</td>\n",
       "      <td>1</td>\n",
       "      <td>-1</td>\n",
       "      <td>-1</td>\n",
       "      <td>-1</td>\n",
       "    </tr>\n",
       "    <tr>\n",
       "      <th>2249</th>\n",
       "      <td>133</td>\n",
       "      <td>5</td>\n",
       "      <td>3</td>\n",
       "      <td>1990000</td>\n",
       "      <td>75016</td>\n",
       "      <td>0</td>\n",
       "      <td>1</td>\n",
       "      <td>2</td>\n",
       "      <td>1</td>\n",
       "      <td>1</td>\n",
       "      <td>1</td>\n",
       "      <td>-1</td>\n",
       "      <td>1</td>\n",
       "      <td>1</td>\n",
       "      <td>-1</td>\n",
       "      <td>-1</td>\n",
       "      <td>-1</td>\n",
       "    </tr>\n",
       "    <tr>\n",
       "      <th>460</th>\n",
       "      <td>100</td>\n",
       "      <td>3</td>\n",
       "      <td>2</td>\n",
       "      <td>1990000</td>\n",
       "      <td>75001</td>\n",
       "      <td>0</td>\n",
       "      <td>10</td>\n",
       "      <td>4</td>\n",
       "      <td>1</td>\n",
       "      <td>1</td>\n",
       "      <td>-1</td>\n",
       "      <td>-1</td>\n",
       "      <td>-1</td>\n",
       "      <td>1</td>\n",
       "      <td>-1</td>\n",
       "      <td>-1</td>\n",
       "      <td>-1</td>\n",
       "    </tr>\n",
       "    <tr>\n",
       "      <th>462</th>\n",
       "      <td>133</td>\n",
       "      <td>5</td>\n",
       "      <td>3</td>\n",
       "      <td>1990000</td>\n",
       "      <td>75016</td>\n",
       "      <td>0</td>\n",
       "      <td>1</td>\n",
       "      <td>2</td>\n",
       "      <td>1</td>\n",
       "      <td>1</td>\n",
       "      <td>-1</td>\n",
       "      <td>-1</td>\n",
       "      <td>1</td>\n",
       "      <td>1</td>\n",
       "      <td>-1</td>\n",
       "      <td>-1</td>\n",
       "      <td>-1</td>\n",
       "    </tr>\n",
       "    <tr>\n",
       "      <th>14362</th>\n",
       "      <td>188</td>\n",
       "      <td>7</td>\n",
       "      <td>4</td>\n",
       "      <td>1990000</td>\n",
       "      <td>75016</td>\n",
       "      <td>4</td>\n",
       "      <td>10</td>\n",
       "      <td>3</td>\n",
       "      <td>1</td>\n",
       "      <td>1</td>\n",
       "      <td>1</td>\n",
       "      <td>1</td>\n",
       "      <td>1</td>\n",
       "      <td>1</td>\n",
       "      <td>-1</td>\n",
       "      <td>-1</td>\n",
       "      <td>-1</td>\n",
       "    </tr>\n",
       "    <tr>\n",
       "      <th>14361</th>\n",
       "      <td>133</td>\n",
       "      <td>5</td>\n",
       "      <td>3</td>\n",
       "      <td>1990000</td>\n",
       "      <td>75016</td>\n",
       "      <td>0</td>\n",
       "      <td>1</td>\n",
       "      <td>2</td>\n",
       "      <td>1</td>\n",
       "      <td>1</td>\n",
       "      <td>1</td>\n",
       "      <td>-1</td>\n",
       "      <td>1</td>\n",
       "      <td>1</td>\n",
       "      <td>-1</td>\n",
       "      <td>-1</td>\n",
       "      <td>-1</td>\n",
       "    </tr>\n",
       "    <tr>\n",
       "      <th>14360</th>\n",
       "      <td>100</td>\n",
       "      <td>3</td>\n",
       "      <td>2</td>\n",
       "      <td>1990000</td>\n",
       "      <td>75001</td>\n",
       "      <td>0</td>\n",
       "      <td>10</td>\n",
       "      <td>4</td>\n",
       "      <td>1</td>\n",
       "      <td>1</td>\n",
       "      <td>-1</td>\n",
       "      <td>-1</td>\n",
       "      <td>1</td>\n",
       "      <td>1</td>\n",
       "      <td>-1</td>\n",
       "      <td>-1</td>\n",
       "      <td>-1</td>\n",
       "    </tr>\n",
       "    <tr>\n",
       "      <th>3535</th>\n",
       "      <td>138</td>\n",
       "      <td>5</td>\n",
       "      <td>3</td>\n",
       "      <td>1984000</td>\n",
       "      <td>75008</td>\n",
       "      <td>2</td>\n",
       "      <td>10</td>\n",
       "      <td>5</td>\n",
       "      <td>1</td>\n",
       "      <td>1</td>\n",
       "      <td>-1</td>\n",
       "      <td>-1</td>\n",
       "      <td>-1</td>\n",
       "      <td>-1</td>\n",
       "      <td>-1</td>\n",
       "      <td>-1</td>\n",
       "      <td>-1</td>\n",
       "    </tr>\n",
       "    <tr>\n",
       "      <th>3937</th>\n",
       "      <td>156</td>\n",
       "      <td>1</td>\n",
       "      <td>5</td>\n",
       "      <td>1980000</td>\n",
       "      <td>75005</td>\n",
       "      <td>6</td>\n",
       "      <td>10</td>\n",
       "      <td>2</td>\n",
       "      <td>1</td>\n",
       "      <td>1</td>\n",
       "      <td>-1</td>\n",
       "      <td>-1</td>\n",
       "      <td>-1</td>\n",
       "      <td>-1</td>\n",
       "      <td>-1</td>\n",
       "      <td>-1</td>\n",
       "      <td>-1</td>\n",
       "    </tr>\n",
       "    <tr>\n",
       "      <th>11933</th>\n",
       "      <td>156</td>\n",
       "      <td>1</td>\n",
       "      <td>5</td>\n",
       "      <td>1980000</td>\n",
       "      <td>75005</td>\n",
       "      <td>6</td>\n",
       "      <td>10</td>\n",
       "      <td>2</td>\n",
       "      <td>1</td>\n",
       "      <td>1</td>\n",
       "      <td>-1</td>\n",
       "      <td>-1</td>\n",
       "      <td>-1</td>\n",
       "      <td>-1</td>\n",
       "      <td>-1</td>\n",
       "      <td>-1</td>\n",
       "      <td>-1</td>\n",
       "    </tr>\n",
       "  </tbody>\n",
       "</table>\n",
       "</div>"
      ],
      "text/plain": [
       "       Superficie (m2)  Nombre Pieces  Nombre Chambres  Prix (Euros)  \\\n",
       "14363              168              6                4       2000000   \n",
       "2251               168              6                4       2000000   \n",
       "2250               188              7                4       1990000   \n",
       "3536               188              7                4       1990000   \n",
       "461                188              7                4       1990000   \n",
       "2248               100              3                2       1990000   \n",
       "2249               133              5                3       1990000   \n",
       "460                100              3                2       1990000   \n",
       "462                133              5                3       1990000   \n",
       "14362              188              7                4       1990000   \n",
       "14361              133              5                3       1990000   \n",
       "14360              100              3                2       1990000   \n",
       "3535               138              5                3       1984000   \n",
       "3937               156              1                5       1980000   \n",
       "11933              156              1                5       1980000   \n",
       "\n",
       "       Code Postal  Classe Energetique  Nombre Photos  Etage  Type de Bien  \\\n",
       "14363        75009                   0             10      2             1   \n",
       "2251         75009                   0             10      2             1   \n",
       "2250         75016                   4             10      3             1   \n",
       "3536         75016                   4             10      3             1   \n",
       "461          75016                   4             10      3             1   \n",
       "2248         75001                   0             10      4             1   \n",
       "2249         75016                   0              1      2             1   \n",
       "460          75001                   0             10      4             1   \n",
       "462          75016                   0              1      2             1   \n",
       "14362        75016                   4             10      3             1   \n",
       "14361        75016                   0              1      2             1   \n",
       "14360        75001                   0             10      4             1   \n",
       "3535         75008                   2             10      5             1   \n",
       "3937         75005                   6             10      2             1   \n",
       "11933        75005                   6             10      2             1   \n",
       "\n",
       "       Type Vendeur  Terrasse  Parking  Cave  Ascenseur  Gardien  Renove  Box  \n",
       "14363             1        -1       -1    -1         -1       -1      -1   -1  \n",
       "2251              1        -1       -1    -1         -1       -1      -1   -1  \n",
       "2250              1         1        1     1          1       -1      -1   -1  \n",
       "3536              1        -1       -1    -1         -1       -1      -1   -1  \n",
       "461               1        -1       -1     1         -1       -1      -1   -1  \n",
       "2248              1        -1       -1     1          1       -1      -1   -1  \n",
       "2249              1         1       -1     1          1       -1      -1   -1  \n",
       "460               1        -1       -1    -1          1       -1      -1   -1  \n",
       "462               1        -1       -1     1          1       -1      -1   -1  \n",
       "14362             1         1        1     1          1       -1      -1   -1  \n",
       "14361             1         1       -1     1          1       -1      -1   -1  \n",
       "14360             1        -1       -1     1          1       -1      -1   -1  \n",
       "3535              1        -1       -1    -1         -1       -1      -1   -1  \n",
       "3937              1        -1       -1    -1         -1       -1      -1   -1  \n",
       "11933             1        -1       -1    -1         -1       -1      -1   -1  "
      ]
     },
     "execution_count": 6,
     "metadata": {},
     "output_type": "execute_result"
    }
   ],
   "source": [
    "compteur = 0\n",
    "for prix in y :\n",
    "    if prix > 2000000 :\n",
    "        compteur += 1\n",
    "        df.drop(df[df['Prix (Euros)'] == prix].index, inplace = True)\n",
    "\n",
    "print(\"Nombre de biens supprimés : \",compteur)\n",
    "\n",
    "X = df.drop('Prix (Euros)', axis = 1)\n",
    "y = df['Prix (Euros)']\n",
    "\n",
    "df.sort_values(by=['Prix (Euros)'], ascending=False).head(15)"
   ]
  },
  {
   "cell_type": "code",
   "execution_count": 7,
   "id": "c2ff272b",
   "metadata": {},
   "outputs": [
    {
     "data": {
      "text/plain": [
       "(14296, 17)"
      ]
     },
     "execution_count": 7,
     "metadata": {},
     "output_type": "execute_result"
    }
   ],
   "source": [
    "df.shape"
   ]
  },
  {
   "cell_type": "code",
   "execution_count": 8,
   "id": "2ccce335",
   "metadata": {},
   "outputs": [
    {
     "data": {
      "text/plain": [
       "Superficie (m2)       0\n",
       "Nombre Pieces         0\n",
       "Nombre Chambres       0\n",
       "Prix (Euros)          0\n",
       "Code Postal           0\n",
       "Classe Energetique    0\n",
       "Nombre Photos         0\n",
       "Etage                 0\n",
       "Type de Bien          0\n",
       "Type Vendeur          0\n",
       "Terrasse              0\n",
       "Parking               0\n",
       "Cave                  0\n",
       "Ascenseur             0\n",
       "Gardien               0\n",
       "Renove                0\n",
       "Box                   0\n",
       "dtype: int64"
      ]
     },
     "execution_count": 8,
     "metadata": {},
     "output_type": "execute_result"
    }
   ],
   "source": [
    "df.isnull().sum()"
   ]
  },
  {
   "cell_type": "code",
   "execution_count": 9,
   "id": "5c4f83c0",
   "metadata": {
    "scrolled": true
   },
   "outputs": [
    {
     "data": {
      "text/plain": [
       "4964"
      ]
     },
     "execution_count": 9,
     "metadata": {},
     "output_type": "execute_result"
    }
   ],
   "source": [
    "df.duplicated().sum()\n",
    "#Pas de variable ID_appartement => Pas nécessairement des doublons, justes des appartements avec les mêmes données"
   ]
  },
  {
   "cell_type": "code",
   "execution_count": 10,
   "id": "7e050d25",
   "metadata": {
    "scrolled": false
   },
   "outputs": [
    {
     "data": {
      "text/plain": [
       "1    14296\n",
       "Name: Type de Bien, dtype: int64"
      ]
     },
     "execution_count": 10,
     "metadata": {},
     "output_type": "execute_result"
    }
   ],
   "source": [
    "df['Type de Bien'].value_counts()\n",
    "#Uniquement des appartements"
   ]
  },
  {
   "cell_type": "code",
   "execution_count": 11,
   "id": "75e32867",
   "metadata": {},
   "outputs": [
    {
     "data": {
      "text/plain": [
       "1    14296\n",
       "Name: Type Vendeur, dtype: int64"
      ]
     },
     "execution_count": 11,
     "metadata": {},
     "output_type": "execute_result"
    }
   ],
   "source": [
    "df['Type Vendeur'].value_counts()\n",
    "#Uniquement des vendeurs Pro"
   ]
  },
  {
   "cell_type": "code",
   "execution_count": 12,
   "id": "c5d9d541",
   "metadata": {
    "scrolled": true
   },
   "outputs": [
    {
     "data": {
      "image/png": "[encoded data removed]",
      "text/plain": [
       "<Figure size 864x720 with 2 Axes>"
      ]
     },
     "metadata": {
      "needs_background": "light"
     },
     "output_type": "display_data"
    }
   ],
   "source": [
    "corr = df.corr(method='pearson')\n",
    "plt.figure(figsize=(12, 10))\n",
    "sns.heatmap(corr, annot=True)\n",
    "plt.show()"
   ]
  },
  {
   "cell_type": "code",
   "execution_count": 13,
   "id": "b32adc2d",
   "metadata": {
    "scrolled": true
   },
   "outputs": [
    {
     "data": {
      "text/html": [
       "<div>\n",
       "<style scoped>\n",
       "    .dataframe tbody tr th:only-of-type {\n",
       "        vertical-align: middle;\n",
       "    }\n",
       "\n",
       "    .dataframe tbody tr th {\n",
       "        vertical-align: top;\n",
       "    }\n",
       "\n",
       "    .dataframe thead th {\n",
       "        text-align: right;\n",
       "    }\n",
       "</style>\n",
       "<table border=\"1\" class=\"dataframe\">\n",
       "  <thead>\n",
       "    <tr style=\"text-align: right;\">\n",
       "      <th></th>\n",
       "      <th>Superficie (m2)</th>\n",
       "      <th>Nombre Pieces</th>\n",
       "      <th>Nombre Chambres</th>\n",
       "      <th>Prix (Euros)</th>\n",
       "      <th>Code Postal</th>\n",
       "      <th>Classe Energetique</th>\n",
       "      <th>Nombre Photos</th>\n",
       "      <th>Etage</th>\n",
       "      <th>Type de Bien</th>\n",
       "      <th>Type Vendeur</th>\n",
       "      <th>Terrasse</th>\n",
       "      <th>Parking</th>\n",
       "      <th>Cave</th>\n",
       "      <th>Ascenseur</th>\n",
       "      <th>Gardien</th>\n",
       "      <th>Renove</th>\n",
       "      <th>Box</th>\n",
       "    </tr>\n",
       "  </thead>\n",
       "  <tbody>\n",
       "    <tr>\n",
       "      <th>0</th>\n",
       "      <td>64</td>\n",
       "      <td>3</td>\n",
       "      <td>2</td>\n",
       "      <td>830000</td>\n",
       "      <td>75017</td>\n",
       "      <td>5</td>\n",
       "      <td>1</td>\n",
       "      <td>3</td>\n",
       "      <td>1</td>\n",
       "      <td>1</td>\n",
       "      <td>-1</td>\n",
       "      <td>-1</td>\n",
       "      <td>-1</td>\n",
       "      <td>-1</td>\n",
       "      <td>-1</td>\n",
       "      <td>-1</td>\n",
       "      <td>-1</td>\n",
       "    </tr>\n",
       "    <tr>\n",
       "      <th>1</th>\n",
       "      <td>122</td>\n",
       "      <td>5</td>\n",
       "      <td>5</td>\n",
       "      <td>1470000</td>\n",
       "      <td>75015</td>\n",
       "      <td>0</td>\n",
       "      <td>10</td>\n",
       "      <td>3</td>\n",
       "      <td>1</td>\n",
       "      <td>1</td>\n",
       "      <td>1</td>\n",
       "      <td>1</td>\n",
       "      <td>1</td>\n",
       "      <td>1</td>\n",
       "      <td>-1</td>\n",
       "      <td>-1</td>\n",
       "      <td>1</td>\n",
       "    </tr>\n",
       "    <tr>\n",
       "      <th>2</th>\n",
       "      <td>5</td>\n",
       "      <td>1</td>\n",
       "      <td>0</td>\n",
       "      <td>65000</td>\n",
       "      <td>75116</td>\n",
       "      <td>5</td>\n",
       "      <td>6</td>\n",
       "      <td>6</td>\n",
       "      <td>1</td>\n",
       "      <td>1</td>\n",
       "      <td>-1</td>\n",
       "      <td>-1</td>\n",
       "      <td>-1</td>\n",
       "      <td>1</td>\n",
       "      <td>1</td>\n",
       "      <td>1</td>\n",
       "      <td>-1</td>\n",
       "    </tr>\n",
       "    <tr>\n",
       "      <th>3</th>\n",
       "      <td>7</td>\n",
       "      <td>1</td>\n",
       "      <td>0</td>\n",
       "      <td>80000</td>\n",
       "      <td>75015</td>\n",
       "      <td>0</td>\n",
       "      <td>4</td>\n",
       "      <td>7</td>\n",
       "      <td>1</td>\n",
       "      <td>1</td>\n",
       "      <td>-1</td>\n",
       "      <td>-1</td>\n",
       "      <td>-1</td>\n",
       "      <td>-1</td>\n",
       "      <td>1</td>\n",
       "      <td>-1</td>\n",
       "      <td>-1</td>\n",
       "    </tr>\n",
       "    <tr>\n",
       "      <th>4</th>\n",
       "      <td>8</td>\n",
       "      <td>1</td>\n",
       "      <td>0</td>\n",
       "      <td>87000</td>\n",
       "      <td>75006</td>\n",
       "      <td>0</td>\n",
       "      <td>4</td>\n",
       "      <td>6</td>\n",
       "      <td>1</td>\n",
       "      <td>1</td>\n",
       "      <td>-1</td>\n",
       "      <td>-1</td>\n",
       "      <td>-1</td>\n",
       "      <td>1</td>\n",
       "      <td>1</td>\n",
       "      <td>-1</td>\n",
       "      <td>-1</td>\n",
       "    </tr>\n",
       "    <tr>\n",
       "      <th>...</th>\n",
       "      <td>...</td>\n",
       "      <td>...</td>\n",
       "      <td>...</td>\n",
       "      <td>...</td>\n",
       "      <td>...</td>\n",
       "      <td>...</td>\n",
       "      <td>...</td>\n",
       "      <td>...</td>\n",
       "      <td>...</td>\n",
       "      <td>...</td>\n",
       "      <td>...</td>\n",
       "      <td>...</td>\n",
       "      <td>...</td>\n",
       "      <td>...</td>\n",
       "      <td>...</td>\n",
       "      <td>...</td>\n",
       "      <td>...</td>\n",
       "    </tr>\n",
       "    <tr>\n",
       "      <th>14635</th>\n",
       "      <td>25</td>\n",
       "      <td>1</td>\n",
       "      <td>0</td>\n",
       "      <td>352000</td>\n",
       "      <td>75015</td>\n",
       "      <td>0</td>\n",
       "      <td>10</td>\n",
       "      <td>-1</td>\n",
       "      <td>1</td>\n",
       "      <td>1</td>\n",
       "      <td>1</td>\n",
       "      <td>-1</td>\n",
       "      <td>1</td>\n",
       "      <td>1</td>\n",
       "      <td>1</td>\n",
       "      <td>-1</td>\n",
       "      <td>-1</td>\n",
       "    </tr>\n",
       "    <tr>\n",
       "      <th>14636</th>\n",
       "      <td>45</td>\n",
       "      <td>2</td>\n",
       "      <td>1</td>\n",
       "      <td>355000</td>\n",
       "      <td>75018</td>\n",
       "      <td>7</td>\n",
       "      <td>7</td>\n",
       "      <td>1</td>\n",
       "      <td>1</td>\n",
       "      <td>1</td>\n",
       "      <td>-1</td>\n",
       "      <td>-1</td>\n",
       "      <td>1</td>\n",
       "      <td>1</td>\n",
       "      <td>-1</td>\n",
       "      <td>1</td>\n",
       "      <td>-1</td>\n",
       "    </tr>\n",
       "    <tr>\n",
       "      <th>14637</th>\n",
       "      <td>32</td>\n",
       "      <td>2</td>\n",
       "      <td>1</td>\n",
       "      <td>356000</td>\n",
       "      <td>75014</td>\n",
       "      <td>5</td>\n",
       "      <td>9</td>\n",
       "      <td>3</td>\n",
       "      <td>1</td>\n",
       "      <td>1</td>\n",
       "      <td>-1</td>\n",
       "      <td>-1</td>\n",
       "      <td>1</td>\n",
       "      <td>-1</td>\n",
       "      <td>-1</td>\n",
       "      <td>-1</td>\n",
       "      <td>-1</td>\n",
       "    </tr>\n",
       "    <tr>\n",
       "      <th>14638</th>\n",
       "      <td>29</td>\n",
       "      <td>2</td>\n",
       "      <td>1</td>\n",
       "      <td>357000</td>\n",
       "      <td>75005</td>\n",
       "      <td>5</td>\n",
       "      <td>10</td>\n",
       "      <td>3</td>\n",
       "      <td>1</td>\n",
       "      <td>1</td>\n",
       "      <td>-1</td>\n",
       "      <td>-1</td>\n",
       "      <td>1</td>\n",
       "      <td>-1</td>\n",
       "      <td>1</td>\n",
       "      <td>-1</td>\n",
       "      <td>-1</td>\n",
       "    </tr>\n",
       "    <tr>\n",
       "      <th>14639</th>\n",
       "      <td>37</td>\n",
       "      <td>2</td>\n",
       "      <td>1</td>\n",
       "      <td>358000</td>\n",
       "      <td>75018</td>\n",
       "      <td>4</td>\n",
       "      <td>9</td>\n",
       "      <td>2</td>\n",
       "      <td>1</td>\n",
       "      <td>1</td>\n",
       "      <td>-1</td>\n",
       "      <td>-1</td>\n",
       "      <td>1</td>\n",
       "      <td>1</td>\n",
       "      <td>-1</td>\n",
       "      <td>-1</td>\n",
       "      <td>-1</td>\n",
       "    </tr>\n",
       "  </tbody>\n",
       "</table>\n",
       "<p>14296 rows × 17 columns</p>\n",
       "</div>"
      ],
      "text/plain": [
       "       Superficie (m2)  Nombre Pieces  Nombre Chambres  Prix (Euros)  \\\n",
       "0                   64              3                2        830000   \n",
       "1                  122              5                5       1470000   \n",
       "2                    5              1                0         65000   \n",
       "3                    7              1                0         80000   \n",
       "4                    8              1                0         87000   \n",
       "...                ...            ...              ...           ...   \n",
       "14635               25              1                0        352000   \n",
       "14636               45              2                1        355000   \n",
       "14637               32              2                1        356000   \n",
       "14638               29              2                1        357000   \n",
       "14639               37              2                1        358000   \n",
       "\n",
       "       Code Postal  Classe Energetique  Nombre Photos  Etage  Type de Bien  \\\n",
       "0            75017                   5              1      3             1   \n",
       "1            75015                   0             10      3             1   \n",
       "2            75116                   5              6      6             1   \n",
       "3            75015                   0              4      7             1   \n",
       "4            75006                   0              4      6             1   \n",
       "...            ...                 ...            ...    ...           ...   \n",
       "14635        75015                   0             10     -1             1   \n",
       "14636        75018                   7              7      1             1   \n",
       "14637        75014                   5              9      3             1   \n",
       "14638        75005                   5             10      3             1   \n",
       "14639        75018                   4              9      2             1   \n",
       "\n",
       "       Type Vendeur  Terrasse  Parking  Cave  Ascenseur  Gardien  Renove  Box  \n",
       "0                 1        -1       -1    -1         -1       -1      -1   -1  \n",
       "1                 1         1        1     1          1       -1      -1    1  \n",
       "2                 1        -1       -1    -1          1        1       1   -1  \n",
       "3                 1        -1       -1    -1         -1        1      -1   -1  \n",
       "4                 1        -1       -1    -1          1        1      -1   -1  \n",
       "...             ...       ...      ...   ...        ...      ...     ...  ...  \n",
       "14635             1         1       -1     1          1        1      -1   -1  \n",
       "14636             1        -1       -1     1          1       -1       1   -1  \n",
       "14637             1        -1       -1     1         -1       -1      -1   -1  \n",
       "14638             1        -1       -1     1         -1        1      -1   -1  \n",
       "14639             1        -1       -1     1          1       -1      -1   -1  \n",
       "\n",
       "[14296 rows x 17 columns]"
      ]
     },
     "execution_count": 13,
     "metadata": {},
     "output_type": "execute_result"
    }
   ],
   "source": [
    "df_dummies = pd.get_dummies(df)\n",
    "df_dummies\n",
    "#Aucun changement => que des données numériques\n",
    "#Donc aucunes modification à faire pour utiliser le df avec un modèle de régression"
   ]
  },
  {
   "cell_type": "markdown",
   "id": "a919d516",
   "metadata": {},
   "source": [
    "### Export de la base"
   ]
  },
  {
   "cell_type": "code",
   "execution_count": 14,
   "id": "8395ac82",
   "metadata": {},
   "outputs": [
    {
     "ename": "FileNotFoundError",
     "evalue": "[Errno 2] No such file or directory: 'projet/scraping/logicimmo_clean.csv'",
     "output_type": "error",
     "traceback": [
      "\u001b[0;31m---------------------------------------------------------------------------\u001b[0m",
      "\u001b[0;31mFileNotFoundError\u001b[0m                         Traceback (most recent call last)",
      "\u001b[0;32m/var/folders/2h/fftvhsz57c50j3s4379g5d9m0000gn/T/ipykernel_6204/602599698.py\u001b[0m in \u001b[0;36m<module>\u001b[0;34m\u001b[0m\n\u001b[0;32m----> 1\u001b[0;31m \u001b[0mdf\u001b[0m\u001b[0;34m.\u001b[0m\u001b[0mto_csv\u001b[0m\u001b[0;34m(\u001b[0m\u001b[0;34mr'projet/scraping/logicimmo_clean.csv'\u001b[0m\u001b[0;34m,\u001b[0m\u001b[0mindex\u001b[0m\u001b[0;34m=\u001b[0m\u001b[0;32mFalse\u001b[0m\u001b[0;34m)\u001b[0m\u001b[0;34m\u001b[0m\u001b[0;34m\u001b[0m\u001b[0m\n\u001b[0m",
      "\u001b[0;32m~/opt/anaconda3/lib/python3.9/site-packages/pandas/core/generic.py\u001b[0m in \u001b[0;36mto_csv\u001b[0;34m(self, path_or_buf, sep, na_rep, float_format, columns, header, index, index_label, mode, encoding, compression, quoting, quotechar, line_terminator, chunksize, date_format, doublequote, escapechar, decimal, errors, storage_options)\u001b[0m\n\u001b[1;32m   3464\u001b[0m         )\n\u001b[1;32m   3465\u001b[0m \u001b[0;34m\u001b[0m\u001b[0m\n\u001b[0;32m-> 3466\u001b[0;31m         return DataFrameRenderer(formatter).to_csv(\n\u001b[0m\u001b[1;32m   3467\u001b[0m             \u001b[0mpath_or_buf\u001b[0m\u001b[0;34m,\u001b[0m\u001b[0;34m\u001b[0m\u001b[0;34m\u001b[0m\u001b[0m\n\u001b[1;32m   3468\u001b[0m             \u001b[0mline_terminator\u001b[0m\u001b[0;34m=\u001b[0m\u001b[0mline_terminator\u001b[0m\u001b[0;34m,\u001b[0m\u001b[0;34m\u001b[0m\u001b[0;34m\u001b[0m\u001b[0m\n",
      "\u001b[0;32m~/opt/anaconda3/lib/python3.9/site-packages/pandas/io/formats/format.py\u001b[0m in \u001b[0;36mto_csv\u001b[0;34m(self, path_or_buf, encoding, sep, columns, index_label, mode, compression, quoting, quotechar, line_terminator, chunksize, date_format, doublequote, escapechar, errors, storage_options)\u001b[0m\n\u001b[1;32m   1103\u001b[0m             \u001b[0mformatter\u001b[0m\u001b[0;34m=\u001b[0m\u001b[0mself\u001b[0m\u001b[0;34m.\u001b[0m\u001b[0mfmt\u001b[0m\u001b[0;34m,\u001b[0m\u001b[0;34m\u001b[0m\u001b[0;34m\u001b[0m\u001b[0m\n\u001b[1;32m   1104\u001b[0m         )\n\u001b[0;32m-> 1105\u001b[0;31m         \u001b[0mcsv_formatter\u001b[0m\u001b[0;34m.\u001b[0m\u001b[0msave\u001b[0m\u001b[0;34m(\u001b[0m\u001b[0;34m)\u001b[0m\u001b[0;34m\u001b[0m\u001b[0;34m\u001b[0m\u001b[0m\n\u001b[0m\u001b[1;32m   1106\u001b[0m \u001b[0;34m\u001b[0m\u001b[0m\n\u001b[1;32m   1107\u001b[0m         \u001b[0;32mif\u001b[0m \u001b[0mcreated_buffer\u001b[0m\u001b[0;34m:\u001b[0m\u001b[0;34m\u001b[0m\u001b[0;34m\u001b[0m\u001b[0m\n",
      "\u001b[0;32m~/opt/anaconda3/lib/python3.9/site-packages/pandas/io/formats/csvs.py\u001b[0m in \u001b[0;36msave\u001b[0;34m(self)\u001b[0m\n\u001b[1;32m    235\u001b[0m         \"\"\"\n\u001b[1;32m    236\u001b[0m         \u001b[0;31m# apply compression and byte/text conversion\u001b[0m\u001b[0;34m\u001b[0m\u001b[0;34m\u001b[0m\u001b[0m\n\u001b[0;32m--> 237\u001b[0;31m         with get_handle(\n\u001b[0m\u001b[1;32m    238\u001b[0m             \u001b[0mself\u001b[0m\u001b[0;34m.\u001b[0m\u001b[0mfilepath_or_buffer\u001b[0m\u001b[0;34m,\u001b[0m\u001b[0;34m\u001b[0m\u001b[0;34m\u001b[0m\u001b[0m\n\u001b[1;32m    239\u001b[0m             \u001b[0mself\u001b[0m\u001b[0;34m.\u001b[0m\u001b[0mmode\u001b[0m\u001b[0;34m,\u001b[0m\u001b[0;34m\u001b[0m\u001b[0;34m\u001b[0m\u001b[0m\n",
      "\u001b[0;32m~/opt/anaconda3/lib/python3.9/site-packages/pandas/io/common.py\u001b[0m in \u001b[0;36mget_handle\u001b[0;34m(path_or_buf, mode, encoding, compression, memory_map, is_text, errors, storage_options)\u001b[0m\n\u001b[1;32m    700\u001b[0m         \u001b[0;32mif\u001b[0m \u001b[0mioargs\u001b[0m\u001b[0;34m.\u001b[0m\u001b[0mencoding\u001b[0m \u001b[0;32mand\u001b[0m \u001b[0;34m\"b\"\u001b[0m \u001b[0;32mnot\u001b[0m \u001b[0;32min\u001b[0m \u001b[0mioargs\u001b[0m\u001b[0;34m.\u001b[0m\u001b[0mmode\u001b[0m\u001b[0;34m:\u001b[0m\u001b[0;34m\u001b[0m\u001b[0;34m\u001b[0m\u001b[0m\n\u001b[1;32m    701\u001b[0m             \u001b[0;31m# Encoding\u001b[0m\u001b[0;34m\u001b[0m\u001b[0;34m\u001b[0m\u001b[0m\n\u001b[0;32m--> 702\u001b[0;31m             handle = open(\n\u001b[0m\u001b[1;32m    703\u001b[0m                 \u001b[0mhandle\u001b[0m\u001b[0;34m,\u001b[0m\u001b[0;34m\u001b[0m\u001b[0;34m\u001b[0m\u001b[0m\n\u001b[1;32m    704\u001b[0m                 \u001b[0mioargs\u001b[0m\u001b[0;34m.\u001b[0m\u001b[0mmode\u001b[0m\u001b[0;34m,\u001b[0m\u001b[0;34m\u001b[0m\u001b[0;34m\u001b[0m\u001b[0m\n",
      "\u001b[0;31mFileNotFoundError\u001b[0m: [Errno 2] No such file or directory: 'projet/scraping/logicimmo_clean.csv'"
     ]
    }
   ],
   "source": [
    "df.to_csv(r'../scraping/logicimmo_clean.csv',index=False)"
   ]
  },
  {
   "cell_type": "markdown",
   "id": "32ded747",
   "metadata": {},
   "source": [
    "## Modélisation"
   ]
  },
  {
   "cell_type": "code",
   "execution_count": null,
   "id": "88d54e96",
   "metadata": {},
   "outputs": [],
   "source": [
    "X_train, X_test, y_train, y_test = train_test_split(X,y,test_size=0.2)"
   ]
  },
  {
   "cell_type": "code",
   "execution_count": null,
   "id": "a1a5d193",
   "metadata": {},
   "outputs": [],
   "source": [
    "MAE_list = []\n",
    "RMSE_list = []\n",
    "median_abs_err_list = []\n",
    "model_list = []\n",
    "score_list = []\n",
    "mean_error_list = []\n",
    "r2_list = []\n",
    "max_error_list = []\n",
    "variance_list = []\n",
    "percentage_error_list = []"
   ]
  },
  {
   "cell_type": "markdown",
   "id": "1f5afeb1",
   "metadata": {},
   "source": [
    "# Modèles  :"
   ]
  },
  {
   "cell_type": "markdown",
   "id": "4a3b09c1",
   "metadata": {},
   "source": [
    "### 1) Regression linéaire "
   ]
  },
  {
   "cell_type": "code",
   "execution_count": null,
   "id": "c30b7f87",
   "metadata": {},
   "outputs": [],
   "source": [
    "model_lin_reg = LinearRegression()\n",
    "model_lin_reg.fit(X_train,y_train)\n",
    "score_lin_reg = model_lin_reg.score(X_test,y_test)\n",
    "score_list.append(score_lin_reg)\n",
    "score_lin_reg"
   ]
  },
  {
   "cell_type": "code",
   "execution_count": null,
   "id": "c3331df3",
   "metadata": {},
   "outputs": [],
   "source": [
    "cross_val_score(model_lin_reg, X, y, cv=3)"
   ]
  },
  {
   "cell_type": "code",
   "execution_count": null,
   "id": "24762bea",
   "metadata": {},
   "outputs": [],
   "source": [
    "linear_selector = SelectFromModel(LinearRegression(),threshold='mean')\n",
    "linear_selector.fit_transform(X,y)\n",
    "linear_selector.get_support()"
   ]
  },
  {
   "cell_type": "code",
   "execution_count": null,
   "id": "412f9fae",
   "metadata": {},
   "outputs": [],
   "source": [
    "y_pred = model_lin_reg.predict(X_test)\n",
    "print('MAE : ', mean_absolute_error(y_test,y_pred))\n",
    "print('RMSE : ', np.sqrt(mean_squared_error(y_test, y_pred)))\n",
    "print('median absolut error : ', median_absolute_error(y_test, y_pred))\n",
    "print('R2 score : ', r2_score(y_test, y_pred))\n",
    "print('Max error : ', max_error(y_test, y_pred))\n",
    "print('Explained variance : ', explained_variance_score(y_test, y_pred))\n",
    "print('mean abs percentage error : ', mean_absolute_percentage_error(y_test, y_pred))"
   ]
  },
  {
   "cell_type": "code",
   "execution_count": null,
   "id": "492fe397",
   "metadata": {},
   "outputs": [],
   "source": [
    "MAE_list.append(mean_absolute_error(y_test,y_pred))\n",
    "RMSE_list.append(np.sqrt(mean_squared_error(y_test, y_pred)))\n",
    "median_abs_err_list.append(median_absolute_error(y_test, y_pred))\n",
    "r2_list.append(r2_score(y_test, y_pred))\n",
    "max_error_list.append(max_error(y_test, y_pred))\n",
    "variance_list.append(explained_variance_score(y_test, y_pred))\n",
    "percentage_error_list.append(mean_absolute_percentage_error(y_test, y_pred))\n",
    "model_list.append(\"Regression \\nLineaire\")"
   ]
  },
  {
   "cell_type": "code",
   "execution_count": null,
   "id": "2c7c1da2",
   "metadata": {},
   "outputs": [],
   "source": [
    "error_hist = np.abs(y_test - y_pred)\n",
    "mean_error_list.append(error_hist.mean())\n",
    "plt.hist(error_hist, bins=50)\n",
    "plt.show"
   ]
  },
  {
   "cell_type": "code",
   "execution_count": null,
   "id": "ad22d94e",
   "metadata": {},
   "outputs": [],
   "source": [
    "cross_val_score(model_lin_reg, X, y, cv=3, scoring='neg_mean_absolute_error')"
   ]
  },
  {
   "cell_type": "markdown",
   "id": "0f573bb0",
   "metadata": {},
   "source": [
    "### 2) Lasso CV"
   ]
  },
  {
   "cell_type": "code",
   "execution_count": null,
   "id": "e99f70b8",
   "metadata": {},
   "outputs": [],
   "source": [
    "model_lasso_cv = LassoCV(cv=5)\n",
    "model_lasso_cv.fit(X_train, y_train)\n",
    "score_lasso_cv = model_lasso_cv.score(X_test, y_test)\n",
    "score_list.append(score_lasso_cv)\n",
    "score_lasso_cv"
   ]
  },
  {
   "cell_type": "code",
   "execution_count": null,
   "id": "37868138",
   "metadata": {},
   "outputs": [],
   "source": [
    "cross_val_score(model_lasso_cv, X, y, cv=3)"
   ]
  },
  {
   "cell_type": "code",
   "execution_count": null,
   "id": "fe1344dd",
   "metadata": {},
   "outputs": [],
   "source": [
    "lasso_selector = SelectFromModel(LassoCV(cv=3),threshold='mean')\n",
    "lasso_selector.fit_transform(X,y)\n",
    "lasso_selector.get_support()"
   ]
  },
  {
   "cell_type": "code",
   "execution_count": null,
   "id": "a68f4a82",
   "metadata": {},
   "outputs": [],
   "source": [
    "y_pred = model_lasso_cv.predict(X_test)\n",
    "print('MAE : ', mean_absolute_error(y_test,y_pred))\n",
    "print('RMSE : ', np.sqrt(mean_squared_error(y_test, y_pred)))\n",
    "print('median absolut error : ', median_absolute_error(y_test, y_pred))\n",
    "print('R2 score : ', r2_score(y_test, y_pred))\n",
    "print('Max error : ', max_error(y_test, y_pred))\n",
    "print('Explained variance : ', explained_variance_score(y_test, y_pred))\n",
    "print('mean abs percentage error : ', mean_absolute_percentage_error(y_test, y_pred))"
   ]
  },
  {
   "cell_type": "code",
   "execution_count": null,
   "id": "9e8ec2a9",
   "metadata": {},
   "outputs": [],
   "source": [
    "MAE_list.append(mean_absolute_error(y_test,y_pred))\n",
    "RMSE_list.append(np.sqrt(mean_squared_error(y_test, y_pred)))\n",
    "median_abs_err_list.append(median_absolute_error(y_test, y_pred))\n",
    "r2_list.append(r2_score(y_test, y_pred))\n",
    "max_error_list.append(max_error(y_test, y_pred))\n",
    "variance_list.append(explained_variance_score(y_test, y_pred))\n",
    "percentage_error_list.append(mean_absolute_percentage_error(y_test, y_pred))\n",
    "model_list.append(\"Lasso CV\")"
   ]
  },
  {
   "cell_type": "code",
   "execution_count": null,
   "id": "73931a5d",
   "metadata": {},
   "outputs": [],
   "source": [
    "error_hist = np.abs(y_test - y_pred)\n",
    "mean_error_list.append(error_hist.mean())\n",
    "plt.hist(error_hist, bins=50)\n",
    "plt.show"
   ]
  },
  {
   "cell_type": "code",
   "execution_count": null,
   "id": "e77c9854",
   "metadata": {},
   "outputs": [],
   "source": [
    "cross_val_score(model_lasso_cv, X, y, cv=3, scoring='neg_mean_absolute_error')"
   ]
  },
  {
   "cell_type": "markdown",
   "id": "37e09e68",
   "metadata": {},
   "source": [
    "### 3) Ridge"
   ]
  },
  {
   "cell_type": "code",
   "execution_count": null,
   "id": "9c4060cd",
   "metadata": {},
   "outputs": [],
   "source": [
    "model_ridge = Ridge()\n",
    "model_ridge.fit(X_train, y_train)\n",
    "score_ridge = model_ridge.score(X_test, y_test)\n",
    "score_list.append(score_ridge)\n",
    "score_ridge"
   ]
  },
  {
   "cell_type": "code",
   "execution_count": null,
   "id": "9a381c53",
   "metadata": {},
   "outputs": [],
   "source": [
    "cross_val_score(model_ridge, X, y, cv=3)"
   ]
  },
  {
   "cell_type": "code",
   "execution_count": null,
   "id": "724d9445",
   "metadata": {},
   "outputs": [],
   "source": [
    "Ridge_selector = SelectFromModel(Ridge(),threshold='mean')\n",
    "Ridge_selector.fit_transform(X,y)\n",
    "Ridge_selector.get_support()"
   ]
  },
  {
   "cell_type": "code",
   "execution_count": null,
   "id": "ed8b5171",
   "metadata": {},
   "outputs": [],
   "source": [
    "y_pred = model_ridge.predict(X_test)\n",
    "print('MAE : ', mean_absolute_error(y_test,y_pred))\n",
    "print('RMSE : ', np.sqrt(mean_squared_error(y_test, y_pred)))\n",
    "print('median absolut error : ', median_absolute_error(y_test, y_pred))\n",
    "print('R2 score : ', r2_score(y_test, y_pred))\n",
    "print('Max error : ', max_error(y_test, y_pred))\n",
    "print('Explained variance : ', explained_variance_score(y_test, y_pred))\n",
    "print('mean abs percentage error : ', mean_absolute_percentage_error(y_test, y_pred))"
   ]
  },
  {
   "cell_type": "code",
   "execution_count": null,
   "id": "b5f309b2",
   "metadata": {},
   "outputs": [],
   "source": [
    "MAE_list.append(mean_absolute_error(y_test,y_pred))\n",
    "RMSE_list.append(np.sqrt(mean_squared_error(y_test, y_pred)))\n",
    "median_abs_err_list.append(median_absolute_error(y_test, y_pred))\n",
    "r2_list.append(r2_score(y_test, y_pred))\n",
    "max_error_list.append(max_error(y_test, y_pred))\n",
    "variance_list.append(explained_variance_score(y_test, y_pred))\n",
    "percentage_error_list.append(mean_absolute_percentage_error(y_test, y_pred))\n",
    "model_list.append(\"Ridge\")"
   ]
  },
  {
   "cell_type": "code",
   "execution_count": null,
   "id": "4d1e81e7",
   "metadata": {},
   "outputs": [],
   "source": [
    "error_hist = np.abs(y_test - y_pred)\n",
    "mean_error_list.append(error_hist.mean())\n",
    "plt.hist(error_hist, bins=50)\n",
    "plt.show"
   ]
  },
  {
   "cell_type": "code",
   "execution_count": null,
   "id": "28e4f871",
   "metadata": {},
   "outputs": [],
   "source": [
    "cross_val_score(model_ridge, X, y, cv=3, scoring='neg_mean_absolute_error')"
   ]
  },
  {
   "cell_type": "markdown",
   "id": "9b287496",
   "metadata": {},
   "source": [
    "### 4) SVR"
   ]
  },
  {
   "cell_type": "code",
   "execution_count": null,
   "id": "0de1ee38",
   "metadata": {},
   "outputs": [],
   "source": [
    "#model_SVR = SVR(kernel='rbf')\n",
    "#model_SVR.fit(X_train,y_train)\n",
    "#model_SVR.score(X_test,y_test)\n",
    "#score trop faible, process long -> inutile"
   ]
  },
  {
   "cell_type": "markdown",
   "id": "417b6ab9",
   "metadata": {},
   "source": [
    "### 5) SGDClassifier"
   ]
  },
  {
   "cell_type": "code",
   "execution_count": null,
   "id": "94e61ad5",
   "metadata": {},
   "outputs": [],
   "source": [
    "#model_SGD = SGDClassifier(max_iter=1000, tol=0.01)\n",
    "#model_SGD.fit(X_train,y_train)\n",
    "#model_SGD.score(X_test,y_test)"
   ]
  },
  {
   "cell_type": "markdown",
   "id": "8e13b454",
   "metadata": {},
   "source": [
    "### 6) LogisticRegression"
   ]
  },
  {
   "cell_type": "code",
   "execution_count": null,
   "id": "10570a2a",
   "metadata": {},
   "outputs": [],
   "source": [
    "#model_logistic_reg = LogisticRegression()\n",
    "#model_logistic_reg.fit(X_train,y_train)\n",
    "#model_logistic_reg.score(X_test,y_test)"
   ]
  },
  {
   "cell_type": "markdown",
   "id": "3da3380f",
   "metadata": {},
   "source": [
    "### 7) BayesianRidge"
   ]
  },
  {
   "cell_type": "code",
   "execution_count": null,
   "id": "d863046f",
   "metadata": {},
   "outputs": [],
   "source": [
    "model_bayesian = BayesianRidge()\n",
    "model_bayesian.fit(X_train, y_train)\n",
    "score_bayesian = model_bayesian.score(X_test, y_test)\n",
    "score_list.append(score_bayesian)\n",
    "score_bayesian"
   ]
  },
  {
   "cell_type": "code",
   "execution_count": null,
   "id": "d4feaa44",
   "metadata": {},
   "outputs": [],
   "source": [
    "cross_val_score(model_bayesian, X, y, cv=3)"
   ]
  },
  {
   "cell_type": "code",
   "execution_count": null,
   "id": "5ca6b7ec",
   "metadata": {},
   "outputs": [],
   "source": [
    "selector_bayesian = SelectFromModel(BayesianRidge(),threshold='mean')\n",
    "selector_bayesian.fit_transform(X,y)\n",
    "selector_bayesian.get_support()"
   ]
  },
  {
   "cell_type": "code",
   "execution_count": null,
   "id": "a0a8f5e2",
   "metadata": {},
   "outputs": [],
   "source": [
    "y_pred = model_bayesian.predict(X_test)\n",
    "print('MAE : ', mean_absolute_error(y_test,y_pred))\n",
    "print('RMSE : ', np.sqrt(mean_squared_error(y_test, y_pred)))\n",
    "print('median absolut error : ', median_absolute_error(y_test, y_pred))\n",
    "print('R2 score : ', r2_score(y_test, y_pred))\n",
    "print('Max error : ', max_error(y_test, y_pred))\n",
    "print('Explained variance : ', explained_variance_score(y_test, y_pred))\n",
    "print('mean abs percentage error : ', mean_absolute_percentage_error(y_test, y_pred))"
   ]
  },
  {
   "cell_type": "code",
   "execution_count": null,
   "id": "989f1f44",
   "metadata": {},
   "outputs": [],
   "source": [
    "MAE_list.append(mean_absolute_error(y_test,y_pred))\n",
    "RMSE_list.append(np.sqrt(mean_squared_error(y_test, y_pred)))\n",
    "median_abs_err_list.append(median_absolute_error(y_test, y_pred))\n",
    "r2_list.append(r2_score(y_test, y_pred))\n",
    "max_error_list.append(max_error(y_test, y_pred))\n",
    "variance_list.append(explained_variance_score(y_test, y_pred))\n",
    "percentage_error_list.append(mean_absolute_percentage_error(y_test, y_pred))\n",
    "model_list.append(\"Bayesian \\nRidge\")"
   ]
  },
  {
   "cell_type": "code",
   "execution_count": null,
   "id": "1646dad7",
   "metadata": {},
   "outputs": [],
   "source": [
    "error_hist = np.abs(y_test - y_pred)\n",
    "mean_error_list.append(error_hist.mean())\n",
    "plt.hist(error_hist, bins=50)\n",
    "plt.show"
   ]
  },
  {
   "cell_type": "code",
   "execution_count": null,
   "id": "5303a50d",
   "metadata": {},
   "outputs": [],
   "source": [
    "cross_val_score(model_bayesian, X, y, cv=3, scoring='neg_mean_absolute_error')"
   ]
  },
  {
   "cell_type": "markdown",
   "id": "65027bca",
   "metadata": {},
   "source": [
    "### 8) TweedieRegressor"
   ]
  },
  {
   "cell_type": "code",
   "execution_count": null,
   "id": "8858bd3c",
   "metadata": {},
   "outputs": [],
   "source": [
    "model_tweedie = TweedieRegressor(max_iter=1000)\n",
    "model_tweedie.fit(X_train, y_train)\n",
    "score_tweedie = model_tweedie.score(X_test, y_test)\n",
    "score_list.append(score_tweedie)\n",
    "score_tweedie"
   ]
  },
  {
   "cell_type": "code",
   "execution_count": null,
   "id": "7917f57e",
   "metadata": {},
   "outputs": [],
   "source": [
    "cross_val_score(model_tweedie, X, y, cv=3)"
   ]
  },
  {
   "cell_type": "code",
   "execution_count": null,
   "id": "e49da489",
   "metadata": {},
   "outputs": [],
   "source": [
    "selector_tweedie = SelectFromModel(TweedieRegressor(max_iter=1000),threshold='mean')\n",
    "selector_tweedie.fit_transform(X,y)\n",
    "selector_tweedie.get_support()"
   ]
  },
  {
   "cell_type": "code",
   "execution_count": null,
   "id": "fa673ef7",
   "metadata": {},
   "outputs": [],
   "source": [
    "y_pred = model_tweedie.predict(X_test)\n",
    "print('MAE : ', mean_absolute_error(y_test,y_pred))\n",
    "print('RMSE : ', np.sqrt(mean_squared_error(y_test, y_pred)))\n",
    "print('median absolut error : ', median_absolute_error(y_test, y_pred))\n",
    "print('R2 score : ', r2_score(y_test, y_pred))\n",
    "print('Max error : ', max_error(y_test, y_pred))\n",
    "print('Explained variance : ', explained_variance_score(y_test, y_pred))\n",
    "print('mean abs percentage error : ', mean_absolute_percentage_error(y_test, y_pred))"
   ]
  },
  {
   "cell_type": "code",
   "execution_count": null,
   "id": "40b9257e",
   "metadata": {},
   "outputs": [],
   "source": [
    "MAE_list.append(mean_absolute_error(y_test,y_pred))\n",
    "RMSE_list.append(np.sqrt(mean_squared_error(y_test, y_pred)))\n",
    "median_abs_err_list.append(median_absolute_error(y_test, y_pred))\n",
    "r2_list.append(r2_score(y_test, y_pred))\n",
    "max_error_list.append(max_error(y_test, y_pred))\n",
    "variance_list.append(explained_variance_score(y_test, y_pred))\n",
    "percentage_error_list.append(mean_absolute_percentage_error(y_test, y_pred))\n",
    "model_list.append(\"Tweedie \\nRegressor\")"
   ]
  },
  {
   "cell_type": "code",
   "execution_count": null,
   "id": "8db55832",
   "metadata": {},
   "outputs": [],
   "source": [
    "error_hist = np.abs(y_test - y_pred)\n",
    "mean_error_list.append(error_hist.mean())\n",
    "plt.hist(error_hist, bins=50)\n",
    "plt.show"
   ]
  },
  {
   "cell_type": "code",
   "execution_count": null,
   "id": "f1f70972",
   "metadata": {},
   "outputs": [],
   "source": [
    "cross_val_score(model_tweedie, X, y, cv=3, scoring='neg_mean_absolute_error')"
   ]
  },
  {
   "cell_type": "markdown",
   "id": "f28087e2",
   "metadata": {},
   "source": [
    "### 9) Elastic Net"
   ]
  },
  {
   "cell_type": "code",
   "execution_count": null,
   "id": "b52b9724",
   "metadata": {},
   "outputs": [],
   "source": [
    "model_elastic = ElasticNet(alpha=0.01)\n",
    "model_elastic.fit(X_train, y_train)\n",
    "score_elastic = model_elastic.score(X_test, y_test)\n",
    "score_list.append(score_elastic)\n",
    "score_elastic"
   ]
  },
  {
   "cell_type": "code",
   "execution_count": null,
   "id": "08ad4685",
   "metadata": {},
   "outputs": [],
   "source": [
    "cross_val_score(model_elastic, X, y, cv=3)"
   ]
  },
  {
   "cell_type": "code",
   "execution_count": null,
   "id": "c87df97e",
   "metadata": {},
   "outputs": [],
   "source": [
    "selector_elastic = SelectFromModel(ElasticNet(alpha=0.01),threshold='mean')\n",
    "selector_elastic.fit_transform(X,y)\n",
    "selector_elastic.get_support()"
   ]
  },
  {
   "cell_type": "code",
   "execution_count": null,
   "id": "f5310b86",
   "metadata": {},
   "outputs": [],
   "source": [
    "y_pred = model_elastic.predict(X_test)\n",
    "print('MAE : ', mean_absolute_error(y_test,y_pred))\n",
    "print('RMSE : ', np.sqrt(mean_squared_error(y_test, y_pred)))\n",
    "print('median absolut error : ', median_absolute_error(y_test, y_pred))\n",
    "print('R2 score : ', r2_score(y_test, y_pred))\n",
    "print('Max error : ', max_error(y_test, y_pred))\n",
    "print('Explained variance : ', explained_variance_score(y_test, y_pred))\n",
    "print('mean abs percentage error : ', mean_absolute_percentage_error(y_test, y_pred))"
   ]
  },
  {
   "cell_type": "code",
   "execution_count": null,
   "id": "cbcae8f5",
   "metadata": {},
   "outputs": [],
   "source": [
    "MAE_list.append(mean_absolute_error(y_test,y_pred))\n",
    "RMSE_list.append(np.sqrt(mean_squared_error(y_test, y_pred)))\n",
    "median_abs_err_list.append(median_absolute_error(y_test, y_pred))\n",
    "r2_list.append(r2_score(y_test, y_pred))\n",
    "max_error_list.append(max_error(y_test, y_pred))\n",
    "variance_list.append(explained_variance_score(y_test, y_pred))\n",
    "percentage_error_list.append(mean_absolute_percentage_error(y_test, y_pred))\n",
    "model_list.append(\"Elastic \\nNet\")"
   ]
  },
  {
   "cell_type": "code",
   "execution_count": null,
   "id": "26007749",
   "metadata": {
    "scrolled": true
   },
   "outputs": [],
   "source": [
    "error_hist = np.abs(y_test - y_pred)\n",
    "mean_error_list.append(error_hist.mean())\n",
    "plt.hist(error_hist, bins=50)\n",
    "plt.show"
   ]
  },
  {
   "cell_type": "code",
   "execution_count": null,
   "id": "e3f445f6",
   "metadata": {
    "scrolled": false
   },
   "outputs": [],
   "source": [
    "cross_val_score(model_elastic, X, y, cv=3, scoring='neg_mean_absolute_error')"
   ]
  },
  {
   "cell_type": "markdown",
   "id": "49f7ecad",
   "metadata": {},
   "source": [
    "# Comparaisons des modèles"
   ]
  },
  {
   "cell_type": "markdown",
   "id": "e66ce36b",
   "metadata": {},
   "source": [
    "### Résultats :"
   ]
  },
  {
   "cell_type": "markdown",
   "id": "3ff036a1",
   "metadata": {},
   "source": [
    "#### Accuracy "
   ]
  },
  {
   "cell_type": "code",
   "execution_count": null,
   "id": "93f47b08",
   "metadata": {},
   "outputs": [],
   "source": [
    "plt.barh(model_list, score_list)\n",
    "for index, value in enumerate(score_list):\n",
    "    plt.text(value, index, str(value))\n",
    "plt.xlabel('Model')\n",
    "plt.ylabel('Accuracy')"
   ]
  },
  {
   "cell_type": "markdown",
   "id": "3872386b",
   "metadata": {},
   "source": [
    "### Erreurs : "
   ]
  },
  {
   "cell_type": "markdown",
   "id": "26468e8a",
   "metadata": {},
   "source": [
    "#### 1) Mean Error "
   ]
  },
  {
   "cell_type": "code",
   "execution_count": null,
   "id": "3b774910",
   "metadata": {
    "scrolled": true
   },
   "outputs": [],
   "source": [
    "plt.barh(model_list, mean_error_list)\n",
    "for index, value in enumerate(mean_error_list):\n",
    "    plt.text(value, index, str(value))\n",
    "plt.xlabel('Model')\n",
    "plt.ylabel('Mean error')"
   ]
  },
  {
   "cell_type": "markdown",
   "id": "116f2eb5",
   "metadata": {},
   "source": [
    "#### 2) Mean Absolute Error using MAE"
   ]
  },
  {
   "cell_type": "code",
   "execution_count": null,
   "id": "caf66f3b",
   "metadata": {
    "scrolled": true
   },
   "outputs": [],
   "source": [
    "plt.barh(model_list, MAE_list)\n",
    "for index, value in enumerate(MAE_list):\n",
    "    plt.text(value, index, str(value))\n",
    "plt.xlabel('Model')\n",
    "plt.ylabel('MAE')"
   ]
  },
  {
   "cell_type": "markdown",
   "id": "3b597c13",
   "metadata": {},
   "source": [
    "#### 3) Root Mean Square Error (RMSE)"
   ]
  },
  {
   "cell_type": "code",
   "execution_count": null,
   "id": "1538af14",
   "metadata": {},
   "outputs": [],
   "source": [
    "plt.barh(model_list, RMSE_list)\n",
    "for index, value in enumerate(RMSE_list):\n",
    "    plt.text(value, index, str(value))\n",
    "plt.xlabel('Model')\n",
    "plt.ylabel('RMSE')"
   ]
  },
  {
   "cell_type": "markdown",
   "id": "016ef099",
   "metadata": {},
   "source": [
    "#### 4) Median Absolute Error"
   ]
  },
  {
   "cell_type": "code",
   "execution_count": null,
   "id": "3bb1ef2a",
   "metadata": {},
   "outputs": [],
   "source": [
    "plt.barh(model_list, median_abs_err_list)\n",
    "for index, value in enumerate(median_abs_err_list):\n",
    "    plt.text(value, index, str(value))\n",
    "plt.xlabel('Model')\n",
    "plt.ylabel('Median Abs Error')"
   ]
  },
  {
   "cell_type": "markdown",
   "id": "13889662",
   "metadata": {},
   "source": [
    "#### 5) R2 Score (coeficient of determination)"
   ]
  },
  {
   "cell_type": "code",
   "execution_count": null,
   "id": "20dcb1d9",
   "metadata": {},
   "outputs": [],
   "source": [
    "plt.barh(model_list, r2_list)\n",
    "for index, value in enumerate(r2_list):\n",
    "    plt.text(value, index, str(value))\n",
    "plt.xlabel('Model')\n",
    "plt.ylabel('r2 score')"
   ]
  },
  {
   "cell_type": "markdown",
   "id": "0be82dd2",
   "metadata": {},
   "source": [
    "#### 6) Maximum Error "
   ]
  },
  {
   "cell_type": "code",
   "execution_count": null,
   "id": "7b42fcf0",
   "metadata": {},
   "outputs": [],
   "source": [
    "plt.barh(model_list, max_error_list)\n",
    "for index, value in enumerate(max_error_list):\n",
    "    plt.text(value, index, str(value))\n",
    "plt.xlabel('Model')\n",
    "plt.ylabel('Max Error')"
   ]
  },
  {
   "cell_type": "markdown",
   "id": "6e832b67",
   "metadata": {},
   "source": [
    "#### 7) Explained Variance Score "
   ]
  },
  {
   "cell_type": "code",
   "execution_count": null,
   "id": "49ca4018",
   "metadata": {},
   "outputs": [],
   "source": [
    "plt.barh(model_list, variance_list)\n",
    "for index, value in enumerate(variance_list):\n",
    "    plt.text(value, index, str(value))\n",
    "plt.xlabel('Model')\n",
    "plt.ylabel('Explained Variance Score')"
   ]
  },
  {
   "cell_type": "markdown",
   "id": "13e75f2e",
   "metadata": {},
   "source": [
    "#### 8) Mean Absolute Percentage Error"
   ]
  },
  {
   "cell_type": "code",
   "execution_count": null,
   "id": "71c21c31",
   "metadata": {},
   "outputs": [],
   "source": [
    "plt.barh(model_list, percentage_error_list)\n",
    "for index, value in enumerate(percentage_error_list):\n",
    "    plt.text(value, index, str(value))\n",
    "plt.xlabel('Model')\n",
    "plt.ylabel('Mean Abs Percentage Error')"
   ]
  },
  {
   "cell_type": "markdown",
   "id": "b13df349",
   "metadata": {},
   "source": [
    "### Features : "
   ]
  },
  {
   "cell_type": "code",
   "execution_count": null,
   "id": "f26f782b",
   "metadata": {},
   "outputs": [],
   "source": [
    "df.head()"
   ]
  },
  {
   "cell_type": "code",
   "execution_count": null,
   "id": "2e8d0fda",
   "metadata": {},
   "outputs": [],
   "source": [
    "df[['Code Postal','Prix (Euros)', 'Superficie (m2)']]"
   ]
  },
  {
   "cell_type": "code",
   "execution_count": null,
   "id": "11b34a3e",
   "metadata": {},
   "outputs": [],
   "source": [
    "print(df[\"Code Postal\"].value_counts())\n",
    "print(df.groupby('Code Postal')['Prix (Euros)'].mean())"
   ]
  },
  {
   "cell_type": "code",
   "execution_count": null,
   "id": "ad5751e2",
   "metadata": {},
   "outputs": [],
   "source": [
    "print(df[\"Superficie (m2)\"].value_counts())\n",
    "print(df.groupby('Superficie (m2)')['Prix (Euros)'].mean())"
   ]
  },
  {
   "cell_type": "code",
   "execution_count": null,
   "id": "648edc80",
   "metadata": {},
   "outputs": [],
   "source": [
    "print(df[\"Nombre Pieces\"].value_counts())\n",
    "print(df.groupby('Nombre Pieces')['Prix (Euros)'].mean())"
   ]
  },
  {
   "cell_type": "code",
   "execution_count": null,
   "id": "06053d4b",
   "metadata": {},
   "outputs": [],
   "source": [
    "print(df[\"Nombre Chambres\"].value_counts())\n",
    "print(df.groupby('Nombre Chambres')['Prix (Euros)'].mean())"
   ]
  },
  {
   "cell_type": "code",
   "execution_count": null,
   "id": "5369e805",
   "metadata": {},
   "outputs": [],
   "source": [
    "print(df[\"Classe Energetique\"].value_counts())\n",
    "print(df.groupby('Classe Energetique')['Prix (Euros)'].mean())"
   ]
  },
  {
   "cell_type": "code",
   "execution_count": null,
   "id": "aee8ac3a",
   "metadata": {},
   "outputs": [],
   "source": [
    "print(df[\"Nombre Photos\"].value_counts())\n",
    "print(df.groupby('Nombre Photos')['Prix (Euros)'].mean())"
   ]
  },
  {
   "cell_type": "code",
   "execution_count": null,
   "id": "ac734cd8",
   "metadata": {},
   "outputs": [],
   "source": [
    "print(df[\"Etage\"].value_counts())\n",
    "print(df.groupby('Etage')['Prix (Euros)'].mean())"
   ]
  },
  {
   "cell_type": "code",
   "execution_count": null,
   "id": "a96a8d1e",
   "metadata": {},
   "outputs": [],
   "source": [
    "print(df[\"Terrasse\"].value_counts())\n",
    "print(df.groupby('Terrasse')['Prix (Euros)'].mean())"
   ]
  },
  {
   "cell_type": "code",
   "execution_count": null,
   "id": "00323fc7",
   "metadata": {},
   "outputs": [],
   "source": [
    "print(df[\"Parking\"].value_counts())\n",
    "print(df.groupby('Parking')['Prix (Euros)'].mean())"
   ]
  },
  {
   "cell_type": "code",
   "execution_count": null,
   "id": "b746b0ff",
   "metadata": {},
   "outputs": [],
   "source": [
    "print(df[\"Cave\"].value_counts())\n",
    "print(df.groupby('Cave')['Prix (Euros)'].mean())"
   ]
  },
  {
   "cell_type": "code",
   "execution_count": null,
   "id": "a99e3b57",
   "metadata": {},
   "outputs": [],
   "source": [
    "print(df[\"Ascenseur\"].value_counts())\n",
    "print(df.groupby('Ascenseur')['Prix (Euros)'].mean())"
   ]
  },
  {
   "cell_type": "code",
   "execution_count": null,
   "id": "daae56f0",
   "metadata": {},
   "outputs": [],
   "source": [
    "print(df[\"Gardien\"].value_counts())\n",
    "print(df.groupby('Gardien')['Prix (Euros)'].mean())"
   ]
  },
  {
   "cell_type": "code",
   "execution_count": null,
   "id": "7af8ddb2",
   "metadata": {},
   "outputs": [],
   "source": [
    "print(df[\"Renove\"].value_counts())\n",
    "print(df.groupby('Renove')['Prix (Euros)'].mean())"
   ]
  },
  {
   "cell_type": "code",
   "execution_count": null,
   "id": "dda0aa8c",
   "metadata": {},
   "outputs": [],
   "source": [
    "print(df[\"Box\"].value_counts())\n",
    "print(df.groupby('Box')['Prix (Euros)'].mean())"
   ]
  }
 ],
 "metadata": {
  "kernelspec": {
   "display_name": "Python 3 (ipykernel)",
   "language": "python",
   "name": "python3"
  },
  "language_info": {
   "codemirror_mode": {
    "name": "ipython",
    "version": 3
   },
   "file_extension": ".py",
   "mimetype": "text/x-python",
   "name": "python",
   "nbconvert_exporter": "python",
   "pygments_lexer": "ipython3",
   "version": "3.9.7"
  }
 },
 "nbformat": 4,
 "nbformat_minor": 5
}
