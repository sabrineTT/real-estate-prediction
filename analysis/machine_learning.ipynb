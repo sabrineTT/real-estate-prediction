{
 "cells": [
  {
   "cell_type": "markdown",
   "id": "684d74d5",
   "metadata": {},
   "source": [
    "# Imports"
   ]
  },
  {
   "cell_type": "code",
   "execution_count": 360,
   "id": "701a7c28",
   "metadata": {},
   "outputs": [],
   "source": [
    "import pandas as pd\n",
    "import matplotlib.pyplot as plt\n",
    "import numpy as np\n",
    "import seaborn as sns\n",
    "\n",
    "from sklearn.model_selection import train_test_split\n",
    "from sklearn.model_selection import cross_val_score\n",
    "\n",
    "from sklearn.linear_model import LinearRegression, LassoCV, Ridge, LogisticRegression, BayesianRidge, TweedieRegressor, SGDClassifier, ElasticNet \n",
    "from sklearn.svm import SVR\n",
    "\n",
    "\n",
    "from sklearn import tree\n",
    "from sklearn.feature_selection import SelectFromModel\n",
    "from sklearn.preprocessing import StandardScaler\n",
    "\n",
    "from sklearn.metrics import *"
   ]
  },
  {
   "cell_type": "markdown",
   "id": "935ef21a",
   "metadata": {},
   "source": [
    "# DataFrame, Data et Variables"
   ]
  },
  {
   "cell_type": "markdown",
   "id": "62a236e5",
   "metadata": {},
   "source": [
    "### Data Quality"
   ]
  },
  {
   "cell_type": "code",
   "execution_count": 361,
   "id": "d4efb336",
   "metadata": {
    "scrolled": true
   },
   "outputs": [
    {
     "data": {
      "text/html": [
       "<div>\n",
       "<style scoped>\n",
       "    .dataframe tbody tr th:only-of-type {\n",
       "        vertical-align: middle;\n",
       "    }\n",
       "\n",
       "    .dataframe tbody tr th {\n",
       "        vertical-align: top;\n",
       "    }\n",
       "\n",
       "    .dataframe thead th {\n",
       "        text-align: right;\n",
       "    }\n",
       "</style>\n",
       "<table border=\"1\" class=\"dataframe\">\n",
       "  <thead>\n",
       "    <tr style=\"text-align: right;\">\n",
       "      <th></th>\n",
       "      <th>Superficie (m2)</th>\n",
       "      <th>Nombre Pieces</th>\n",
       "      <th>Nombre Chambres</th>\n",
       "      <th>Prix (Euros)</th>\n",
       "      <th>Code Postal</th>\n",
       "      <th>Classe Energetique</th>\n",
       "      <th>Nombre Photos</th>\n",
       "      <th>Etage</th>\n",
       "      <th>Type de Bien</th>\n",
       "      <th>Type Vendeur</th>\n",
       "      <th>Terrasse</th>\n",
       "      <th>Parking</th>\n",
       "      <th>Cave</th>\n",
       "      <th>Ascenseur</th>\n",
       "      <th>Gardien</th>\n",
       "      <th>Renove</th>\n",
       "      <th>Box</th>\n",
       "    </tr>\n",
       "  </thead>\n",
       "  <tbody>\n",
       "    <tr>\n",
       "      <th>3643</th>\n",
       "      <td>417</td>\n",
       "      <td>6</td>\n",
       "      <td>4</td>\n",
       "      <td>9900000</td>\n",
       "      <td>75016</td>\n",
       "      <td>5</td>\n",
       "      <td>10</td>\n",
       "      <td>2</td>\n",
       "      <td>1</td>\n",
       "      <td>1</td>\n",
       "      <td>-1</td>\n",
       "      <td>-1</td>\n",
       "      <td>-1</td>\n",
       "      <td>-1</td>\n",
       "      <td>-1</td>\n",
       "      <td>-1</td>\n",
       "      <td>-1</td>\n",
       "    </tr>\n",
       "    <tr>\n",
       "      <th>3642</th>\n",
       "      <td>416</td>\n",
       "      <td>1</td>\n",
       "      <td>8</td>\n",
       "      <td>9375000</td>\n",
       "      <td>75116</td>\n",
       "      <td>0</td>\n",
       "      <td>10</td>\n",
       "      <td>8</td>\n",
       "      <td>1</td>\n",
       "      <td>1</td>\n",
       "      <td>-1</td>\n",
       "      <td>-1</td>\n",
       "      <td>-1</td>\n",
       "      <td>1</td>\n",
       "      <td>-1</td>\n",
       "      <td>-1</td>\n",
       "      <td>-1</td>\n",
       "    </tr>\n",
       "    <tr>\n",
       "      <th>2302</th>\n",
       "      <td>254</td>\n",
       "      <td>6</td>\n",
       "      <td>3</td>\n",
       "      <td>9225000</td>\n",
       "      <td>75008</td>\n",
       "      <td>2</td>\n",
       "      <td>10</td>\n",
       "      <td>7</td>\n",
       "      <td>1</td>\n",
       "      <td>1</td>\n",
       "      <td>-1</td>\n",
       "      <td>-1</td>\n",
       "      <td>-1</td>\n",
       "      <td>1</td>\n",
       "      <td>-1</td>\n",
       "      <td>-1</td>\n",
       "      <td>-1</td>\n",
       "    </tr>\n",
       "    <tr>\n",
       "      <th>508</th>\n",
       "      <td>254</td>\n",
       "      <td>6</td>\n",
       "      <td>3</td>\n",
       "      <td>9225000</td>\n",
       "      <td>75008</td>\n",
       "      <td>2</td>\n",
       "      <td>10</td>\n",
       "      <td>7</td>\n",
       "      <td>1</td>\n",
       "      <td>1</td>\n",
       "      <td>-1</td>\n",
       "      <td>-1</td>\n",
       "      <td>1</td>\n",
       "      <td>-1</td>\n",
       "      <td>-1</td>\n",
       "      <td>-1</td>\n",
       "      <td>-1</td>\n",
       "    </tr>\n",
       "    <tr>\n",
       "      <th>2301</th>\n",
       "      <td>393</td>\n",
       "      <td>8</td>\n",
       "      <td>3</td>\n",
       "      <td>9000000</td>\n",
       "      <td>75116</td>\n",
       "      <td>0</td>\n",
       "      <td>10</td>\n",
       "      <td>5</td>\n",
       "      <td>1</td>\n",
       "      <td>1</td>\n",
       "      <td>-1</td>\n",
       "      <td>-1</td>\n",
       "      <td>-1</td>\n",
       "      <td>1</td>\n",
       "      <td>-1</td>\n",
       "      <td>-1</td>\n",
       "      <td>-1</td>\n",
       "    </tr>\n",
       "    <tr>\n",
       "      <th>507</th>\n",
       "      <td>393</td>\n",
       "      <td>8</td>\n",
       "      <td>3</td>\n",
       "      <td>9000000</td>\n",
       "      <td>75116</td>\n",
       "      <td>0</td>\n",
       "      <td>10</td>\n",
       "      <td>5</td>\n",
       "      <td>1</td>\n",
       "      <td>1</td>\n",
       "      <td>1</td>\n",
       "      <td>-1</td>\n",
       "      <td>-1</td>\n",
       "      <td>1</td>\n",
       "      <td>-1</td>\n",
       "      <td>-1</td>\n",
       "      <td>-1</td>\n",
       "    </tr>\n",
       "    <tr>\n",
       "      <th>3641</th>\n",
       "      <td>265</td>\n",
       "      <td>6</td>\n",
       "      <td>2</td>\n",
       "      <td>7290000</td>\n",
       "      <td>75116</td>\n",
       "      <td>5</td>\n",
       "      <td>4</td>\n",
       "      <td>3</td>\n",
       "      <td>1</td>\n",
       "      <td>1</td>\n",
       "      <td>-1</td>\n",
       "      <td>-1</td>\n",
       "      <td>-1</td>\n",
       "      <td>-1</td>\n",
       "      <td>-1</td>\n",
       "      <td>-1</td>\n",
       "      <td>-1</td>\n",
       "    </tr>\n",
       "    <tr>\n",
       "      <th>3640</th>\n",
       "      <td>274</td>\n",
       "      <td>7</td>\n",
       "      <td>4</td>\n",
       "      <td>6950000</td>\n",
       "      <td>75007</td>\n",
       "      <td>4</td>\n",
       "      <td>10</td>\n",
       "      <td>-1</td>\n",
       "      <td>1</td>\n",
       "      <td>1</td>\n",
       "      <td>-1</td>\n",
       "      <td>-1</td>\n",
       "      <td>-1</td>\n",
       "      <td>-1</td>\n",
       "      <td>-1</td>\n",
       "      <td>-1</td>\n",
       "      <td>-1</td>\n",
       "    </tr>\n",
       "    <tr>\n",
       "      <th>3639</th>\n",
       "      <td>187</td>\n",
       "      <td>4</td>\n",
       "      <td>2</td>\n",
       "      <td>6600000</td>\n",
       "      <td>75008</td>\n",
       "      <td>0</td>\n",
       "      <td>10</td>\n",
       "      <td>8</td>\n",
       "      <td>1</td>\n",
       "      <td>1</td>\n",
       "      <td>-1</td>\n",
       "      <td>-1</td>\n",
       "      <td>-1</td>\n",
       "      <td>1</td>\n",
       "      <td>-1</td>\n",
       "      <td>-1</td>\n",
       "      <td>-1</td>\n",
       "    </tr>\n",
       "    <tr>\n",
       "      <th>3957</th>\n",
       "      <td>460</td>\n",
       "      <td>8</td>\n",
       "      <td>5</td>\n",
       "      <td>6500000</td>\n",
       "      <td>75116</td>\n",
       "      <td>0</td>\n",
       "      <td>0</td>\n",
       "      <td>3</td>\n",
       "      <td>1</td>\n",
       "      <td>1</td>\n",
       "      <td>-1</td>\n",
       "      <td>-1</td>\n",
       "      <td>-1</td>\n",
       "      <td>-1</td>\n",
       "      <td>-1</td>\n",
       "      <td>-1</td>\n",
       "      <td>-1</td>\n",
       "    </tr>\n",
       "    <tr>\n",
       "      <th>3638</th>\n",
       "      <td>256</td>\n",
       "      <td>8</td>\n",
       "      <td>5</td>\n",
       "      <td>6400000</td>\n",
       "      <td>75016</td>\n",
       "      <td>0</td>\n",
       "      <td>10</td>\n",
       "      <td>6</td>\n",
       "      <td>1</td>\n",
       "      <td>1</td>\n",
       "      <td>-1</td>\n",
       "      <td>-1</td>\n",
       "      <td>-1</td>\n",
       "      <td>-1</td>\n",
       "      <td>-1</td>\n",
       "      <td>-1</td>\n",
       "      <td>-1</td>\n",
       "    </tr>\n",
       "    <tr>\n",
       "      <th>3637</th>\n",
       "      <td>317</td>\n",
       "      <td>6</td>\n",
       "      <td>4</td>\n",
       "      <td>6300000</td>\n",
       "      <td>75017</td>\n",
       "      <td>2</td>\n",
       "      <td>10</td>\n",
       "      <td>2</td>\n",
       "      <td>1</td>\n",
       "      <td>1</td>\n",
       "      <td>-1</td>\n",
       "      <td>-1</td>\n",
       "      <td>-1</td>\n",
       "      <td>-1</td>\n",
       "      <td>-1</td>\n",
       "      <td>-1</td>\n",
       "      <td>-1</td>\n",
       "    </tr>\n",
       "    <tr>\n",
       "      <th>3636</th>\n",
       "      <td>233</td>\n",
       "      <td>6</td>\n",
       "      <td>3</td>\n",
       "      <td>5750000</td>\n",
       "      <td>75007</td>\n",
       "      <td>6</td>\n",
       "      <td>10</td>\n",
       "      <td>2</td>\n",
       "      <td>1</td>\n",
       "      <td>1</td>\n",
       "      <td>-1</td>\n",
       "      <td>-1</td>\n",
       "      <td>-1</td>\n",
       "      <td>1</td>\n",
       "      <td>1</td>\n",
       "      <td>-1</td>\n",
       "      <td>-1</td>\n",
       "    </tr>\n",
       "    <tr>\n",
       "      <th>3635</th>\n",
       "      <td>200</td>\n",
       "      <td>5</td>\n",
       "      <td>3</td>\n",
       "      <td>5700000</td>\n",
       "      <td>75016</td>\n",
       "      <td>0</td>\n",
       "      <td>10</td>\n",
       "      <td>3</td>\n",
       "      <td>1</td>\n",
       "      <td>1</td>\n",
       "      <td>1</td>\n",
       "      <td>-1</td>\n",
       "      <td>-1</td>\n",
       "      <td>-1</td>\n",
       "      <td>-1</td>\n",
       "      <td>-1</td>\n",
       "      <td>-1</td>\n",
       "    </tr>\n",
       "    <tr>\n",
       "      <th>2300</th>\n",
       "      <td>226</td>\n",
       "      <td>5</td>\n",
       "      <td>2</td>\n",
       "      <td>5400000</td>\n",
       "      <td>75009</td>\n",
       "      <td>5</td>\n",
       "      <td>10</td>\n",
       "      <td>2</td>\n",
       "      <td>1</td>\n",
       "      <td>1</td>\n",
       "      <td>-1</td>\n",
       "      <td>-1</td>\n",
       "      <td>-1</td>\n",
       "      <td>-1</td>\n",
       "      <td>-1</td>\n",
       "      <td>-1</td>\n",
       "      <td>-1</td>\n",
       "    </tr>\n",
       "  </tbody>\n",
       "</table>\n",
       "</div>"
      ],
      "text/plain": [
       "      Superficie (m2)  Nombre Pieces  Nombre Chambres  Prix (Euros)  \\\n",
       "3643              417              6                4       9900000   \n",
       "3642              416              1                8       9375000   \n",
       "2302              254              6                3       9225000   \n",
       "508               254              6                3       9225000   \n",
       "2301              393              8                3       9000000   \n",
       "507               393              8                3       9000000   \n",
       "3641              265              6                2       7290000   \n",
       "3640              274              7                4       6950000   \n",
       "3639              187              4                2       6600000   \n",
       "3957              460              8                5       6500000   \n",
       "3638              256              8                5       6400000   \n",
       "3637              317              6                4       6300000   \n",
       "3636              233              6                3       5750000   \n",
       "3635              200              5                3       5700000   \n",
       "2300              226              5                2       5400000   \n",
       "\n",
       "      Code Postal  Classe Energetique  Nombre Photos  Etage  Type de Bien  \\\n",
       "3643        75016                   5             10      2             1   \n",
       "3642        75116                   0             10      8             1   \n",
       "2302        75008                   2             10      7             1   \n",
       "508         75008                   2             10      7             1   \n",
       "2301        75116                   0             10      5             1   \n",
       "507         75116                   0             10      5             1   \n",
       "3641        75116                   5              4      3             1   \n",
       "3640        75007                   4             10     -1             1   \n",
       "3639        75008                   0             10      8             1   \n",
       "3957        75116                   0              0      3             1   \n",
       "3638        75016                   0             10      6             1   \n",
       "3637        75017                   2             10      2             1   \n",
       "3636        75007                   6             10      2             1   \n",
       "3635        75016                   0             10      3             1   \n",
       "2300        75009                   5             10      2             1   \n",
       "\n",
       "      Type Vendeur  Terrasse  Parking  Cave  Ascenseur  Gardien  Renove  Box  \n",
       "3643             1        -1       -1    -1         -1       -1      -1   -1  \n",
       "3642             1        -1       -1    -1          1       -1      -1   -1  \n",
       "2302             1        -1       -1    -1          1       -1      -1   -1  \n",
       "508              1        -1       -1     1         -1       -1      -1   -1  \n",
       "2301             1        -1       -1    -1          1       -1      -1   -1  \n",
       "507              1         1       -1    -1          1       -1      -1   -1  \n",
       "3641             1        -1       -1    -1         -1       -1      -1   -1  \n",
       "3640             1        -1       -1    -1         -1       -1      -1   -1  \n",
       "3639             1        -1       -1    -1          1       -1      -1   -1  \n",
       "3957             1        -1       -1    -1         -1       -1      -1   -1  \n",
       "3638             1        -1       -1    -1         -1       -1      -1   -1  \n",
       "3637             1        -1       -1    -1         -1       -1      -1   -1  \n",
       "3636             1        -1       -1    -1          1        1      -1   -1  \n",
       "3635             1         1       -1    -1         -1       -1      -1   -1  \n",
       "2300             1        -1       -1    -1         -1       -1      -1   -1  "
      ]
     },
     "execution_count": 361,
     "metadata": {},
     "output_type": "execute_result"
    }
   ],
   "source": [
    "df = pd.read_csv('logicimmo - Complet.csv')\n",
    "X = df.drop('Prix (Euros)', axis = 1)\n",
    "y = df['Prix (Euros)']\n",
    "\n",
    "df.sort_values(by=['Prix (Euros)'], ascending=False).head(15)"
   ]
  },
  {
   "cell_type": "code",
   "execution_count": 362,
   "id": "b1401f10",
   "metadata": {},
   "outputs": [
    {
     "name": "stdout",
     "output_type": "stream",
     "text": [
      "9900000\n"
     ]
    }
   ],
   "source": [
    "print(max(y))"
   ]
  },
  {
   "cell_type": "code",
   "execution_count": 363,
   "id": "e6741f99",
   "metadata": {},
   "outputs": [
    {
     "data": {
      "text/plain": [
       "Text(0, 0.5, 'prix')"
      ]
     },
     "execution_count": 363,
     "metadata": {},
     "output_type": "execute_result"
    },
    {
     "data": {
      "image/png": "[encoded data removed]",
      "text/plain": [
       "<Figure size 432x288 with 1 Axes>"
      ]
     },
     "metadata": {
      "needs_background": "light"
     },
     "output_type": "display_data"
    }
   ],
   "source": [
    "ax = df['Prix (Euros)'].plot()\n",
    "ax.set_xlabel(\"appartements\")\n",
    "ax.set_ylabel(\"prix\")"
   ]
  },
  {
   "cell_type": "code",
   "execution_count": 364,
   "id": "891bce31",
   "metadata": {
    "scrolled": true
   },
   "outputs": [
    {
     "data": {
      "image/png": "[encoded data removed]",
      "text/plain": [
       "<Figure size 432x288 with 1 Axes>"
      ]
     },
     "metadata": {
      "needs_background": "light"
     },
     "output_type": "display_data"
    }
   ],
   "source": [
    "plt.hist(y, bins=100)\n",
    "plt.show()\n",
    "#histogramme des prix -> certains atteignent les 9 900 000 €"
   ]
  },
  {
   "cell_type": "markdown",
   "id": "8d35ae9d",
   "metadata": {},
   "source": [
    "Pour éviter que les valeurs extrèmes biaisent le modèle, on ne les prend pas en compte."
   ]
  },
  {
   "cell_type": "code",
   "execution_count": 365,
   "id": "b473eee3",
   "metadata": {
    "scrolled": true
   },
   "outputs": [
    {
     "name": "stdout",
     "output_type": "stream",
     "text": [
      "Nombre de biens supprimés :  224\n"
     ]
    },
    {
     "data": {
      "text/html": [
       "<div>\n",
       "<style scoped>\n",
       "    .dataframe tbody tr th:only-of-type {\n",
       "        vertical-align: middle;\n",
       "    }\n",
       "\n",
       "    .dataframe tbody tr th {\n",
       "        vertical-align: top;\n",
       "    }\n",
       "\n",
       "    .dataframe thead th {\n",
       "        text-align: right;\n",
       "    }\n",
       "</style>\n",
       "<table border=\"1\" class=\"dataframe\">\n",
       "  <thead>\n",
       "    <tr style=\"text-align: right;\">\n",
       "      <th></th>\n",
       "      <th>Superficie (m2)</th>\n",
       "      <th>Nombre Pieces</th>\n",
       "      <th>Nombre Chambres</th>\n",
       "      <th>Prix (Euros)</th>\n",
       "      <th>Code Postal</th>\n",
       "      <th>Classe Energetique</th>\n",
       "      <th>Nombre Photos</th>\n",
       "      <th>Etage</th>\n",
       "      <th>Type de Bien</th>\n",
       "      <th>Type Vendeur</th>\n",
       "      <th>Terrasse</th>\n",
       "      <th>Parking</th>\n",
       "      <th>Cave</th>\n",
       "      <th>Ascenseur</th>\n",
       "      <th>Gardien</th>\n",
       "      <th>Renove</th>\n",
       "      <th>Box</th>\n",
       "    </tr>\n",
       "  </thead>\n",
       "  <tbody>\n",
       "    <tr>\n",
       "      <th>2251</th>\n",
       "      <td>168</td>\n",
       "      <td>6</td>\n",
       "      <td>4</td>\n",
       "      <td>2000000</td>\n",
       "      <td>75009</td>\n",
       "      <td>0</td>\n",
       "      <td>10</td>\n",
       "      <td>2</td>\n",
       "      <td>1</td>\n",
       "      <td>1</td>\n",
       "      <td>-1</td>\n",
       "      <td>-1</td>\n",
       "      <td>-1</td>\n",
       "      <td>-1</td>\n",
       "      <td>-1</td>\n",
       "      <td>-1</td>\n",
       "      <td>-1</td>\n",
       "    </tr>\n",
       "    <tr>\n",
       "      <th>3536</th>\n",
       "      <td>188</td>\n",
       "      <td>7</td>\n",
       "      <td>4</td>\n",
       "      <td>1990000</td>\n",
       "      <td>75016</td>\n",
       "      <td>4</td>\n",
       "      <td>10</td>\n",
       "      <td>3</td>\n",
       "      <td>1</td>\n",
       "      <td>1</td>\n",
       "      <td>-1</td>\n",
       "      <td>-1</td>\n",
       "      <td>-1</td>\n",
       "      <td>-1</td>\n",
       "      <td>-1</td>\n",
       "      <td>-1</td>\n",
       "      <td>-1</td>\n",
       "    </tr>\n",
       "    <tr>\n",
       "      <th>2250</th>\n",
       "      <td>188</td>\n",
       "      <td>7</td>\n",
       "      <td>4</td>\n",
       "      <td>1990000</td>\n",
       "      <td>75016</td>\n",
       "      <td>4</td>\n",
       "      <td>10</td>\n",
       "      <td>3</td>\n",
       "      <td>1</td>\n",
       "      <td>1</td>\n",
       "      <td>1</td>\n",
       "      <td>1</td>\n",
       "      <td>1</td>\n",
       "      <td>1</td>\n",
       "      <td>-1</td>\n",
       "      <td>-1</td>\n",
       "      <td>-1</td>\n",
       "    </tr>\n",
       "    <tr>\n",
       "      <th>2249</th>\n",
       "      <td>133</td>\n",
       "      <td>5</td>\n",
       "      <td>3</td>\n",
       "      <td>1990000</td>\n",
       "      <td>75016</td>\n",
       "      <td>0</td>\n",
       "      <td>1</td>\n",
       "      <td>2</td>\n",
       "      <td>1</td>\n",
       "      <td>1</td>\n",
       "      <td>1</td>\n",
       "      <td>-1</td>\n",
       "      <td>1</td>\n",
       "      <td>1</td>\n",
       "      <td>-1</td>\n",
       "      <td>-1</td>\n",
       "      <td>-1</td>\n",
       "    </tr>\n",
       "    <tr>\n",
       "      <th>2248</th>\n",
       "      <td>100</td>\n",
       "      <td>3</td>\n",
       "      <td>2</td>\n",
       "      <td>1990000</td>\n",
       "      <td>75001</td>\n",
       "      <td>0</td>\n",
       "      <td>10</td>\n",
       "      <td>4</td>\n",
       "      <td>1</td>\n",
       "      <td>1</td>\n",
       "      <td>-1</td>\n",
       "      <td>-1</td>\n",
       "      <td>1</td>\n",
       "      <td>1</td>\n",
       "      <td>-1</td>\n",
       "      <td>-1</td>\n",
       "      <td>-1</td>\n",
       "    </tr>\n",
       "    <tr>\n",
       "      <th>462</th>\n",
       "      <td>133</td>\n",
       "      <td>5</td>\n",
       "      <td>3</td>\n",
       "      <td>1990000</td>\n",
       "      <td>75016</td>\n",
       "      <td>0</td>\n",
       "      <td>1</td>\n",
       "      <td>2</td>\n",
       "      <td>1</td>\n",
       "      <td>1</td>\n",
       "      <td>-1</td>\n",
       "      <td>-1</td>\n",
       "      <td>1</td>\n",
       "      <td>1</td>\n",
       "      <td>-1</td>\n",
       "      <td>-1</td>\n",
       "      <td>-1</td>\n",
       "    </tr>\n",
       "    <tr>\n",
       "      <th>461</th>\n",
       "      <td>188</td>\n",
       "      <td>7</td>\n",
       "      <td>4</td>\n",
       "      <td>1990000</td>\n",
       "      <td>75016</td>\n",
       "      <td>4</td>\n",
       "      <td>10</td>\n",
       "      <td>3</td>\n",
       "      <td>1</td>\n",
       "      <td>1</td>\n",
       "      <td>-1</td>\n",
       "      <td>-1</td>\n",
       "      <td>1</td>\n",
       "      <td>-1</td>\n",
       "      <td>-1</td>\n",
       "      <td>-1</td>\n",
       "      <td>-1</td>\n",
       "    </tr>\n",
       "    <tr>\n",
       "      <th>460</th>\n",
       "      <td>100</td>\n",
       "      <td>3</td>\n",
       "      <td>2</td>\n",
       "      <td>1990000</td>\n",
       "      <td>75001</td>\n",
       "      <td>0</td>\n",
       "      <td>10</td>\n",
       "      <td>4</td>\n",
       "      <td>1</td>\n",
       "      <td>1</td>\n",
       "      <td>-1</td>\n",
       "      <td>-1</td>\n",
       "      <td>-1</td>\n",
       "      <td>1</td>\n",
       "      <td>-1</td>\n",
       "      <td>-1</td>\n",
       "      <td>-1</td>\n",
       "    </tr>\n",
       "    <tr>\n",
       "      <th>3535</th>\n",
       "      <td>138</td>\n",
       "      <td>5</td>\n",
       "      <td>3</td>\n",
       "      <td>1984000</td>\n",
       "      <td>75008</td>\n",
       "      <td>2</td>\n",
       "      <td>10</td>\n",
       "      <td>5</td>\n",
       "      <td>1</td>\n",
       "      <td>1</td>\n",
       "      <td>-1</td>\n",
       "      <td>-1</td>\n",
       "      <td>-1</td>\n",
       "      <td>-1</td>\n",
       "      <td>-1</td>\n",
       "      <td>-1</td>\n",
       "      <td>-1</td>\n",
       "    </tr>\n",
       "    <tr>\n",
       "      <th>3937</th>\n",
       "      <td>156</td>\n",
       "      <td>1</td>\n",
       "      <td>5</td>\n",
       "      <td>1980000</td>\n",
       "      <td>75005</td>\n",
       "      <td>6</td>\n",
       "      <td>10</td>\n",
       "      <td>2</td>\n",
       "      <td>1</td>\n",
       "      <td>1</td>\n",
       "      <td>-1</td>\n",
       "      <td>-1</td>\n",
       "      <td>-1</td>\n",
       "      <td>-1</td>\n",
       "      <td>-1</td>\n",
       "      <td>-1</td>\n",
       "      <td>-1</td>\n",
       "    </tr>\n",
       "    <tr>\n",
       "      <th>459</th>\n",
       "      <td>157</td>\n",
       "      <td>6</td>\n",
       "      <td>4</td>\n",
       "      <td>1975000</td>\n",
       "      <td>75009</td>\n",
       "      <td>4</td>\n",
       "      <td>10</td>\n",
       "      <td>3</td>\n",
       "      <td>1</td>\n",
       "      <td>1</td>\n",
       "      <td>-1</td>\n",
       "      <td>-1</td>\n",
       "      <td>1</td>\n",
       "      <td>1</td>\n",
       "      <td>-1</td>\n",
       "      <td>-1</td>\n",
       "      <td>-1</td>\n",
       "    </tr>\n",
       "    <tr>\n",
       "      <th>3534</th>\n",
       "      <td>150</td>\n",
       "      <td>5</td>\n",
       "      <td>4</td>\n",
       "      <td>1975000</td>\n",
       "      <td>75016</td>\n",
       "      <td>4</td>\n",
       "      <td>10</td>\n",
       "      <td>-1</td>\n",
       "      <td>1</td>\n",
       "      <td>1</td>\n",
       "      <td>-1</td>\n",
       "      <td>-1</td>\n",
       "      <td>-1</td>\n",
       "      <td>-1</td>\n",
       "      <td>-1</td>\n",
       "      <td>-1</td>\n",
       "      <td>-1</td>\n",
       "    </tr>\n",
       "    <tr>\n",
       "      <th>2247</th>\n",
       "      <td>157</td>\n",
       "      <td>6</td>\n",
       "      <td>4</td>\n",
       "      <td>1975000</td>\n",
       "      <td>75009</td>\n",
       "      <td>4</td>\n",
       "      <td>10</td>\n",
       "      <td>3</td>\n",
       "      <td>1</td>\n",
       "      <td>1</td>\n",
       "      <td>-1</td>\n",
       "      <td>-1</td>\n",
       "      <td>1</td>\n",
       "      <td>1</td>\n",
       "      <td>1</td>\n",
       "      <td>-1</td>\n",
       "      <td>-1</td>\n",
       "    </tr>\n",
       "    <tr>\n",
       "      <th>458</th>\n",
       "      <td>168</td>\n",
       "      <td>6</td>\n",
       "      <td>4</td>\n",
       "      <td>1975000</td>\n",
       "      <td>75009</td>\n",
       "      <td>2</td>\n",
       "      <td>10</td>\n",
       "      <td>1</td>\n",
       "      <td>1</td>\n",
       "      <td>1</td>\n",
       "      <td>-1</td>\n",
       "      <td>-1</td>\n",
       "      <td>1</td>\n",
       "      <td>-1</td>\n",
       "      <td>-1</td>\n",
       "      <td>-1</td>\n",
       "      <td>-1</td>\n",
       "    </tr>\n",
       "    <tr>\n",
       "      <th>3533</th>\n",
       "      <td>174</td>\n",
       "      <td>5</td>\n",
       "      <td>3</td>\n",
       "      <td>1970000</td>\n",
       "      <td>75007</td>\n",
       "      <td>5</td>\n",
       "      <td>6</td>\n",
       "      <td>-1</td>\n",
       "      <td>1</td>\n",
       "      <td>1</td>\n",
       "      <td>1</td>\n",
       "      <td>-1</td>\n",
       "      <td>1</td>\n",
       "      <td>1</td>\n",
       "      <td>-1</td>\n",
       "      <td>-1</td>\n",
       "      <td>-1</td>\n",
       "    </tr>\n",
       "  </tbody>\n",
       "</table>\n",
       "</div>"
      ],
      "text/plain": [
       "      Superficie (m2)  Nombre Pieces  Nombre Chambres  Prix (Euros)  \\\n",
       "2251              168              6                4       2000000   \n",
       "3536              188              7                4       1990000   \n",
       "2250              188              7                4       1990000   \n",
       "2249              133              5                3       1990000   \n",
       "2248              100              3                2       1990000   \n",
       "462               133              5                3       1990000   \n",
       "461               188              7                4       1990000   \n",
       "460               100              3                2       1990000   \n",
       "3535              138              5                3       1984000   \n",
       "3937              156              1                5       1980000   \n",
       "459               157              6                4       1975000   \n",
       "3534              150              5                4       1975000   \n",
       "2247              157              6                4       1975000   \n",
       "458               168              6                4       1975000   \n",
       "3533              174              5                3       1970000   \n",
       "\n",
       "      Code Postal  Classe Energetique  Nombre Photos  Etage  Type de Bien  \\\n",
       "2251        75009                   0             10      2             1   \n",
       "3536        75016                   4             10      3             1   \n",
       "2250        75016                   4             10      3             1   \n",
       "2249        75016                   0              1      2             1   \n",
       "2248        75001                   0             10      4             1   \n",
       "462         75016                   0              1      2             1   \n",
       "461         75016                   4             10      3             1   \n",
       "460         75001                   0             10      4             1   \n",
       "3535        75008                   2             10      5             1   \n",
       "3937        75005                   6             10      2             1   \n",
       "459         75009                   4             10      3             1   \n",
       "3534        75016                   4             10     -1             1   \n",
       "2247        75009                   4             10      3             1   \n",
       "458         75009                   2             10      1             1   \n",
       "3533        75007                   5              6     -1             1   \n",
       "\n",
       "      Type Vendeur  Terrasse  Parking  Cave  Ascenseur  Gardien  Renove  Box  \n",
       "2251             1        -1       -1    -1         -1       -1      -1   -1  \n",
       "3536             1        -1       -1    -1         -1       -1      -1   -1  \n",
       "2250             1         1        1     1          1       -1      -1   -1  \n",
       "2249             1         1       -1     1          1       -1      -1   -1  \n",
       "2248             1        -1       -1     1          1       -1      -1   -1  \n",
       "462              1        -1       -1     1          1       -1      -1   -1  \n",
       "461              1        -1       -1     1         -1       -1      -1   -1  \n",
       "460              1        -1       -1    -1          1       -1      -1   -1  \n",
       "3535             1        -1       -1    -1         -1       -1      -1   -1  \n",
       "3937             1        -1       -1    -1         -1       -1      -1   -1  \n",
       "459              1        -1       -1     1          1       -1      -1   -1  \n",
       "3534             1        -1       -1    -1         -1       -1      -1   -1  \n",
       "2247             1        -1       -1     1          1        1      -1   -1  \n",
       "458              1        -1       -1     1         -1       -1      -1   -1  \n",
       "3533             1         1       -1     1          1       -1      -1   -1  "
      ]
     },
     "execution_count": 365,
     "metadata": {},
     "output_type": "execute_result"
    }
   ],
   "source": [
    "compteur = 0\n",
    "for prix in y :\n",
    "    if prix > 2000000 :\n",
    "        compteur += 1\n",
    "        df.drop(df[df['Prix (Euros)'] == prix].index, inplace = True)\n",
    "\n",
    "print(\"Nombre de biens supprimés : \",compteur)\n",
    "\n",
    "X = df.drop('Prix (Euros)', axis = 1)\n",
    "y = df['Prix (Euros)']\n",
    "\n",
    "df.sort_values(by=['Prix (Euros)'], ascending=False).head(15)"
   ]
  },
  {
   "cell_type": "code",
   "execution_count": 366,
   "id": "c2ff272b",
   "metadata": {},
   "outputs": [
    {
     "data": {
      "text/plain": [
       "(6751, 17)"
      ]
     },
     "execution_count": 366,
     "metadata": {},
     "output_type": "execute_result"
    }
   ],
   "source": [
    "df.shape"
   ]
  },
  {
   "cell_type": "code",
   "execution_count": 367,
   "id": "2ccce335",
   "metadata": {},
   "outputs": [
    {
     "data": {
      "text/plain": [
       "Superficie (m2)       0\n",
       "Nombre Pieces         0\n",
       "Nombre Chambres       0\n",
       "Prix (Euros)          0\n",
       "Code Postal           0\n",
       "Classe Energetique    0\n",
       "Nombre Photos         0\n",
       "Etage                 0\n",
       "Type de Bien          0\n",
       "Type Vendeur          0\n",
       "Terrasse              0\n",
       "Parking               0\n",
       "Cave                  0\n",
       "Ascenseur             0\n",
       "Gardien               0\n",
       "Renove                0\n",
       "Box                   0\n",
       "dtype: int64"
      ]
     },
     "execution_count": 367,
     "metadata": {},
     "output_type": "execute_result"
    }
   ],
   "source": [
    "df.isnull().sum()"
   ]
  },
  {
   "cell_type": "code",
   "execution_count": 368,
   "id": "5c4f83c0",
   "metadata": {
    "scrolled": true
   },
   "outputs": [
    {
     "data": {
      "text/plain": [
       "1039"
      ]
     },
     "execution_count": 368,
     "metadata": {},
     "output_type": "execute_result"
    }
   ],
   "source": [
    "df.duplicated().sum()\n",
    "#Pas de variable ID_appartement => Pas nécessairement des doublons, justes des appartements avec les mêmes données"
   ]
  },
  {
   "cell_type": "code",
   "execution_count": 369,
   "id": "7e050d25",
   "metadata": {
    "scrolled": false
   },
   "outputs": [
    {
     "data": {
      "text/plain": [
       "1    6751\n",
       "Name: Type de Bien, dtype: int64"
      ]
     },
     "execution_count": 369,
     "metadata": {},
     "output_type": "execute_result"
    }
   ],
   "source": [
    "df['Type de Bien'].value_counts()\n",
    "#Uniquement des appartements"
   ]
  },
  {
   "cell_type": "code",
   "execution_count": 370,
   "id": "75e32867",
   "metadata": {},
   "outputs": [
    {
     "data": {
      "text/plain": [
       "1    6751\n",
       "Name: Type Vendeur, dtype: int64"
      ]
     },
     "execution_count": 370,
     "metadata": {},
     "output_type": "execute_result"
    }
   ],
   "source": [
    "df['Type Vendeur'].value_counts()\n",
    "#Uniquement des vendeurs Pro"
   ]
  },
  {
   "cell_type": "code",
   "execution_count": 371,
   "id": "c5d9d541",
   "metadata": {
    "scrolled": true
   },
   "outputs": [
    {
     "data": {
      "image/png": "[encoded data removed]",
      "text/plain": [
       "<Figure size 864x720 with 2 Axes>"
      ]
     },
     "metadata": {
      "needs_background": "light"
     },
     "output_type": "display_data"
    }
   ],
   "source": [
    "corr = df.corr(method='pearson')\n",
    "plt.figure(figsize=(12, 10))\n",
    "sns.heatmap(corr, annot=True)\n",
    "plt.show()"
   ]
  },
  {
   "cell_type": "code",
   "execution_count": 372,
   "id": "b32adc2d",
   "metadata": {},
   "outputs": [
    {
     "data": {
      "text/html": [
       "<div>\n",
       "<style scoped>\n",
       "    .dataframe tbody tr th:only-of-type {\n",
       "        vertical-align: middle;\n",
       "    }\n",
       "\n",
       "    .dataframe tbody tr th {\n",
       "        vertical-align: top;\n",
       "    }\n",
       "\n",
       "    .dataframe thead th {\n",
       "        text-align: right;\n",
       "    }\n",
       "</style>\n",
       "<table border=\"1\" class=\"dataframe\">\n",
       "  <thead>\n",
       "    <tr style=\"text-align: right;\">\n",
       "      <th></th>\n",
       "      <th>Superficie (m2)</th>\n",
       "      <th>Nombre Pieces</th>\n",
       "      <th>Nombre Chambres</th>\n",
       "      <th>Prix (Euros)</th>\n",
       "      <th>Code Postal</th>\n",
       "      <th>Classe Energetique</th>\n",
       "      <th>Nombre Photos</th>\n",
       "      <th>Etage</th>\n",
       "      <th>Type de Bien</th>\n",
       "      <th>Type Vendeur</th>\n",
       "      <th>Terrasse</th>\n",
       "      <th>Parking</th>\n",
       "      <th>Cave</th>\n",
       "      <th>Ascenseur</th>\n",
       "      <th>Gardien</th>\n",
       "      <th>Renove</th>\n",
       "      <th>Box</th>\n",
       "    </tr>\n",
       "  </thead>\n",
       "  <tbody>\n",
       "    <tr>\n",
       "      <th>0</th>\n",
       "      <td>64</td>\n",
       "      <td>3</td>\n",
       "      <td>2</td>\n",
       "      <td>830000</td>\n",
       "      <td>75017</td>\n",
       "      <td>5</td>\n",
       "      <td>1</td>\n",
       "      <td>3</td>\n",
       "      <td>1</td>\n",
       "      <td>1</td>\n",
       "      <td>-1</td>\n",
       "      <td>-1</td>\n",
       "      <td>-1</td>\n",
       "      <td>-1</td>\n",
       "      <td>-1</td>\n",
       "      <td>-1</td>\n",
       "      <td>-1</td>\n",
       "    </tr>\n",
       "    <tr>\n",
       "      <th>1</th>\n",
       "      <td>122</td>\n",
       "      <td>5</td>\n",
       "      <td>5</td>\n",
       "      <td>1470000</td>\n",
       "      <td>75015</td>\n",
       "      <td>0</td>\n",
       "      <td>10</td>\n",
       "      <td>3</td>\n",
       "      <td>1</td>\n",
       "      <td>1</td>\n",
       "      <td>1</td>\n",
       "      <td>1</td>\n",
       "      <td>1</td>\n",
       "      <td>1</td>\n",
       "      <td>-1</td>\n",
       "      <td>-1</td>\n",
       "      <td>1</td>\n",
       "    </tr>\n",
       "    <tr>\n",
       "      <th>2</th>\n",
       "      <td>5</td>\n",
       "      <td>1</td>\n",
       "      <td>0</td>\n",
       "      <td>65000</td>\n",
       "      <td>75116</td>\n",
       "      <td>5</td>\n",
       "      <td>6</td>\n",
       "      <td>6</td>\n",
       "      <td>1</td>\n",
       "      <td>1</td>\n",
       "      <td>-1</td>\n",
       "      <td>-1</td>\n",
       "      <td>-1</td>\n",
       "      <td>1</td>\n",
       "      <td>1</td>\n",
       "      <td>1</td>\n",
       "      <td>-1</td>\n",
       "    </tr>\n",
       "    <tr>\n",
       "      <th>3</th>\n",
       "      <td>7</td>\n",
       "      <td>1</td>\n",
       "      <td>0</td>\n",
       "      <td>80000</td>\n",
       "      <td>75015</td>\n",
       "      <td>0</td>\n",
       "      <td>4</td>\n",
       "      <td>7</td>\n",
       "      <td>1</td>\n",
       "      <td>1</td>\n",
       "      <td>-1</td>\n",
       "      <td>-1</td>\n",
       "      <td>-1</td>\n",
       "      <td>-1</td>\n",
       "      <td>1</td>\n",
       "      <td>-1</td>\n",
       "      <td>-1</td>\n",
       "    </tr>\n",
       "    <tr>\n",
       "      <th>4</th>\n",
       "      <td>8</td>\n",
       "      <td>1</td>\n",
       "      <td>0</td>\n",
       "      <td>87000</td>\n",
       "      <td>75006</td>\n",
       "      <td>0</td>\n",
       "      <td>4</td>\n",
       "      <td>6</td>\n",
       "      <td>1</td>\n",
       "      <td>1</td>\n",
       "      <td>-1</td>\n",
       "      <td>-1</td>\n",
       "      <td>-1</td>\n",
       "      <td>1</td>\n",
       "      <td>1</td>\n",
       "      <td>-1</td>\n",
       "      <td>-1</td>\n",
       "    </tr>\n",
       "    <tr>\n",
       "      <th>...</th>\n",
       "      <td>...</td>\n",
       "      <td>...</td>\n",
       "      <td>...</td>\n",
       "      <td>...</td>\n",
       "      <td>...</td>\n",
       "      <td>...</td>\n",
       "      <td>...</td>\n",
       "      <td>...</td>\n",
       "      <td>...</td>\n",
       "      <td>...</td>\n",
       "      <td>...</td>\n",
       "      <td>...</td>\n",
       "      <td>...</td>\n",
       "      <td>...</td>\n",
       "      <td>...</td>\n",
       "      <td>...</td>\n",
       "      <td>...</td>\n",
       "    </tr>\n",
       "    <tr>\n",
       "      <th>6970</th>\n",
       "      <td>72</td>\n",
       "      <td>3</td>\n",
       "      <td>2</td>\n",
       "      <td>870000</td>\n",
       "      <td>75016</td>\n",
       "      <td>4</td>\n",
       "      <td>10</td>\n",
       "      <td>2</td>\n",
       "      <td>1</td>\n",
       "      <td>1</td>\n",
       "      <td>-1</td>\n",
       "      <td>-1</td>\n",
       "      <td>1</td>\n",
       "      <td>-1</td>\n",
       "      <td>-1</td>\n",
       "      <td>-1</td>\n",
       "      <td>-1</td>\n",
       "    </tr>\n",
       "    <tr>\n",
       "      <th>6971</th>\n",
       "      <td>61</td>\n",
       "      <td>3</td>\n",
       "      <td>2</td>\n",
       "      <td>870000</td>\n",
       "      <td>75002</td>\n",
       "      <td>5</td>\n",
       "      <td>10</td>\n",
       "      <td>7</td>\n",
       "      <td>1</td>\n",
       "      <td>1</td>\n",
       "      <td>-1</td>\n",
       "      <td>-1</td>\n",
       "      <td>1</td>\n",
       "      <td>1</td>\n",
       "      <td>-1</td>\n",
       "      <td>-1</td>\n",
       "      <td>-1</td>\n",
       "    </tr>\n",
       "    <tr>\n",
       "      <th>6972</th>\n",
       "      <td>77</td>\n",
       "      <td>2</td>\n",
       "      <td>1</td>\n",
       "      <td>870000</td>\n",
       "      <td>75004</td>\n",
       "      <td>4</td>\n",
       "      <td>10</td>\n",
       "      <td>3</td>\n",
       "      <td>1</td>\n",
       "      <td>1</td>\n",
       "      <td>-1</td>\n",
       "      <td>-1</td>\n",
       "      <td>1</td>\n",
       "      <td>-1</td>\n",
       "      <td>-1</td>\n",
       "      <td>-1</td>\n",
       "      <td>-1</td>\n",
       "    </tr>\n",
       "    <tr>\n",
       "      <th>6973</th>\n",
       "      <td>95</td>\n",
       "      <td>4</td>\n",
       "      <td>3</td>\n",
       "      <td>870000</td>\n",
       "      <td>75010</td>\n",
       "      <td>0</td>\n",
       "      <td>8</td>\n",
       "      <td>1</td>\n",
       "      <td>1</td>\n",
       "      <td>1</td>\n",
       "      <td>-1</td>\n",
       "      <td>-1</td>\n",
       "      <td>1</td>\n",
       "      <td>-1</td>\n",
       "      <td>-1</td>\n",
       "      <td>1</td>\n",
       "      <td>-1</td>\n",
       "    </tr>\n",
       "    <tr>\n",
       "      <th>6974</th>\n",
       "      <td>75</td>\n",
       "      <td>4</td>\n",
       "      <td>3</td>\n",
       "      <td>870000</td>\n",
       "      <td>75010</td>\n",
       "      <td>4</td>\n",
       "      <td>10</td>\n",
       "      <td>5</td>\n",
       "      <td>1</td>\n",
       "      <td>1</td>\n",
       "      <td>1</td>\n",
       "      <td>-1</td>\n",
       "      <td>-1</td>\n",
       "      <td>-1</td>\n",
       "      <td>-1</td>\n",
       "      <td>-1</td>\n",
       "      <td>-1</td>\n",
       "    </tr>\n",
       "  </tbody>\n",
       "</table>\n",
       "<p>6751 rows × 17 columns</p>\n",
       "</div>"
      ],
      "text/plain": [
       "      Superficie (m2)  Nombre Pieces  Nombre Chambres  Prix (Euros)  \\\n",
       "0                  64              3                2        830000   \n",
       "1                 122              5                5       1470000   \n",
       "2                   5              1                0         65000   \n",
       "3                   7              1                0         80000   \n",
       "4                   8              1                0         87000   \n",
       "...               ...            ...              ...           ...   \n",
       "6970               72              3                2        870000   \n",
       "6971               61              3                2        870000   \n",
       "6972               77              2                1        870000   \n",
       "6973               95              4                3        870000   \n",
       "6974               75              4                3        870000   \n",
       "\n",
       "      Code Postal  Classe Energetique  Nombre Photos  Etage  Type de Bien  \\\n",
       "0           75017                   5              1      3             1   \n",
       "1           75015                   0             10      3             1   \n",
       "2           75116                   5              6      6             1   \n",
       "3           75015                   0              4      7             1   \n",
       "4           75006                   0              4      6             1   \n",
       "...           ...                 ...            ...    ...           ...   \n",
       "6970        75016                   4             10      2             1   \n",
       "6971        75002                   5             10      7             1   \n",
       "6972        75004                   4             10      3             1   \n",
       "6973        75010                   0              8      1             1   \n",
       "6974        75010                   4             10      5             1   \n",
       "\n",
       "      Type Vendeur  Terrasse  Parking  Cave  Ascenseur  Gardien  Renove  Box  \n",
       "0                1        -1       -1    -1         -1       -1      -1   -1  \n",
       "1                1         1        1     1          1       -1      -1    1  \n",
       "2                1        -1       -1    -1          1        1       1   -1  \n",
       "3                1        -1       -1    -1         -1        1      -1   -1  \n",
       "4                1        -1       -1    -1          1        1      -1   -1  \n",
       "...            ...       ...      ...   ...        ...      ...     ...  ...  \n",
       "6970             1        -1       -1     1         -1       -1      -1   -1  \n",
       "6971             1        -1       -1     1          1       -1      -1   -1  \n",
       "6972             1        -1       -1     1         -1       -1      -1   -1  \n",
       "6973             1        -1       -1     1         -1       -1       1   -1  \n",
       "6974             1         1       -1    -1         -1       -1      -1   -1  \n",
       "\n",
       "[6751 rows x 17 columns]"
      ]
     },
     "execution_count": 372,
     "metadata": {},
     "output_type": "execute_result"
    }
   ],
   "source": [
    "df_dummies = pd.get_dummies(df)\n",
    "df_dummies\n",
    "#Aucun changement => que des données numériques\n",
    "#Donc aucunes modification à faire pour utiliser le df avec un modèle de régression"
   ]
  },
  {
   "cell_type": "markdown",
   "id": "32ded747",
   "metadata": {},
   "source": [
    "## Modélisation"
   ]
  },
  {
   "cell_type": "code",
   "execution_count": 373,
   "id": "88d54e96",
   "metadata": {},
   "outputs": [],
   "source": [
    "X_train, X_test, y_train, y_test = train_test_split(X,y,test_size=0.2)"
   ]
  },
  {
   "cell_type": "code",
   "execution_count": 374,
   "id": "a1a5d193",
   "metadata": {},
   "outputs": [],
   "source": [
    "MAE_list = []\n",
    "RMSE_list = []\n",
    "median_abs_err_list = []\n",
    "model_list = []\n",
    "score_list = []\n",
    "mean_error_list = []\n",
    "r2_list = []\n",
    "max_error_list = []\n",
    "variance_list = []\n",
    "percentage_error_list = []"
   ]
  },
  {
   "cell_type": "markdown",
   "id": "1f5afeb1",
   "metadata": {},
   "source": [
    "# Modèles  :"
   ]
  },
  {
   "cell_type": "markdown",
   "id": "4a3b09c1",
   "metadata": {},
   "source": [
    "### 1) Regression linéaire "
   ]
  },
  {
   "cell_type": "code",
   "execution_count": 375,
   "id": "c30b7f87",
   "metadata": {},
   "outputs": [
    {
     "data": {
      "text/plain": [
       "0.8147330088475431"
      ]
     },
     "execution_count": 375,
     "metadata": {},
     "output_type": "execute_result"
    }
   ],
   "source": [
    "model_lin_reg = LinearRegression()\n",
    "model_lin_reg.fit(X_train,y_train)\n",
    "score_lin_reg = model_lin_reg.score(X_test,y_test)\n",
    "score_list.append(score_lin_reg)\n",
    "score_lin_reg"
   ]
  },
  {
   "cell_type": "code",
   "execution_count": 376,
   "id": "c3331df3",
   "metadata": {},
   "outputs": [
    {
     "data": {
      "text/plain": [
       "array([0.78314717, 0.86179388, 0.64195325])"
      ]
     },
     "execution_count": 376,
     "metadata": {},
     "output_type": "execute_result"
    }
   ],
   "source": [
    "cross_val_score(model_lin_reg, X, y, cv=3)"
   ]
  },
  {
   "cell_type": "code",
   "execution_count": 377,
   "id": "24762bea",
   "metadata": {},
   "outputs": [
    {
     "data": {
      "text/plain": [
       "array([ True, False,  True, False, False, False, False, False, False,\n",
       "       False,  True, False,  True, False,  True,  True])"
      ]
     },
     "execution_count": 377,
     "metadata": {},
     "output_type": "execute_result"
    }
   ],
   "source": [
    "linear_selector = SelectFromModel(LinearRegression(),threshold='mean')\n",
    "linear_selector.fit_transform(X,y)\n",
    "linear_selector.get_support()"
   ]
  },
  {
   "cell_type": "code",
   "execution_count": 378,
   "id": "412f9fae",
   "metadata": {},
   "outputs": [
    {
     "name": "stdout",
     "output_type": "stream",
     "text": [
      "MAE :  96629.23050677891\n",
      "RMSE :  151995.11358942607\n",
      "median absolut error :  60908.42603459954\n",
      "R2 score :  0.8147330088475431\n",
      "Max error :  1288002.1652679592\n",
      "Explained variance :  0.8149546976300578\n",
      "mean abs percentage error :  0.18785440098831122\n"
     ]
    }
   ],
   "source": [
    "y_pred = model_lin_reg.predict(X_test)\n",
    "print('MAE : ', mean_absolute_error(y_test,y_pred))\n",
    "print('RMSE : ', np.sqrt(mean_squared_error(y_test, y_pred)))\n",
    "print('median absolut error : ', median_absolute_error(y_test, y_pred))\n",
    "print('R2 score : ', r2_score(y_test, y_pred))\n",
    "print('Max error : ', max_error(y_test, y_pred))\n",
    "print('Explained variance : ', explained_variance_score(y_test, y_pred))\n",
    "print('mean abs percentage error : ', mean_absolute_percentage_error(y_test, y_pred))"
   ]
  },
  {
   "cell_type": "code",
   "execution_count": 379,
   "id": "492fe397",
   "metadata": {},
   "outputs": [],
   "source": [
    "MAE_list.append(mean_absolute_error(y_test,y_pred))\n",
    "RMSE_list.append(np.sqrt(mean_squared_error(y_test, y_pred)))\n",
    "median_abs_err_list.append(median_absolute_error(y_test, y_pred))\n",
    "r2_list.append(r2_score(y_test, y_pred))\n",
    "max_error_list.append(max_error(y_test, y_pred))\n",
    "variance_list.append(explained_variance_score(y_test, y_pred))\n",
    "percentage_error_list.append(mean_absolute_percentage_error(y_test, y_pred))\n",
    "model_list.append(\"Regression \\nLineaire\")"
   ]
  },
  {
   "cell_type": "code",
   "execution_count": 380,
   "id": "2c7c1da2",
   "metadata": {},
   "outputs": [
    {
     "data": {
      "text/plain": [
       "<function matplotlib.pyplot.show(close=None, block=None)>"
      ]
     },
     "execution_count": 380,
     "metadata": {},
     "output_type": "execute_result"
    },
    {
     "data": {
      "image/png": "[encoded data removed]",
      "text/plain": [
       "<Figure size 432x288 with 1 Axes>"
      ]
     },
     "metadata": {
      "needs_background": "light"
     },
     "output_type": "display_data"
    }
   ],
   "source": [
    "error_hist = np.abs(y_test - y_pred)\n",
    "mean_error_list.append(error_hist.mean())\n",
    "plt.hist(error_hist, bins=50)\n",
    "plt.show"
   ]
  },
  {
   "cell_type": "code",
   "execution_count": 381,
   "id": "ad22d94e",
   "metadata": {},
   "outputs": [
    {
     "data": {
      "text/plain": [
       "array([ -93297.11649133, -106566.68174776, -103524.07474099])"
      ]
     },
     "execution_count": 381,
     "metadata": {},
     "output_type": "execute_result"
    }
   ],
   "source": [
    "cross_val_score(model_lin_reg, X, y, cv=3, scoring='neg_mean_absolute_error')"
   ]
  },
  {
   "cell_type": "markdown",
   "id": "0f573bb0",
   "metadata": {},
   "source": [
    "### 2) Lasso CV"
   ]
  },
  {
   "cell_type": "code",
   "execution_count": 382,
   "id": "e99f70b8",
   "metadata": {},
   "outputs": [
    {
     "data": {
      "text/plain": [
       "0.8126765661321824"
      ]
     },
     "execution_count": 382,
     "metadata": {},
     "output_type": "execute_result"
    }
   ],
   "source": [
    "model_lasso_cv = LassoCV(cv=5)\n",
    "model_lasso_cv.fit(X_train, y_train)\n",
    "score_lasso_cv = model_lasso_cv.score(X_test, y_test)\n",
    "score_list.append(score_lasso_cv)\n",
    "score_lasso_cv"
   ]
  },
  {
   "cell_type": "code",
   "execution_count": 383,
   "id": "37868138",
   "metadata": {},
   "outputs": [
    {
     "data": {
      "text/plain": [
       "array([0.77627143, 0.86424564, 0.64685263])"
      ]
     },
     "execution_count": 383,
     "metadata": {},
     "output_type": "execute_result"
    }
   ],
   "source": [
    "cross_val_score(model_lasso_cv, X, y, cv=3)"
   ]
  },
  {
   "cell_type": "code",
   "execution_count": 384,
   "id": "fe1344dd",
   "metadata": {},
   "outputs": [
    {
     "data": {
      "text/plain": [
       "array([ True, False, False, False,  True,  True,  True, False, False,\n",
       "       False, False, False, False, False, False, False])"
      ]
     },
     "execution_count": 384,
     "metadata": {},
     "output_type": "execute_result"
    }
   ],
   "source": [
    "lasso_selector = SelectFromModel(LassoCV(cv=3),threshold='mean')\n",
    "lasso_selector.fit_transform(X,y)\n",
    "lasso_selector.get_support()"
   ]
  },
  {
   "cell_type": "code",
   "execution_count": 385,
   "id": "a68f4a82",
   "metadata": {},
   "outputs": [
    {
     "name": "stdout",
     "output_type": "stream",
     "text": [
      "MAE :  96346.64406745162\n",
      "RMSE :  152836.3499371703\n",
      "median absolut error :  60080.67245621979\n",
      "R2 score :  0.8126765661321824\n",
      "Max error :  1227529.5642710626\n",
      "Explained variance :  0.8129248022543568\n",
      "mean abs percentage error :  0.181744186353266\n"
     ]
    }
   ],
   "source": [
    "y_pred = model_lasso_cv.predict(X_test)\n",
    "print('MAE : ', mean_absolute_error(y_test,y_pred))\n",
    "print('RMSE : ', np.sqrt(mean_squared_error(y_test, y_pred)))\n",
    "print('median absolut error : ', median_absolute_error(y_test, y_pred))\n",
    "print('R2 score : ', r2_score(y_test, y_pred))\n",
    "print('Max error : ', max_error(y_test, y_pred))\n",
    "print('Explained variance : ', explained_variance_score(y_test, y_pred))\n",
    "print('mean abs percentage error : ', mean_absolute_percentage_error(y_test, y_pred))"
   ]
  },
  {
   "cell_type": "code",
   "execution_count": 386,
   "id": "9e8ec2a9",
   "metadata": {},
   "outputs": [],
   "source": [
    "MAE_list.append(mean_absolute_error(y_test,y_pred))\n",
    "RMSE_list.append(np.sqrt(mean_squared_error(y_test, y_pred)))\n",
    "median_abs_err_list.append(median_absolute_error(y_test, y_pred))\n",
    "r2_list.append(r2_score(y_test, y_pred))\n",
    "max_error_list.append(max_error(y_test, y_pred))\n",
    "variance_list.append(explained_variance_score(y_test, y_pred))\n",
    "percentage_error_list.append(mean_absolute_percentage_error(y_test, y_pred))\n",
    "model_list.append(\"Lasso CV\")"
   ]
  },
  {
   "cell_type": "code",
   "execution_count": 387,
   "id": "73931a5d",
   "metadata": {},
   "outputs": [
    {
     "data": {
      "text/plain": [
       "<function matplotlib.pyplot.show(close=None, block=None)>"
      ]
     },
     "execution_count": 387,
     "metadata": {},
     "output_type": "execute_result"
    },
    {
     "data": {
      "image/png": "[encoded data removed]",
      "text/plain": [
       "<Figure size 432x288 with 1 Axes>"
      ]
     },
     "metadata": {
      "needs_background": "light"
     },
     "output_type": "display_data"
    }
   ],
   "source": [
    "error_hist = np.abs(y_test - y_pred)\n",
    "mean_error_list.append(error_hist.mean())\n",
    "plt.hist(error_hist, bins=50)\n",
    "plt.show"
   ]
  },
  {
   "cell_type": "code",
   "execution_count": 388,
   "id": "e77c9854",
   "metadata": {},
   "outputs": [
    {
     "data": {
      "text/plain": [
       "array([ -94182.16078054, -104281.53378348, -103513.10035115])"
      ]
     },
     "execution_count": 388,
     "metadata": {},
     "output_type": "execute_result"
    }
   ],
   "source": [
    "cross_val_score(model_lasso_cv, X, y, cv=3, scoring='neg_mean_absolute_error')"
   ]
  },
  {
   "cell_type": "markdown",
   "id": "37e09e68",
   "metadata": {},
   "source": [
    "### 3) Ridge"
   ]
  },
  {
   "cell_type": "code",
   "execution_count": 389,
   "id": "9c4060cd",
   "metadata": {},
   "outputs": [
    {
     "data": {
      "text/plain": [
       "0.8147331386598744"
      ]
     },
     "execution_count": 389,
     "metadata": {},
     "output_type": "execute_result"
    }
   ],
   "source": [
    "model_ridge = Ridge()\n",
    "model_ridge.fit(X_train, y_train)\n",
    "score_ridge = model_ridge.score(X_test, y_test)\n",
    "score_list.append(score_ridge)\n",
    "score_ridge"
   ]
  },
  {
   "cell_type": "code",
   "execution_count": 390,
   "id": "9a381c53",
   "metadata": {},
   "outputs": [
    {
     "data": {
      "text/plain": [
       "array([0.783143  , 0.86180549, 0.64202327])"
      ]
     },
     "execution_count": 390,
     "metadata": {},
     "output_type": "execute_result"
    }
   ],
   "source": [
    "cross_val_score(model_ridge, X, y, cv=3)"
   ]
  },
  {
   "cell_type": "code",
   "execution_count": 391,
   "id": "724d9445",
   "metadata": {},
   "outputs": [
    {
     "data": {
      "text/plain": [
       "array([ True, False,  True, False, False, False, False, False, False,\n",
       "       False,  True, False,  True, False,  True,  True])"
      ]
     },
     "execution_count": 391,
     "metadata": {},
     "output_type": "execute_result"
    }
   ],
   "source": [
    "Ridge_selector = SelectFromModel(Ridge(),threshold='mean')\n",
    "Ridge_selector.fit_transform(X,y)\n",
    "Ridge_selector.get_support()"
   ]
  },
  {
   "cell_type": "code",
   "execution_count": 392,
   "id": "ed8b5171",
   "metadata": {},
   "outputs": [
    {
     "name": "stdout",
     "output_type": "stream",
     "text": [
      "MAE :  96626.66529033153\n",
      "RMSE :  151995.06033967185\n",
      "median absolut error :  60930.46786276996\n",
      "R2 score :  0.8147331386598744\n",
      "Max error :  1287996.141413644\n",
      "Explained variance :  0.8149549659376094\n",
      "mean abs percentage error :  0.18784710693409726\n"
     ]
    }
   ],
   "source": [
    "y_pred = model_ridge.predict(X_test)\n",
    "print('MAE : ', mean_absolute_error(y_test,y_pred))\n",
    "print('RMSE : ', np.sqrt(mean_squared_error(y_test, y_pred)))\n",
    "print('median absolut error : ', median_absolute_error(y_test, y_pred))\n",
    "print('R2 score : ', r2_score(y_test, y_pred))\n",
    "print('Max error : ', max_error(y_test, y_pred))\n",
    "print('Explained variance : ', explained_variance_score(y_test, y_pred))\n",
    "print('mean abs percentage error : ', mean_absolute_percentage_error(y_test, y_pred))"
   ]
  },
  {
   "cell_type": "code",
   "execution_count": 393,
   "id": "b5f309b2",
   "metadata": {},
   "outputs": [],
   "source": [
    "MAE_list.append(mean_absolute_error(y_test,y_pred))\n",
    "RMSE_list.append(np.sqrt(mean_squared_error(y_test, y_pred)))\n",
    "median_abs_err_list.append(median_absolute_error(y_test, y_pred))\n",
    "r2_list.append(r2_score(y_test, y_pred))\n",
    "max_error_list.append(max_error(y_test, y_pred))\n",
    "variance_list.append(explained_variance_score(y_test, y_pred))\n",
    "percentage_error_list.append(mean_absolute_percentage_error(y_test, y_pred))\n",
    "model_list.append(\"Ridge\")"
   ]
  },
  {
   "cell_type": "code",
   "execution_count": 394,
   "id": "4d1e81e7",
   "metadata": {},
   "outputs": [
    {
     "data": {
      "text/plain": [
       "<function matplotlib.pyplot.show(close=None, block=None)>"
      ]
     },
     "execution_count": 394,
     "metadata": {},
     "output_type": "execute_result"
    },
    {
     "data": {
      "image/png": "[encoded data removed]",
      "text/plain": [
       "<Figure size 432x288 with 1 Axes>"
      ]
     },
     "metadata": {
      "needs_background": "light"
     },
     "output_type": "display_data"
    }
   ],
   "source": [
    "error_hist = np.abs(y_test - y_pred)\n",
    "mean_error_list.append(error_hist.mean())\n",
    "plt.hist(error_hist, bins=50)\n",
    "plt.show"
   ]
  },
  {
   "cell_type": "code",
   "execution_count": 395,
   "id": "28e4f871",
   "metadata": {},
   "outputs": [
    {
     "data": {
      "text/plain": [
       "array([ -93298.0732522 , -106560.58305667, -103512.00291189])"
      ]
     },
     "execution_count": 395,
     "metadata": {},
     "output_type": "execute_result"
    }
   ],
   "source": [
    "cross_val_score(model_ridge, X, y, cv=3, scoring='neg_mean_absolute_error')"
   ]
  },
  {
   "cell_type": "markdown",
   "id": "9b287496",
   "metadata": {},
   "source": [
    "### 4) SVR"
   ]
  },
  {
   "cell_type": "code",
   "execution_count": 396,
   "id": "0de1ee38",
   "metadata": {},
   "outputs": [],
   "source": [
    "#model_SVR = SVR(kernel='rbf')\n",
    "#model_SVR.fit(X_train,y_train)\n",
    "#model_SVR.score(X_test,y_test)\n",
    "#score trop faible, process long -> inutile"
   ]
  },
  {
   "cell_type": "markdown",
   "id": "417b6ab9",
   "metadata": {},
   "source": [
    "### 5) SGDClassifier"
   ]
  },
  {
   "cell_type": "code",
   "execution_count": 397,
   "id": "94e61ad5",
   "metadata": {},
   "outputs": [],
   "source": [
    "#model_SGD = SGDClassifier(max_iter=1000, tol=0.01)\n",
    "#model_SGD.fit(X_train,y_train)\n",
    "#model_SGD.score(X_test,y_test)"
   ]
  },
  {
   "cell_type": "markdown",
   "id": "8e13b454",
   "metadata": {},
   "source": [
    "### 6) LogisticRegression"
   ]
  },
  {
   "cell_type": "code",
   "execution_count": 398,
   "id": "10570a2a",
   "metadata": {},
   "outputs": [],
   "source": [
    "#model_logistic_reg = LogisticRegression()\n",
    "#model_logistic_reg.fit(X_train,y_train)\n",
    "#model_logistic_reg.score(X_test,y_test)"
   ]
  },
  {
   "cell_type": "markdown",
   "id": "3da3380f",
   "metadata": {},
   "source": [
    "### 7) BayesianRidge"
   ]
  },
  {
   "cell_type": "code",
   "execution_count": 399,
   "id": "d863046f",
   "metadata": {},
   "outputs": [
    {
     "data": {
      "text/plain": [
       "0.8147956115259968"
      ]
     },
     "execution_count": 399,
     "metadata": {},
     "output_type": "execute_result"
    }
   ],
   "source": [
    "model_bayesian = BayesianRidge()\n",
    "model_bayesian.fit(X_train, y_train)\n",
    "score_bayesian = model_bayesian.score(X_test, y_test)\n",
    "score_list.append(score_bayesian)\n",
    "score_bayesian"
   ]
  },
  {
   "cell_type": "code",
   "execution_count": 400,
   "id": "d4feaa44",
   "metadata": {},
   "outputs": [
    {
     "data": {
      "text/plain": [
       "array([0.78270135, 0.86221281, 0.64539591])"
      ]
     },
     "execution_count": 400,
     "metadata": {},
     "output_type": "execute_result"
    }
   ],
   "source": [
    "cross_val_score(model_bayesian, X, y, cv=3)"
   ]
  },
  {
   "cell_type": "code",
   "execution_count": 401,
   "id": "5ca6b7ec",
   "metadata": {},
   "outputs": [
    {
     "data": {
      "text/plain": [
       "array([ True, False,  True, False, False, False, False, False, False,\n",
       "       False,  True, False,  True, False,  True, False])"
      ]
     },
     "execution_count": 401,
     "metadata": {},
     "output_type": "execute_result"
    }
   ],
   "source": [
    "selector_bayesian = SelectFromModel(BayesianRidge(),threshold='mean')\n",
    "selector_bayesian.fit_transform(X,y)\n",
    "selector_bayesian.get_support()"
   ]
  },
  {
   "cell_type": "code",
   "execution_count": 402,
   "id": "a0a8f5e2",
   "metadata": {},
   "outputs": [
    {
     "name": "stdout",
     "output_type": "stream",
     "text": [
      "MAE :  96483.55815098272\n",
      "RMSE :  151969.43145059323\n",
      "median absolut error :  60174.46778769791\n",
      "R2 score :  0.8147956115259968\n",
      "Max error :  1285598.7366791368\n",
      "Explained variance :  0.8150206469402799\n",
      "mean abs percentage error :  0.18728742121537356\n"
     ]
    }
   ],
   "source": [
    "y_pred = model_bayesian.predict(X_test)\n",
    "print('MAE : ', mean_absolute_error(y_test,y_pred))\n",
    "print('RMSE : ', np.sqrt(mean_squared_error(y_test, y_pred)))\n",
    "print('median absolut error : ', median_absolute_error(y_test, y_pred))\n",
    "print('R2 score : ', r2_score(y_test, y_pred))\n",
    "print('Max error : ', max_error(y_test, y_pred))\n",
    "print('Explained variance : ', explained_variance_score(y_test, y_pred))\n",
    "print('mean abs percentage error : ', mean_absolute_percentage_error(y_test, y_pred))"
   ]
  },
  {
   "cell_type": "code",
   "execution_count": 403,
   "id": "989f1f44",
   "metadata": {},
   "outputs": [],
   "source": [
    "MAE_list.append(mean_absolute_error(y_test,y_pred))\n",
    "RMSE_list.append(np.sqrt(mean_squared_error(y_test, y_pred)))\n",
    "median_abs_err_list.append(median_absolute_error(y_test, y_pred))\n",
    "r2_list.append(r2_score(y_test, y_pred))\n",
    "max_error_list.append(max_error(y_test, y_pred))\n",
    "variance_list.append(explained_variance_score(y_test, y_pred))\n",
    "percentage_error_list.append(mean_absolute_percentage_error(y_test, y_pred))\n",
    "model_list.append(\"Bayesian \\nRidge\")"
   ]
  },
  {
   "cell_type": "code",
   "execution_count": 404,
   "id": "1646dad7",
   "metadata": {},
   "outputs": [
    {
     "data": {
      "text/plain": [
       "<function matplotlib.pyplot.show(close=None, block=None)>"
      ]
     },
     "execution_count": 404,
     "metadata": {},
     "output_type": "execute_result"
    },
    {
     "data": {
      "image/png": "[encoded data removed]",
      "text/plain": [
       "<Figure size 432x288 with 1 Axes>"
      ]
     },
     "metadata": {
      "needs_background": "light"
     },
     "output_type": "display_data"
    }
   ],
   "source": [
    "error_hist = np.abs(y_test - y_pred)\n",
    "mean_error_list.append(error_hist.mean())\n",
    "plt.hist(error_hist, bins=50)\n",
    "plt.show"
   ]
  },
  {
   "cell_type": "code",
   "execution_count": 405,
   "id": "5303a50d",
   "metadata": {},
   "outputs": [
    {
     "data": {
      "text/plain": [
       "array([ -93294.38706138, -106303.65567299, -103035.46876991])"
      ]
     },
     "execution_count": 405,
     "metadata": {},
     "output_type": "execute_result"
    }
   ],
   "source": [
    "cross_val_score(model_bayesian, X, y, cv=3, scoring='neg_mean_absolute_error')"
   ]
  },
  {
   "cell_type": "markdown",
   "id": "65027bca",
   "metadata": {},
   "source": [
    "### 8) TweedieRegressor"
   ]
  },
  {
   "cell_type": "code",
   "execution_count": 406,
   "id": "8858bd3c",
   "metadata": {},
   "outputs": [
    {
     "data": {
      "text/plain": [
       "0.8120485606509183"
      ]
     },
     "execution_count": 406,
     "metadata": {},
     "output_type": "execute_result"
    }
   ],
   "source": [
    "model_tweedie = TweedieRegressor(max_iter=1000)\n",
    "model_tweedie.fit(X_train, y_train)\n",
    "score_tweedie = model_tweedie.score(X_test, y_test)\n",
    "score_list.append(score_tweedie)\n",
    "score_tweedie"
   ]
  },
  {
   "cell_type": "code",
   "execution_count": 407,
   "id": "7917f57e",
   "metadata": {},
   "outputs": [
    {
     "data": {
      "text/plain": [
       "array([0.77691066, 0.8629859 , 0.64546017])"
      ]
     },
     "execution_count": 407,
     "metadata": {},
     "output_type": "execute_result"
    }
   ],
   "source": [
    "cross_val_score(model_tweedie, X, y, cv=3)"
   ]
  },
  {
   "cell_type": "code",
   "execution_count": 408,
   "id": "e49da489",
   "metadata": {},
   "outputs": [
    {
     "data": {
      "text/plain": [
       "array([ True, False, False, False,  True,  True,  True, False, False,\n",
       "       False,  True, False,  True, False,  True, False])"
      ]
     },
     "execution_count": 408,
     "metadata": {},
     "output_type": "execute_result"
    }
   ],
   "source": [
    "selector_tweedie = SelectFromModel(TweedieRegressor(max_iter=1000),threshold='mean')\n",
    "selector_tweedie.fit_transform(X,y)\n",
    "selector_tweedie.get_support()"
   ]
  },
  {
   "cell_type": "code",
   "execution_count": 409,
   "id": "fa673ef7",
   "metadata": {},
   "outputs": [
    {
     "name": "stdout",
     "output_type": "stream",
     "text": [
      "MAE :  97140.34241960057\n",
      "RMSE :  153092.32900141148\n",
      "median absolut error :  62202.97061789874\n",
      "R2 score :  0.8120485606509183\n",
      "Max error :  1247304.9821031122\n",
      "Explained variance :  0.8122622618765758\n",
      "mean abs percentage error :  0.1851008522468075\n"
     ]
    }
   ],
   "source": [
    "y_pred = model_tweedie.predict(X_test)\n",
    "print('MAE : ', mean_absolute_error(y_test,y_pred))\n",
    "print('RMSE : ', np.sqrt(mean_squared_error(y_test, y_pred)))\n",
    "print('median absolut error : ', median_absolute_error(y_test, y_pred))\n",
    "print('R2 score : ', r2_score(y_test, y_pred))\n",
    "print('Max error : ', max_error(y_test, y_pred))\n",
    "print('Explained variance : ', explained_variance_score(y_test, y_pred))\n",
    "print('mean abs percentage error : ', mean_absolute_percentage_error(y_test, y_pred))"
   ]
  },
  {
   "cell_type": "code",
   "execution_count": 410,
   "id": "40b9257e",
   "metadata": {},
   "outputs": [],
   "source": [
    "MAE_list.append(mean_absolute_error(y_test,y_pred))\n",
    "RMSE_list.append(np.sqrt(mean_squared_error(y_test, y_pred)))\n",
    "median_abs_err_list.append(median_absolute_error(y_test, y_pred))\n",
    "r2_list.append(r2_score(y_test, y_pred))\n",
    "max_error_list.append(max_error(y_test, y_pred))\n",
    "variance_list.append(explained_variance_score(y_test, y_pred))\n",
    "percentage_error_list.append(mean_absolute_percentage_error(y_test, y_pred))\n",
    "model_list.append(\"Tweedie \\nRegressor\")"
   ]
  },
  {
   "cell_type": "code",
   "execution_count": 411,
   "id": "8db55832",
   "metadata": {},
   "outputs": [
    {
     "data": {
      "text/plain": [
       "<function matplotlib.pyplot.show(close=None, block=None)>"
      ]
     },
     "execution_count": 411,
     "metadata": {},
     "output_type": "execute_result"
    },
    {
     "data": {
      "image/png": "[encoded data removed]",
      "text/plain": [
       "<Figure size 432x288 with 1 Axes>"
      ]
     },
     "metadata": {
      "needs_background": "light"
     },
     "output_type": "display_data"
    }
   ],
   "source": [
    "error_hist = np.abs(y_test - y_pred)\n",
    "mean_error_list.append(error_hist.mean())\n",
    "plt.hist(error_hist, bins=50)\n",
    "plt.show"
   ]
  },
  {
   "cell_type": "code",
   "execution_count": 412,
   "id": "f1f70972",
   "metadata": {},
   "outputs": [
    {
     "data": {
      "text/plain": [
       "array([ -94364.08369937, -105078.49060138, -103615.0680507 ])"
      ]
     },
     "execution_count": 412,
     "metadata": {},
     "output_type": "execute_result"
    }
   ],
   "source": [
    "cross_val_score(model_tweedie, X, y, cv=3, scoring='neg_mean_absolute_error')"
   ]
  },
  {
   "cell_type": "markdown",
   "id": "f28087e2",
   "metadata": {},
   "source": [
    "### 9) Elastic Net"
   ]
  },
  {
   "cell_type": "code",
   "execution_count": 413,
   "id": "b52b9724",
   "metadata": {},
   "outputs": [
    {
     "data": {
      "text/plain": [
       "0.8147411993625187"
      ]
     },
     "execution_count": 413,
     "metadata": {},
     "output_type": "execute_result"
    }
   ],
   "source": [
    "model_elastic = ElasticNet(alpha=0.01)\n",
    "model_elastic.fit(X_train, y_train)\n",
    "score_elastic = model_elastic.score(X_test, y_test)\n",
    "score_list.append(score_elastic)\n",
    "score_elastic"
   ]
  },
  {
   "cell_type": "code",
   "execution_count": 414,
   "id": "08ad4685",
   "metadata": {},
   "outputs": [
    {
     "data": {
      "text/plain": [
       "array([0.78307754, 0.86197058, 0.64324049])"
      ]
     },
     "execution_count": 414,
     "metadata": {},
     "output_type": "execute_result"
    }
   ],
   "source": [
    "cross_val_score(model_elastic, X, y, cv=3)"
   ]
  },
  {
   "cell_type": "code",
   "execution_count": 415,
   "id": "c87df97e",
   "metadata": {},
   "outputs": [
    {
     "data": {
      "text/plain": [
       "array([ True, False,  True, False, False, False, False, False, False,\n",
       "       False,  True, False,  True, False,  True,  True])"
      ]
     },
     "execution_count": 415,
     "metadata": {},
     "output_type": "execute_result"
    }
   ],
   "source": [
    "selector_elastic = SelectFromModel(ElasticNet(alpha=0.01),threshold='mean')\n",
    "selector_elastic.fit_transform(X,y)\n",
    "selector_elastic.get_support()"
   ]
  },
  {
   "cell_type": "code",
   "execution_count": 416,
   "id": "f5310b86",
   "metadata": {},
   "outputs": [
    {
     "name": "stdout",
     "output_type": "stream",
     "text": [
      "MAE :  96587.32477791209\n",
      "RMSE :  151991.75375720274\n",
      "median absolut error :  60649.9208201319\n",
      "R2 score :  0.8147411993625187\n",
      "Max error :  1287654.5716193914\n",
      "Explained variance :  0.8149649283119176\n",
      "mean abs percentage error :  0.18771113823946928\n"
     ]
    }
   ],
   "source": [
    "y_pred = model_elastic.predict(X_test)\n",
    "print('MAE : ', mean_absolute_error(y_test,y_pred))\n",
    "print('RMSE : ', np.sqrt(mean_squared_error(y_test, y_pred)))\n",
    "print('median absolut error : ', median_absolute_error(y_test, y_pred))\n",
    "print('R2 score : ', r2_score(y_test, y_pred))\n",
    "print('Max error : ', max_error(y_test, y_pred))\n",
    "print('Explained variance : ', explained_variance_score(y_test, y_pred))\n",
    "print('mean abs percentage error : ', mean_absolute_percentage_error(y_test, y_pred))"
   ]
  },
  {
   "cell_type": "code",
   "execution_count": 417,
   "id": "cbcae8f5",
   "metadata": {},
   "outputs": [],
   "source": [
    "MAE_list.append(mean_absolute_error(y_test,y_pred))\n",
    "RMSE_list.append(np.sqrt(mean_squared_error(y_test, y_pred)))\n",
    "median_abs_err_list.append(median_absolute_error(y_test, y_pred))\n",
    "r2_list.append(r2_score(y_test, y_pred))\n",
    "max_error_list.append(max_error(y_test, y_pred))\n",
    "variance_list.append(explained_variance_score(y_test, y_pred))\n",
    "percentage_error_list.append(mean_absolute_percentage_error(y_test, y_pred))\n",
    "model_list.append(\"Elastic \\nNet\")"
   ]
  },
  {
   "cell_type": "code",
   "execution_count": 418,
   "id": "26007749",
   "metadata": {
    "scrolled": true
   },
   "outputs": [
    {
     "data": {
      "text/plain": [
       "<function matplotlib.pyplot.show(close=None, block=None)>"
      ]
     },
     "execution_count": 418,
     "metadata": {},
     "output_type": "execute_result"
    },
    {
     "data": {
      "image/png": "[encoded data removed]",
      "text/plain": [
       "<Figure size 432x288 with 1 Axes>"
      ]
     },
     "metadata": {
      "needs_background": "light"
     },
     "output_type": "display_data"
    }
   ],
   "source": [
    "error_hist = np.abs(y_test - y_pred)\n",
    "mean_error_list.append(error_hist.mean())\n",
    "plt.hist(error_hist, bins=50)\n",
    "plt.show"
   ]
  },
  {
   "cell_type": "code",
   "execution_count": 419,
   "id": "e3f445f6",
   "metadata": {
    "scrolled": false
   },
   "outputs": [
    {
     "data": {
      "text/plain": [
       "array([ -93306.48569592, -106466.66541509, -103321.21590354])"
      ]
     },
     "execution_count": 419,
     "metadata": {},
     "output_type": "execute_result"
    }
   ],
   "source": [
    "cross_val_score(model_elastic, X, y, cv=3, scoring='neg_mean_absolute_error')"
   ]
  },
  {
   "cell_type": "markdown",
   "id": "49f7ecad",
   "metadata": {},
   "source": [
    "# Comparaisons des modèles"
   ]
  },
  {
   "cell_type": "markdown",
   "id": "e66ce36b",
   "metadata": {},
   "source": [
    "### Résultats :"
   ]
  },
  {
   "cell_type": "markdown",
   "id": "3ff036a1",
   "metadata": {},
   "source": [
    "#### Accuracy "
   ]
  },
  {
   "cell_type": "code",
   "execution_count": 420,
   "id": "93f47b08",
   "metadata": {},
   "outputs": [
    {
     "data": {
      "text/plain": [
       "Text(0, 0.5, 'Accuracy')"
      ]
     },
     "execution_count": 420,
     "metadata": {},
     "output_type": "execute_result"
    },
    {
     "data": {
      "image/png": "[encoded data removed]",
      "text/plain": [
       "<Figure size 432x288 with 1 Axes>"
      ]
     },
     "metadata": {
      "needs_background": "light"
     },
     "output_type": "display_data"
    }
   ],
   "source": [
    "plt.barh(model_list, score_list)\n",
    "for index, value in enumerate(score_list):\n",
    "    plt.text(value, index, str(value))\n",
    "plt.xlabel('Model')\n",
    "plt.ylabel('Accuracy')"
   ]
  },
  {
   "cell_type": "markdown",
   "id": "3872386b",
   "metadata": {},
   "source": [
    "### Erreurs : "
   ]
  },
  {
   "cell_type": "markdown",
   "id": "26468e8a",
   "metadata": {},
   "source": [
    "#### 1) Mean Error "
   ]
  },
  {
   "cell_type": "code",
   "execution_count": 421,
   "id": "3b774910",
   "metadata": {
    "scrolled": true
   },
   "outputs": [
    {
     "data": {
      "text/plain": [
       "Text(0, 0.5, 'Mean error')"
      ]
     },
     "execution_count": 421,
     "metadata": {},
     "output_type": "execute_result"
    },
    {
     "data": {
      "image/png": "[encoded data removed]",
      "text/plain": [
       "<Figure size 432x288 with 1 Axes>"
      ]
     },
     "metadata": {
      "needs_background": "light"
     },
     "output_type": "display_data"
    }
   ],
   "source": [
    "plt.barh(model_list, mean_error_list)\n",
    "for index, value in enumerate(mean_error_list):\n",
    "    plt.text(value, index, str(value))\n",
    "plt.xlabel('Model')\n",
    "plt.ylabel('Mean error')"
   ]
  },
  {
   "cell_type": "markdown",
   "id": "116f2eb5",
   "metadata": {},
   "source": [
    "#### 2) Mean Absolute Error using MAE"
   ]
  },
  {
   "cell_type": "code",
   "execution_count": 422,
   "id": "caf66f3b",
   "metadata": {
    "scrolled": true
   },
   "outputs": [
    {
     "data": {
      "text/plain": [
       "Text(0, 0.5, 'MAE')"
      ]
     },
     "execution_count": 422,
     "metadata": {},
     "output_type": "execute_result"
    },
    {
     "data": {
      "image/png": "[encoded data removed]",
      "text/plain": [
       "<Figure size 432x288 with 1 Axes>"
      ]
     },
     "metadata": {
      "needs_background": "light"
     },
     "output_type": "display_data"
    }
   ],
   "source": [
    "plt.barh(model_list, MAE_list)\n",
    "for index, value in enumerate(MAE_list):\n",
    "    plt.text(value, index, str(value))\n",
    "plt.xlabel('Model')\n",
    "plt.ylabel('MAE')"
   ]
  },
  {
   "cell_type": "markdown",
   "id": "3b597c13",
   "metadata": {},
   "source": [
    "#### 3) Root Mean Square Error (RMSE)"
   ]
  },
  {
   "cell_type": "code",
   "execution_count": 423,
   "id": "1538af14",
   "metadata": {},
   "outputs": [
    {
     "data": {
      "text/plain": [
       "Text(0, 0.5, 'RMSE')"
      ]
     },
     "execution_count": 423,
     "metadata": {},
     "output_type": "execute_result"
    },
    {
     "data": {
      "image/png": "[encoded data removed]",
      "text/plain": [
       "<Figure size 432x288 with 1 Axes>"
      ]
     },
     "metadata": {
      "needs_background": "light"
     },
     "output_type": "display_data"
    }
   ],
   "source": [
    "plt.barh(model_list, RMSE_list)\n",
    "for index, value in enumerate(RMSE_list):\n",
    "    plt.text(value, index, str(value))\n",
    "plt.xlabel('Model')\n",
    "plt.ylabel('RMSE')"
   ]
  },
  {
   "cell_type": "markdown",
   "id": "016ef099",
   "metadata": {},
   "source": [
    "#### 4) Median Absolute Error"
   ]
  },
  {
   "cell_type": "code",
   "execution_count": 424,
   "id": "3bb1ef2a",
   "metadata": {},
   "outputs": [
    {
     "data": {
      "text/plain": [
       "Text(0, 0.5, 'Median Abs Error')"
      ]
     },
     "execution_count": 424,
     "metadata": {},
     "output_type": "execute_result"
    },
    {
     "data": {
      "image/png": "[encoded data removed]",
      "text/plain": [
       "<Figure size 432x288 with 1 Axes>"
      ]
     },
     "metadata": {
      "needs_background": "light"
     },
     "output_type": "display_data"
    }
   ],
   "source": [
    "plt.barh(model_list, median_abs_err_list)\n",
    "for index, value in enumerate(median_abs_err_list):\n",
    "    plt.text(value, index, str(value))\n",
    "plt.xlabel('Model')\n",
    "plt.ylabel('Median Abs Error')"
   ]
  },
  {
   "cell_type": "markdown",
   "id": "13889662",
   "metadata": {},
   "source": [
    "#### 5) R2 Score (coeficient of determination)"
   ]
  },
  {
   "cell_type": "code",
   "execution_count": 425,
   "id": "20dcb1d9",
   "metadata": {},
   "outputs": [
    {
     "data": {
      "text/plain": [
       "Text(0, 0.5, 'r2 score')"
      ]
     },
     "execution_count": 425,
     "metadata": {},
     "output_type": "execute_result"
    },
    {
     "data": {
      "image/png": "[encoded data removed]",
      "text/plain": [
       "<Figure size 432x288 with 1 Axes>"
      ]
     },
     "metadata": {
      "needs_background": "light"
     },
     "output_type": "display_data"
    }
   ],
   "source": [
    "plt.barh(model_list, r2_list)\n",
    "for index, value in enumerate(r2_list):\n",
    "    plt.text(value, index, str(value))\n",
    "plt.xlabel('Model')\n",
    "plt.ylabel('r2 score')"
   ]
  },
  {
   "cell_type": "markdown",
   "id": "0be82dd2",
   "metadata": {},
   "source": [
    "#### 6) Maximum Error "
   ]
  },
  {
   "cell_type": "code",
   "execution_count": 426,
   "id": "7b42fcf0",
   "metadata": {},
   "outputs": [
    {
     "data": {
      "text/plain": [
       "Text(0, 0.5, 'Max Error')"
      ]
     },
     "execution_count": 426,
     "metadata": {},
     "output_type": "execute_result"
    },
    {
     "data": {
      "image/png": "[encoded data removed]",
      "text/plain": [
       "<Figure size 432x288 with 1 Axes>"
      ]
     },
     "metadata": {
      "needs_background": "light"
     },
     "output_type": "display_data"
    }
   ],
   "source": [
    "plt.barh(model_list, max_error_list)\n",
    "for index, value in enumerate(max_error_list):\n",
    "    plt.text(value, index, str(value))\n",
    "plt.xlabel('Model')\n",
    "plt.ylabel('Max Error')"
   ]
  },
  {
   "cell_type": "markdown",
   "id": "6e832b67",
   "metadata": {},
   "source": [
    "#### 7) Explained Variance Score "
   ]
  },
  {
   "cell_type": "code",
   "execution_count": 427,
   "id": "49ca4018",
   "metadata": {},
   "outputs": [
    {
     "data": {
      "text/plain": [
       "Text(0, 0.5, 'Explained Variance Score')"
      ]
     },
     "execution_count": 427,
     "metadata": {},
     "output_type": "execute_result"
    },
    {
     "data": {
      "image/png": "[encoded data removed]",
      "text/plain": [
       "<Figure size 432x288 with 1 Axes>"
      ]
     },
     "metadata": {
      "needs_background": "light"
     },
     "output_type": "display_data"
    }
   ],
   "source": [
    "plt.barh(model_list, variance_list)\n",
    "for index, value in enumerate(variance_list):\n",
    "    plt.text(value, index, str(value))\n",
    "plt.xlabel('Model')\n",
    "plt.ylabel('Explained Variance Score')"
   ]
  },
  {
   "cell_type": "markdown",
   "id": "13e75f2e",
   "metadata": {},
   "source": [
    "#### 8) Mean Absolute Percentage Error"
   ]
  },
  {
   "cell_type": "code",
   "execution_count": 428,
   "id": "71c21c31",
   "metadata": {},
   "outputs": [
    {
     "data": {
      "text/plain": [
       "Text(0, 0.5, 'Mean Abs Percentage Error')"
      ]
     },
     "execution_count": 428,
     "metadata": {},
     "output_type": "execute_result"
    },
    {
     "data": {
      "image/png": "[encoded data removed]",
      "text/plain": [
       "<Figure size 432x288 with 1 Axes>"
      ]
     },
     "metadata": {
      "needs_background": "light"
     },
     "output_type": "display_data"
    }
   ],
   "source": [
    "plt.barh(model_list, percentage_error_list)\n",
    "for index, value in enumerate(percentage_error_list):\n",
    "    plt.text(value, index, str(value))\n",
    "plt.xlabel('Model')\n",
    "plt.ylabel('Mean Abs Percentage Error')"
   ]
  },
  {
   "cell_type": "markdown",
   "id": "b13df349",
   "metadata": {},
   "source": [
    "### Features : "
   ]
  },
  {
   "cell_type": "code",
   "execution_count": 429,
   "id": "f26f782b",
   "metadata": {},
   "outputs": [
    {
     "data": {
      "text/html": [
       "<div>\n",
       "<style scoped>\n",
       "    .dataframe tbody tr th:only-of-type {\n",
       "        vertical-align: middle;\n",
       "    }\n",
       "\n",
       "    .dataframe tbody tr th {\n",
       "        vertical-align: top;\n",
       "    }\n",
       "\n",
       "    .dataframe thead th {\n",
       "        text-align: right;\n",
       "    }\n",
       "</style>\n",
       "<table border=\"1\" class=\"dataframe\">\n",
       "  <thead>\n",
       "    <tr style=\"text-align: right;\">\n",
       "      <th></th>\n",
       "      <th>Superficie (m2)</th>\n",
       "      <th>Nombre Pieces</th>\n",
       "      <th>Nombre Chambres</th>\n",
       "      <th>Prix (Euros)</th>\n",
       "      <th>Code Postal</th>\n",
       "      <th>Classe Energetique</th>\n",
       "      <th>Nombre Photos</th>\n",
       "      <th>Etage</th>\n",
       "      <th>Type de Bien</th>\n",
       "      <th>Type Vendeur</th>\n",
       "      <th>Terrasse</th>\n",
       "      <th>Parking</th>\n",
       "      <th>Cave</th>\n",
       "      <th>Ascenseur</th>\n",
       "      <th>Gardien</th>\n",
       "      <th>Renove</th>\n",
       "      <th>Box</th>\n",
       "    </tr>\n",
       "  </thead>\n",
       "  <tbody>\n",
       "    <tr>\n",
       "      <th>0</th>\n",
       "      <td>64</td>\n",
       "      <td>3</td>\n",
       "      <td>2</td>\n",
       "      <td>830000</td>\n",
       "      <td>75017</td>\n",
       "      <td>5</td>\n",
       "      <td>1</td>\n",
       "      <td>3</td>\n",
       "      <td>1</td>\n",
       "      <td>1</td>\n",
       "      <td>-1</td>\n",
       "      <td>-1</td>\n",
       "      <td>-1</td>\n",
       "      <td>-1</td>\n",
       "      <td>-1</td>\n",
       "      <td>-1</td>\n",
       "      <td>-1</td>\n",
       "    </tr>\n",
       "    <tr>\n",
       "      <th>1</th>\n",
       "      <td>122</td>\n",
       "      <td>5</td>\n",
       "      <td>5</td>\n",
       "      <td>1470000</td>\n",
       "      <td>75015</td>\n",
       "      <td>0</td>\n",
       "      <td>10</td>\n",
       "      <td>3</td>\n",
       "      <td>1</td>\n",
       "      <td>1</td>\n",
       "      <td>1</td>\n",
       "      <td>1</td>\n",
       "      <td>1</td>\n",
       "      <td>1</td>\n",
       "      <td>-1</td>\n",
       "      <td>-1</td>\n",
       "      <td>1</td>\n",
       "    </tr>\n",
       "    <tr>\n",
       "      <th>2</th>\n",
       "      <td>5</td>\n",
       "      <td>1</td>\n",
       "      <td>0</td>\n",
       "      <td>65000</td>\n",
       "      <td>75116</td>\n",
       "      <td>5</td>\n",
       "      <td>6</td>\n",
       "      <td>6</td>\n",
       "      <td>1</td>\n",
       "      <td>1</td>\n",
       "      <td>-1</td>\n",
       "      <td>-1</td>\n",
       "      <td>-1</td>\n",
       "      <td>1</td>\n",
       "      <td>1</td>\n",
       "      <td>1</td>\n",
       "      <td>-1</td>\n",
       "    </tr>\n",
       "    <tr>\n",
       "      <th>3</th>\n",
       "      <td>7</td>\n",
       "      <td>1</td>\n",
       "      <td>0</td>\n",
       "      <td>80000</td>\n",
       "      <td>75015</td>\n",
       "      <td>0</td>\n",
       "      <td>4</td>\n",
       "      <td>7</td>\n",
       "      <td>1</td>\n",
       "      <td>1</td>\n",
       "      <td>-1</td>\n",
       "      <td>-1</td>\n",
       "      <td>-1</td>\n",
       "      <td>-1</td>\n",
       "      <td>1</td>\n",
       "      <td>-1</td>\n",
       "      <td>-1</td>\n",
       "    </tr>\n",
       "    <tr>\n",
       "      <th>4</th>\n",
       "      <td>8</td>\n",
       "      <td>1</td>\n",
       "      <td>0</td>\n",
       "      <td>87000</td>\n",
       "      <td>75006</td>\n",
       "      <td>0</td>\n",
       "      <td>4</td>\n",
       "      <td>6</td>\n",
       "      <td>1</td>\n",
       "      <td>1</td>\n",
       "      <td>-1</td>\n",
       "      <td>-1</td>\n",
       "      <td>-1</td>\n",
       "      <td>1</td>\n",
       "      <td>1</td>\n",
       "      <td>-1</td>\n",
       "      <td>-1</td>\n",
       "    </tr>\n",
       "  </tbody>\n",
       "</table>\n",
       "</div>"
      ],
      "text/plain": [
       "   Superficie (m2)  Nombre Pieces  Nombre Chambres  Prix (Euros)  Code Postal  \\\n",
       "0               64              3                2        830000        75017   \n",
       "1              122              5                5       1470000        75015   \n",
       "2                5              1                0         65000        75116   \n",
       "3                7              1                0         80000        75015   \n",
       "4                8              1                0         87000        75006   \n",
       "\n",
       "   Classe Energetique  Nombre Photos  Etage  Type de Bien  Type Vendeur  \\\n",
       "0                   5              1      3             1             1   \n",
       "1                   0             10      3             1             1   \n",
       "2                   5              6      6             1             1   \n",
       "3                   0              4      7             1             1   \n",
       "4                   0              4      6             1             1   \n",
       "\n",
       "   Terrasse  Parking  Cave  Ascenseur  Gardien  Renove  Box  \n",
       "0        -1       -1    -1         -1       -1      -1   -1  \n",
       "1         1        1     1          1       -1      -1    1  \n",
       "2        -1       -1    -1          1        1       1   -1  \n",
       "3        -1       -1    -1         -1        1      -1   -1  \n",
       "4        -1       -1    -1          1        1      -1   -1  "
      ]
     },
     "execution_count": 429,
     "metadata": {},
     "output_type": "execute_result"
    }
   ],
   "source": [
    "df.head()"
   ]
  },
  {
   "cell_type": "code",
   "execution_count": 430,
   "id": "2e8d0fda",
   "metadata": {},
   "outputs": [
    {
     "data": {
      "text/html": [
       "<div>\n",
       "<style scoped>\n",
       "    .dataframe tbody tr th:only-of-type {\n",
       "        vertical-align: middle;\n",
       "    }\n",
       "\n",
       "    .dataframe tbody tr th {\n",
       "        vertical-align: top;\n",
       "    }\n",
       "\n",
       "    .dataframe thead th {\n",
       "        text-align: right;\n",
       "    }\n",
       "</style>\n",
       "<table border=\"1\" class=\"dataframe\">\n",
       "  <thead>\n",
       "    <tr style=\"text-align: right;\">\n",
       "      <th></th>\n",
       "      <th>Code Postal</th>\n",
       "      <th>Prix (Euros)</th>\n",
       "      <th>Superficie (m2)</th>\n",
       "    </tr>\n",
       "  </thead>\n",
       "  <tbody>\n",
       "    <tr>\n",
       "      <th>0</th>\n",
       "      <td>75017</td>\n",
       "      <td>830000</td>\n",
       "      <td>64</td>\n",
       "    </tr>\n",
       "    <tr>\n",
       "      <th>1</th>\n",
       "      <td>75015</td>\n",
       "      <td>1470000</td>\n",
       "      <td>122</td>\n",
       "    </tr>\n",
       "    <tr>\n",
       "      <th>2</th>\n",
       "      <td>75116</td>\n",
       "      <td>65000</td>\n",
       "      <td>5</td>\n",
       "    </tr>\n",
       "    <tr>\n",
       "      <th>3</th>\n",
       "      <td>75015</td>\n",
       "      <td>80000</td>\n",
       "      <td>7</td>\n",
       "    </tr>\n",
       "    <tr>\n",
       "      <th>4</th>\n",
       "      <td>75006</td>\n",
       "      <td>87000</td>\n",
       "      <td>8</td>\n",
       "    </tr>\n",
       "    <tr>\n",
       "      <th>...</th>\n",
       "      <td>...</td>\n",
       "      <td>...</td>\n",
       "      <td>...</td>\n",
       "    </tr>\n",
       "    <tr>\n",
       "      <th>6970</th>\n",
       "      <td>75016</td>\n",
       "      <td>870000</td>\n",
       "      <td>72</td>\n",
       "    </tr>\n",
       "    <tr>\n",
       "      <th>6971</th>\n",
       "      <td>75002</td>\n",
       "      <td>870000</td>\n",
       "      <td>61</td>\n",
       "    </tr>\n",
       "    <tr>\n",
       "      <th>6972</th>\n",
       "      <td>75004</td>\n",
       "      <td>870000</td>\n",
       "      <td>77</td>\n",
       "    </tr>\n",
       "    <tr>\n",
       "      <th>6973</th>\n",
       "      <td>75010</td>\n",
       "      <td>870000</td>\n",
       "      <td>95</td>\n",
       "    </tr>\n",
       "    <tr>\n",
       "      <th>6974</th>\n",
       "      <td>75010</td>\n",
       "      <td>870000</td>\n",
       "      <td>75</td>\n",
       "    </tr>\n",
       "  </tbody>\n",
       "</table>\n",
       "<p>6751 rows × 3 columns</p>\n",
       "</div>"
      ],
      "text/plain": [
       "      Code Postal  Prix (Euros)  Superficie (m2)\n",
       "0           75017        830000               64\n",
       "1           75015       1470000              122\n",
       "2           75116         65000                5\n",
       "3           75015         80000                7\n",
       "4           75006         87000                8\n",
       "...           ...           ...              ...\n",
       "6970        75016        870000               72\n",
       "6971        75002        870000               61\n",
       "6972        75004        870000               77\n",
       "6973        75010        870000               95\n",
       "6974        75010        870000               75\n",
       "\n",
       "[6751 rows x 3 columns]"
      ]
     },
     "execution_count": 430,
     "metadata": {},
     "output_type": "execute_result"
    }
   ],
   "source": [
    "df[['Code Postal','Prix (Euros)', 'Superficie (m2)']]"
   ]
  },
  {
   "cell_type": "code",
   "execution_count": 431,
   "id": "11b34a3e",
   "metadata": {},
   "outputs": [
    {
     "name": "stdout",
     "output_type": "stream",
     "text": [
      "75018    799\n",
      "75015    783\n",
      "75017    550\n",
      "75019    471\n",
      "75020    468\n",
      "75016    463\n",
      "75011    458\n",
      "75014    390\n",
      "75010    373\n",
      "75013    353\n",
      "75012    314\n",
      "75009    214\n",
      "75007    169\n",
      "75005    161\n",
      "75006    154\n",
      "75008    140\n",
      "75003    126\n",
      "75004    122\n",
      "75002    104\n",
      "75116     81\n",
      "75001     58\n",
      "Name: Code Postal, dtype: int64\n",
      "Code Postal\n",
      "75001    658460.344828\n",
      "75002    490755.769231\n",
      "75003    758653.174603\n",
      "75004    670659.672131\n",
      "75005    599013.664596\n",
      "75006    684374.415584\n",
      "75007    757965.088757\n",
      "75008    772147.785714\n",
      "75009    642550.467290\n",
      "75010    558503.428954\n",
      "75011    562328.598253\n",
      "75012    546952.792994\n",
      "75013    525179.164306\n",
      "75014    581242.923077\n",
      "75015    590033.358876\n",
      "75016    649078.656587\n",
      "75017    531220.509091\n",
      "75018    447111.443054\n",
      "75019    514226.326964\n",
      "75020    498593.367521\n",
      "75116    656995.061728\n",
      "Name: Prix (Euros), dtype: float64\n"
     ]
    }
   ],
   "source": [
    "print(df[\"Code Postal\"].value_counts())\n",
    "print(df.groupby('Code Postal')['Prix (Euros)'].mean())"
   ]
  },
  {
   "cell_type": "code",
   "execution_count": 432,
   "id": "ad5751e2",
   "metadata": {},
   "outputs": [
    {
     "name": "stdout",
     "output_type": "stream",
     "text": [
      "38     151\n",
      "42     136\n",
      "36     126\n",
      "18     122\n",
      "43     121\n",
      "      ... \n",
      "159      1\n",
      "147      1\n",
      "164      1\n",
      "229      1\n",
      "180      1\n",
      "Name: Superficie (m2), Length: 167, dtype: int64\n",
      "Superficie (m2)\n",
      "0      3.669475e+05\n",
      "5      6.220833e+04\n",
      "6      6.961028e+04\n",
      "7      8.612788e+04\n",
      "8      8.968505e+04\n",
      "           ...     \n",
      "177    1.670000e+06\n",
      "180    9.800000e+05\n",
      "188    1.990000e+06\n",
      "229    1.360000e+06\n",
      "237    1.350000e+06\n",
      "Name: Prix (Euros), Length: 167, dtype: float64\n"
     ]
    }
   ],
   "source": [
    "print(df[\"Superficie (m2)\"].value_counts())\n",
    "print(df.groupby('Superficie (m2)')['Prix (Euros)'].mean())"
   ]
  },
  {
   "cell_type": "code",
   "execution_count": 433,
   "id": "648edc80",
   "metadata": {},
   "outputs": [
    {
     "name": "stdout",
     "output_type": "stream",
     "text": [
      "2    2082\n",
      "1    1835\n",
      "3    1704\n",
      "4     807\n",
      "5     261\n",
      "6      52\n",
      "7      10\n",
      "Name: Nombre Pieces, dtype: int64\n",
      "Nombre Pieces\n",
      "1    2.320539e+05\n",
      "2    4.678232e+05\n",
      "3    7.458648e+05\n",
      "4    9.355801e+05\n",
      "5    1.200701e+06\n",
      "6    1.533481e+06\n",
      "7    1.363600e+06\n",
      "Name: Prix (Euros), dtype: float64\n"
     ]
    }
   ],
   "source": [
    "print(df[\"Nombre Pieces\"].value_counts())\n",
    "print(df.groupby('Nombre Pieces')['Prix (Euros)'].mean())"
   ]
  },
  {
   "cell_type": "code",
   "execution_count": 434,
   "id": "06053d4b",
   "metadata": {},
   "outputs": [
    {
     "name": "stdout",
     "output_type": "stream",
     "text": [
      "1    2357\n",
      "0    1848\n",
      "2    1813\n",
      "3     596\n",
      "4     128\n",
      "5       9\n",
      "Name: Nombre Chambres, dtype: int64\n",
      "Nombre Chambres\n",
      "0    2.360274e+05\n",
      "1    5.032077e+05\n",
      "2    7.941405e+05\n",
      "3    9.873794e+05\n",
      "4    1.328208e+06\n",
      "5    1.338778e+06\n",
      "Name: Prix (Euros), dtype: float64\n"
     ]
    }
   ],
   "source": [
    "print(df[\"Nombre Chambres\"].value_counts())\n",
    "print(df.groupby('Nombre Chambres')['Prix (Euros)'].mean())"
   ]
  },
  {
   "cell_type": "code",
   "execution_count": 435,
   "id": "5369e805",
   "metadata": {},
   "outputs": [
    {
     "name": "stdout",
     "output_type": "stream",
     "text": [
      "0    2156\n",
      "5    1402\n",
      "4    1397\n",
      "6     661\n",
      "7     658\n",
      "3     366\n",
      "2      76\n",
      "1      35\n",
      "Name: Classe Energetique, dtype: int64\n",
      "Classe Energetique\n",
      "0    507960.414193\n",
      "1    565255.714286\n",
      "2    800668.368421\n",
      "3    757879.103825\n",
      "4    728533.251253\n",
      "5    590198.255350\n",
      "6    454747.261725\n",
      "7    354963.113982\n",
      "Name: Prix (Euros), dtype: float64\n"
     ]
    }
   ],
   "source": [
    "print(df[\"Classe Energetique\"].value_counts())\n",
    "print(df.groupby('Classe Energetique')['Prix (Euros)'].mean())"
   ]
  },
  {
   "cell_type": "code",
   "execution_count": 436,
   "id": "aee8ac3a",
   "metadata": {},
   "outputs": [
    {
     "name": "stdout",
     "output_type": "stream",
     "text": [
      "10    2528\n",
      "8      710\n",
      "9      710\n",
      "6      663\n",
      "7      637\n",
      "5      503\n",
      "4      409\n",
      "3      250\n",
      "1      207\n",
      "2      108\n",
      "0       26\n",
      "Name: Nombre Photos, dtype: int64\n",
      "Nombre Photos\n",
      "0     386136.153846\n",
      "1     533116.855072\n",
      "2     441810.222222\n",
      "3     354957.792000\n",
      "4     371713.706601\n",
      "5     392989.568588\n",
      "6     445513.719457\n",
      "7     465356.816327\n",
      "8     543466.633803\n",
      "9     606333.314085\n",
      "10    719079.721123\n",
      "Name: Prix (Euros), dtype: float64\n"
     ]
    }
   ],
   "source": [
    "print(df[\"Nombre Photos\"].value_counts())\n",
    "print(df.groupby('Nombre Photos')['Prix (Euros)'].mean())"
   ]
  },
  {
   "cell_type": "code",
   "execution_count": 437,
   "id": "ac734cd8",
   "metadata": {},
   "outputs": [
    {
     "name": "stdout",
     "output_type": "stream",
     "text": [
      " 1    1277\n",
      "-1    1164\n",
      " 2    1081\n",
      " 3     948\n",
      " 4     705\n",
      " 6     610\n",
      " 5     536\n",
      " 7     285\n",
      " 8     109\n",
      " 9      36\n",
      "Name: Etage, dtype: int64\n",
      "Etage\n",
      "-1    526622.327320\n",
      " 1    603953.592796\n",
      " 2    623372.032377\n",
      " 3    654266.207806\n",
      " 4    604173.974468\n",
      " 5    577756.776119\n",
      " 6    396273.722951\n",
      " 7    327374.533333\n",
      " 8    563143.027523\n",
      " 9    615985.555556\n",
      "Name: Prix (Euros), dtype: float64\n"
     ]
    }
   ],
   "source": [
    "print(df[\"Etage\"].value_counts())\n",
    "print(df.groupby('Etage')['Prix (Euros)'].mean())"
   ]
  },
  {
   "cell_type": "code",
   "execution_count": 438,
   "id": "a96a8d1e",
   "metadata": {},
   "outputs": [
    {
     "name": "stdout",
     "output_type": "stream",
     "text": [
      "-1    5474\n",
      " 1    1277\n",
      "Name: Terrasse, dtype: int64\n",
      "Terrasse\n",
      "-1    529539.036536\n",
      " 1    731289.772905\n",
      "Name: Prix (Euros), dtype: float64\n"
     ]
    }
   ],
   "source": [
    "print(df[\"Terrasse\"].value_counts())\n",
    "print(df.groupby('Terrasse')['Prix (Euros)'].mean())"
   ]
  },
  {
   "cell_type": "code",
   "execution_count": 439,
   "id": "00323fc7",
   "metadata": {},
   "outputs": [
    {
     "name": "stdout",
     "output_type": "stream",
     "text": [
      "-1    6264\n",
      " 1     487\n",
      "Name: Parking, dtype: int64\n",
      "Parking\n",
      "-1    555737.339719\n",
      " 1    721591.437372\n",
      "Name: Prix (Euros), dtype: float64\n"
     ]
    }
   ],
   "source": [
    "print(df[\"Parking\"].value_counts())\n",
    "print(df.groupby('Parking')['Prix (Euros)'].mean())"
   ]
  },
  {
   "cell_type": "code",
   "execution_count": 440,
   "id": "b746b0ff",
   "metadata": {},
   "outputs": [
    {
     "name": "stdout",
     "output_type": "stream",
     "text": [
      "-1    3403\n",
      " 1    3348\n",
      "Name: Cave, dtype: int64\n",
      "Cave\n",
      "-1    482151.315604\n",
      " 1    654657.347372\n",
      "Name: Prix (Euros), dtype: float64\n"
     ]
    }
   ],
   "source": [
    "print(df[\"Cave\"].value_counts())\n",
    "print(df.groupby('Cave')['Prix (Euros)'].mean())"
   ]
  },
  {
   "cell_type": "code",
   "execution_count": 441,
   "id": "a99e3b57",
   "metadata": {},
   "outputs": [
    {
     "name": "stdout",
     "output_type": "stream",
     "text": [
      "-1    4061\n",
      " 1    2690\n",
      "Name: Ascenseur, dtype: int64\n",
      "Ascenseur\n",
      "-1    503794.690224\n",
      " 1    664179.735688\n",
      "Name: Prix (Euros), dtype: float64\n"
     ]
    }
   ],
   "source": [
    "print(df[\"Ascenseur\"].value_counts())\n",
    "print(df.groupby('Ascenseur')['Prix (Euros)'].mean())"
   ]
  },
  {
   "cell_type": "code",
   "execution_count": 442,
   "id": "daae56f0",
   "metadata": {},
   "outputs": [
    {
     "name": "stdout",
     "output_type": "stream",
     "text": [
      "-1    5286\n",
      " 1    1465\n",
      "Name: Gardien, dtype: int64\n",
      "Gardien\n",
      "-1    550242.43776\n",
      " 1    630697.74744\n",
      "Name: Prix (Euros), dtype: float64\n"
     ]
    }
   ],
   "source": [
    "print(df[\"Gardien\"].value_counts())\n",
    "print(df.groupby('Gardien')['Prix (Euros)'].mean())"
   ]
  },
  {
   "cell_type": "code",
   "execution_count": 443,
   "id": "7af8ddb2",
   "metadata": {},
   "outputs": [
    {
     "name": "stdout",
     "output_type": "stream",
     "text": [
      "-1    6388\n",
      " 1     363\n",
      "Name: Renove, dtype: int64\n",
      "Renove\n",
      "-1    564836.965717\n",
      " 1    618113.468320\n",
      "Name: Prix (Euros), dtype: float64\n"
     ]
    }
   ],
   "source": [
    "print(df[\"Renove\"].value_counts())\n",
    "print(df.groupby('Renove')['Prix (Euros)'].mean())"
   ]
  },
  {
   "cell_type": "code",
   "execution_count": 444,
   "id": "dda0aa8c",
   "metadata": {},
   "outputs": [
    {
     "name": "stdout",
     "output_type": "stream",
     "text": [
      "-1    6742\n",
      " 1       9\n",
      "Name: Box, dtype: int64\n",
      "Box\n",
      "-1    567401.175616\n",
      " 1    792777.777778\n",
      "Name: Prix (Euros), dtype: float64\n"
     ]
    }
   ],
   "source": [
    "print(df[\"Box\"].value_counts())\n",
    "print(df.groupby('Box')['Prix (Euros)'].mean())"
   ]
  }
 ],
 "metadata": {
  "kernelspec": {
   "display_name": "Python 3 (ipykernel)",
   "language": "python",
   "name": "python3"
  },
  "language_info": {
   "codemirror_mode": {
    "name": "ipython",
    "version": 3
   },
   "file_extension": ".py",
   "mimetype": "text/x-python",
   "name": "python",
   "nbconvert_exporter": "python",
   "pygments_lexer": "ipython3",
   "version": "3.7.11"
  }
 },
 "nbformat": 4,
 "nbformat_minor": 5
}
