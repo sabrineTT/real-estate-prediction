{
 "cells": [
  {
   "cell_type": "markdown",
   "id": "684d74d5",
   "metadata": {},
   "source": [
    "# Imports"
   ]
  },
  {
   "cell_type": "code",
   "execution_count": 54,
   "id": "701a7c28",
   "metadata": {},
   "outputs": [],
   "source": [
    "import pandas as pd\n",
    "import matplotlib.pyplot as plt\n",
    "import numpy as np\n",
    "\n",
    "from sklearn.model_selection import train_test_split\n",
    "from sklearn.model_selection import cross_val_score\n",
    "\n",
    "from sklearn.linear_model import LinearRegression, LassoCV, Ridge, LogisticRegression, BayesianRidge, TweedieRegressor, SGDClassifier, ElasticNet \n",
    "from sklearn.svm import SVR\n",
    "\n",
    "\n",
    "from sklearn import tree\n",
    "from sklearn.feature_selection import SelectFromModel\n",
    "from sklearn.preprocessing import StandardScaler\n",
    "\n",
    "from sklearn.metrics import *"
   ]
  },
  {
   "cell_type": "markdown",
   "id": "935ef21a",
   "metadata": {},
   "source": [
    "# DataFrame, Data et Variables"
   ]
  },
  {
   "cell_type": "code",
   "execution_count": 55,
   "id": "d4efb336",
   "metadata": {},
   "outputs": [
    {
     "data": {
      "text/html": [
       "<div>\n",
       "<style scoped>\n",
       "    .dataframe tbody tr th:only-of-type {\n",
       "        vertical-align: middle;\n",
       "    }\n",
       "\n",
       "    .dataframe tbody tr th {\n",
       "        vertical-align: top;\n",
       "    }\n",
       "\n",
       "    .dataframe thead th {\n",
       "        text-align: right;\n",
       "    }\n",
       "</style>\n",
       "<table border=\"1\" class=\"dataframe\">\n",
       "  <thead>\n",
       "    <tr style=\"text-align: right;\">\n",
       "      <th></th>\n",
       "      <th>Superficie (m2)</th>\n",
       "      <th>Nombre Pieces</th>\n",
       "      <th>Nombre Chambres</th>\n",
       "      <th>Prix (Euros)</th>\n",
       "      <th>Code Postal</th>\n",
       "      <th>Classe Energetique</th>\n",
       "      <th>Nombre Photos</th>\n",
       "      <th>Etage</th>\n",
       "      <th>Type de Bien</th>\n",
       "      <th>Type Vendeur</th>\n",
       "      <th>Terrasse</th>\n",
       "      <th>Parking</th>\n",
       "      <th>Cave</th>\n",
       "      <th>Ascenseur</th>\n",
       "      <th>Gardien</th>\n",
       "      <th>Renove</th>\n",
       "      <th>Box</th>\n",
       "    </tr>\n",
       "  </thead>\n",
       "  <tbody>\n",
       "    <tr>\n",
       "      <th>3643</th>\n",
       "      <td>417</td>\n",
       "      <td>6</td>\n",
       "      <td>4</td>\n",
       "      <td>9900000</td>\n",
       "      <td>75016</td>\n",
       "      <td>5</td>\n",
       "      <td>10</td>\n",
       "      <td>2</td>\n",
       "      <td>1</td>\n",
       "      <td>1</td>\n",
       "      <td>-1</td>\n",
       "      <td>-1</td>\n",
       "      <td>-1</td>\n",
       "      <td>-1</td>\n",
       "      <td>-1</td>\n",
       "      <td>-1</td>\n",
       "      <td>-1</td>\n",
       "    </tr>\n",
       "    <tr>\n",
       "      <th>3642</th>\n",
       "      <td>416</td>\n",
       "      <td>1</td>\n",
       "      <td>8</td>\n",
       "      <td>9375000</td>\n",
       "      <td>75116</td>\n",
       "      <td>0</td>\n",
       "      <td>10</td>\n",
       "      <td>8</td>\n",
       "      <td>1</td>\n",
       "      <td>1</td>\n",
       "      <td>-1</td>\n",
       "      <td>-1</td>\n",
       "      <td>-1</td>\n",
       "      <td>1</td>\n",
       "      <td>-1</td>\n",
       "      <td>-1</td>\n",
       "      <td>-1</td>\n",
       "    </tr>\n",
       "    <tr>\n",
       "      <th>508</th>\n",
       "      <td>254</td>\n",
       "      <td>6</td>\n",
       "      <td>3</td>\n",
       "      <td>9225000</td>\n",
       "      <td>75008</td>\n",
       "      <td>2</td>\n",
       "      <td>10</td>\n",
       "      <td>7</td>\n",
       "      <td>1</td>\n",
       "      <td>1</td>\n",
       "      <td>-1</td>\n",
       "      <td>-1</td>\n",
       "      <td>1</td>\n",
       "      <td>-1</td>\n",
       "      <td>-1</td>\n",
       "      <td>-1</td>\n",
       "      <td>-1</td>\n",
       "    </tr>\n",
       "    <tr>\n",
       "      <th>2302</th>\n",
       "      <td>254</td>\n",
       "      <td>6</td>\n",
       "      <td>3</td>\n",
       "      <td>9225000</td>\n",
       "      <td>75008</td>\n",
       "      <td>2</td>\n",
       "      <td>10</td>\n",
       "      <td>7</td>\n",
       "      <td>1</td>\n",
       "      <td>1</td>\n",
       "      <td>-1</td>\n",
       "      <td>-1</td>\n",
       "      <td>-1</td>\n",
       "      <td>1</td>\n",
       "      <td>-1</td>\n",
       "      <td>-1</td>\n",
       "      <td>-1</td>\n",
       "    </tr>\n",
       "    <tr>\n",
       "      <th>507</th>\n",
       "      <td>393</td>\n",
       "      <td>8</td>\n",
       "      <td>3</td>\n",
       "      <td>9000000</td>\n",
       "      <td>75116</td>\n",
       "      <td>0</td>\n",
       "      <td>10</td>\n",
       "      <td>5</td>\n",
       "      <td>1</td>\n",
       "      <td>1</td>\n",
       "      <td>1</td>\n",
       "      <td>-1</td>\n",
       "      <td>-1</td>\n",
       "      <td>1</td>\n",
       "      <td>-1</td>\n",
       "      <td>-1</td>\n",
       "      <td>-1</td>\n",
       "    </tr>\n",
       "    <tr>\n",
       "      <th>2301</th>\n",
       "      <td>393</td>\n",
       "      <td>8</td>\n",
       "      <td>3</td>\n",
       "      <td>9000000</td>\n",
       "      <td>75116</td>\n",
       "      <td>0</td>\n",
       "      <td>10</td>\n",
       "      <td>5</td>\n",
       "      <td>1</td>\n",
       "      <td>1</td>\n",
       "      <td>-1</td>\n",
       "      <td>-1</td>\n",
       "      <td>-1</td>\n",
       "      <td>1</td>\n",
       "      <td>-1</td>\n",
       "      <td>-1</td>\n",
       "      <td>-1</td>\n",
       "    </tr>\n",
       "    <tr>\n",
       "      <th>3641</th>\n",
       "      <td>265</td>\n",
       "      <td>6</td>\n",
       "      <td>2</td>\n",
       "      <td>7290000</td>\n",
       "      <td>75116</td>\n",
       "      <td>5</td>\n",
       "      <td>4</td>\n",
       "      <td>3</td>\n",
       "      <td>1</td>\n",
       "      <td>1</td>\n",
       "      <td>-1</td>\n",
       "      <td>-1</td>\n",
       "      <td>-1</td>\n",
       "      <td>-1</td>\n",
       "      <td>-1</td>\n",
       "      <td>-1</td>\n",
       "      <td>-1</td>\n",
       "    </tr>\n",
       "    <tr>\n",
       "      <th>3640</th>\n",
       "      <td>274</td>\n",
       "      <td>7</td>\n",
       "      <td>4</td>\n",
       "      <td>6950000</td>\n",
       "      <td>75007</td>\n",
       "      <td>4</td>\n",
       "      <td>10</td>\n",
       "      <td>-1</td>\n",
       "      <td>1</td>\n",
       "      <td>1</td>\n",
       "      <td>-1</td>\n",
       "      <td>-1</td>\n",
       "      <td>-1</td>\n",
       "      <td>-1</td>\n",
       "      <td>-1</td>\n",
       "      <td>-1</td>\n",
       "      <td>-1</td>\n",
       "    </tr>\n",
       "    <tr>\n",
       "      <th>3639</th>\n",
       "      <td>187</td>\n",
       "      <td>4</td>\n",
       "      <td>2</td>\n",
       "      <td>6600000</td>\n",
       "      <td>75008</td>\n",
       "      <td>0</td>\n",
       "      <td>10</td>\n",
       "      <td>8</td>\n",
       "      <td>1</td>\n",
       "      <td>1</td>\n",
       "      <td>-1</td>\n",
       "      <td>-1</td>\n",
       "      <td>-1</td>\n",
       "      <td>1</td>\n",
       "      <td>-1</td>\n",
       "      <td>-1</td>\n",
       "      <td>-1</td>\n",
       "    </tr>\n",
       "    <tr>\n",
       "      <th>3957</th>\n",
       "      <td>460</td>\n",
       "      <td>8</td>\n",
       "      <td>5</td>\n",
       "      <td>6500000</td>\n",
       "      <td>75116</td>\n",
       "      <td>0</td>\n",
       "      <td>0</td>\n",
       "      <td>3</td>\n",
       "      <td>1</td>\n",
       "      <td>1</td>\n",
       "      <td>-1</td>\n",
       "      <td>-1</td>\n",
       "      <td>-1</td>\n",
       "      <td>-1</td>\n",
       "      <td>-1</td>\n",
       "      <td>-1</td>\n",
       "      <td>-1</td>\n",
       "    </tr>\n",
       "    <tr>\n",
       "      <th>3638</th>\n",
       "      <td>256</td>\n",
       "      <td>8</td>\n",
       "      <td>5</td>\n",
       "      <td>6400000</td>\n",
       "      <td>75016</td>\n",
       "      <td>0</td>\n",
       "      <td>10</td>\n",
       "      <td>6</td>\n",
       "      <td>1</td>\n",
       "      <td>1</td>\n",
       "      <td>-1</td>\n",
       "      <td>-1</td>\n",
       "      <td>-1</td>\n",
       "      <td>-1</td>\n",
       "      <td>-1</td>\n",
       "      <td>-1</td>\n",
       "      <td>-1</td>\n",
       "    </tr>\n",
       "    <tr>\n",
       "      <th>3637</th>\n",
       "      <td>317</td>\n",
       "      <td>6</td>\n",
       "      <td>4</td>\n",
       "      <td>6300000</td>\n",
       "      <td>75017</td>\n",
       "      <td>2</td>\n",
       "      <td>10</td>\n",
       "      <td>2</td>\n",
       "      <td>1</td>\n",
       "      <td>1</td>\n",
       "      <td>-1</td>\n",
       "      <td>-1</td>\n",
       "      <td>-1</td>\n",
       "      <td>-1</td>\n",
       "      <td>-1</td>\n",
       "      <td>-1</td>\n",
       "      <td>-1</td>\n",
       "    </tr>\n",
       "    <tr>\n",
       "      <th>3636</th>\n",
       "      <td>233</td>\n",
       "      <td>6</td>\n",
       "      <td>3</td>\n",
       "      <td>5750000</td>\n",
       "      <td>75007</td>\n",
       "      <td>6</td>\n",
       "      <td>10</td>\n",
       "      <td>2</td>\n",
       "      <td>1</td>\n",
       "      <td>1</td>\n",
       "      <td>-1</td>\n",
       "      <td>-1</td>\n",
       "      <td>-1</td>\n",
       "      <td>1</td>\n",
       "      <td>1</td>\n",
       "      <td>-1</td>\n",
       "      <td>-1</td>\n",
       "    </tr>\n",
       "    <tr>\n",
       "      <th>3635</th>\n",
       "      <td>200</td>\n",
       "      <td>5</td>\n",
       "      <td>3</td>\n",
       "      <td>5700000</td>\n",
       "      <td>75016</td>\n",
       "      <td>0</td>\n",
       "      <td>10</td>\n",
       "      <td>3</td>\n",
       "      <td>1</td>\n",
       "      <td>1</td>\n",
       "      <td>1</td>\n",
       "      <td>-1</td>\n",
       "      <td>-1</td>\n",
       "      <td>-1</td>\n",
       "      <td>-1</td>\n",
       "      <td>-1</td>\n",
       "      <td>-1</td>\n",
       "    </tr>\n",
       "    <tr>\n",
       "      <th>2300</th>\n",
       "      <td>226</td>\n",
       "      <td>5</td>\n",
       "      <td>2</td>\n",
       "      <td>5400000</td>\n",
       "      <td>75009</td>\n",
       "      <td>5</td>\n",
       "      <td>10</td>\n",
       "      <td>2</td>\n",
       "      <td>1</td>\n",
       "      <td>1</td>\n",
       "      <td>-1</td>\n",
       "      <td>-1</td>\n",
       "      <td>-1</td>\n",
       "      <td>-1</td>\n",
       "      <td>-1</td>\n",
       "      <td>-1</td>\n",
       "      <td>-1</td>\n",
       "    </tr>\n",
       "  </tbody>\n",
       "</table>\n",
       "</div>"
      ],
      "text/plain": [
       "      Superficie (m2)  Nombre Pieces  Nombre Chambres  Prix (Euros)  \\\n",
       "3643              417              6                4       9900000   \n",
       "3642              416              1                8       9375000   \n",
       "508               254              6                3       9225000   \n",
       "2302              254              6                3       9225000   \n",
       "507               393              8                3       9000000   \n",
       "2301              393              8                3       9000000   \n",
       "3641              265              6                2       7290000   \n",
       "3640              274              7                4       6950000   \n",
       "3639              187              4                2       6600000   \n",
       "3957              460              8                5       6500000   \n",
       "3638              256              8                5       6400000   \n",
       "3637              317              6                4       6300000   \n",
       "3636              233              6                3       5750000   \n",
       "3635              200              5                3       5700000   \n",
       "2300              226              5                2       5400000   \n",
       "\n",
       "      Code Postal  Classe Energetique  Nombre Photos  Etage  Type de Bien  \\\n",
       "3643        75016                   5             10      2             1   \n",
       "3642        75116                   0             10      8             1   \n",
       "508         75008                   2             10      7             1   \n",
       "2302        75008                   2             10      7             1   \n",
       "507         75116                   0             10      5             1   \n",
       "2301        75116                   0             10      5             1   \n",
       "3641        75116                   5              4      3             1   \n",
       "3640        75007                   4             10     -1             1   \n",
       "3639        75008                   0             10      8             1   \n",
       "3957        75116                   0              0      3             1   \n",
       "3638        75016                   0             10      6             1   \n",
       "3637        75017                   2             10      2             1   \n",
       "3636        75007                   6             10      2             1   \n",
       "3635        75016                   0             10      3             1   \n",
       "2300        75009                   5             10      2             1   \n",
       "\n",
       "      Type Vendeur  Terrasse  Parking  Cave  Ascenseur  Gardien  Renove  Box  \n",
       "3643             1        -1       -1    -1         -1       -1      -1   -1  \n",
       "3642             1        -1       -1    -1          1       -1      -1   -1  \n",
       "508              1        -1       -1     1         -1       -1      -1   -1  \n",
       "2302             1        -1       -1    -1          1       -1      -1   -1  \n",
       "507              1         1       -1    -1          1       -1      -1   -1  \n",
       "2301             1        -1       -1    -1          1       -1      -1   -1  \n",
       "3641             1        -1       -1    -1         -1       -1      -1   -1  \n",
       "3640             1        -1       -1    -1         -1       -1      -1   -1  \n",
       "3639             1        -1       -1    -1          1       -1      -1   -1  \n",
       "3957             1        -1       -1    -1         -1       -1      -1   -1  \n",
       "3638             1        -1       -1    -1         -1       -1      -1   -1  \n",
       "3637             1        -1       -1    -1         -1       -1      -1   -1  \n",
       "3636             1        -1       -1    -1          1        1      -1   -1  \n",
       "3635             1         1       -1    -1         -1       -1      -1   -1  \n",
       "2300             1        -1       -1    -1         -1       -1      -1   -1  "
      ]
     },
     "execution_count": 55,
     "metadata": {},
     "output_type": "execute_result"
    }
   ],
   "source": [
    "df = pd.read_csv('logicimmo - Copie.csv')\n",
    "X = df.drop('Prix (Euros)', axis = 1)\n",
    "y = df['Prix (Euros)']\n",
    "\n",
    "df.sort_values(by=['Prix (Euros)'], ascending=False).head(15)"
   ]
  },
  {
   "cell_type": "code",
   "execution_count": 56,
   "id": "b473eee3",
   "metadata": {},
   "outputs": [
    {
     "name": "stdout",
     "output_type": "stream",
     "text": [
      "Nombre de bien supprimé :  224\n"
     ]
    },
    {
     "data": {
      "text/html": [
       "<div>\n",
       "<style scoped>\n",
       "    .dataframe tbody tr th:only-of-type {\n",
       "        vertical-align: middle;\n",
       "    }\n",
       "\n",
       "    .dataframe tbody tr th {\n",
       "        vertical-align: top;\n",
       "    }\n",
       "\n",
       "    .dataframe thead th {\n",
       "        text-align: right;\n",
       "    }\n",
       "</style>\n",
       "<table border=\"1\" class=\"dataframe\">\n",
       "  <thead>\n",
       "    <tr style=\"text-align: right;\">\n",
       "      <th></th>\n",
       "      <th>Superficie (m2)</th>\n",
       "      <th>Nombre Pieces</th>\n",
       "      <th>Nombre Chambres</th>\n",
       "      <th>Prix (Euros)</th>\n",
       "      <th>Code Postal</th>\n",
       "      <th>Classe Energetique</th>\n",
       "      <th>Nombre Photos</th>\n",
       "      <th>Etage</th>\n",
       "      <th>Type de Bien</th>\n",
       "      <th>Type Vendeur</th>\n",
       "      <th>Terrasse</th>\n",
       "      <th>Parking</th>\n",
       "      <th>Cave</th>\n",
       "      <th>Ascenseur</th>\n",
       "      <th>Gardien</th>\n",
       "      <th>Renove</th>\n",
       "      <th>Box</th>\n",
       "    </tr>\n",
       "  </thead>\n",
       "  <tbody>\n",
       "    <tr>\n",
       "      <th>2251</th>\n",
       "      <td>168</td>\n",
       "      <td>6</td>\n",
       "      <td>4</td>\n",
       "      <td>2000000</td>\n",
       "      <td>75009</td>\n",
       "      <td>0</td>\n",
       "      <td>10</td>\n",
       "      <td>2</td>\n",
       "      <td>1</td>\n",
       "      <td>1</td>\n",
       "      <td>-1</td>\n",
       "      <td>-1</td>\n",
       "      <td>-1</td>\n",
       "      <td>-1</td>\n",
       "      <td>-1</td>\n",
       "      <td>-1</td>\n",
       "      <td>-1</td>\n",
       "    </tr>\n",
       "    <tr>\n",
       "      <th>2248</th>\n",
       "      <td>100</td>\n",
       "      <td>3</td>\n",
       "      <td>2</td>\n",
       "      <td>1990000</td>\n",
       "      <td>75001</td>\n",
       "      <td>0</td>\n",
       "      <td>10</td>\n",
       "      <td>4</td>\n",
       "      <td>1</td>\n",
       "      <td>1</td>\n",
       "      <td>-1</td>\n",
       "      <td>-1</td>\n",
       "      <td>1</td>\n",
       "      <td>1</td>\n",
       "      <td>-1</td>\n",
       "      <td>-1</td>\n",
       "      <td>-1</td>\n",
       "    </tr>\n",
       "    <tr>\n",
       "      <th>460</th>\n",
       "      <td>100</td>\n",
       "      <td>3</td>\n",
       "      <td>2</td>\n",
       "      <td>1990000</td>\n",
       "      <td>75001</td>\n",
       "      <td>0</td>\n",
       "      <td>10</td>\n",
       "      <td>4</td>\n",
       "      <td>1</td>\n",
       "      <td>1</td>\n",
       "      <td>-1</td>\n",
       "      <td>-1</td>\n",
       "      <td>-1</td>\n",
       "      <td>1</td>\n",
       "      <td>-1</td>\n",
       "      <td>-1</td>\n",
       "      <td>-1</td>\n",
       "    </tr>\n",
       "    <tr>\n",
       "      <th>461</th>\n",
       "      <td>188</td>\n",
       "      <td>7</td>\n",
       "      <td>4</td>\n",
       "      <td>1990000</td>\n",
       "      <td>75016</td>\n",
       "      <td>4</td>\n",
       "      <td>10</td>\n",
       "      <td>3</td>\n",
       "      <td>1</td>\n",
       "      <td>1</td>\n",
       "      <td>-1</td>\n",
       "      <td>-1</td>\n",
       "      <td>1</td>\n",
       "      <td>-1</td>\n",
       "      <td>-1</td>\n",
       "      <td>-1</td>\n",
       "      <td>-1</td>\n",
       "    </tr>\n",
       "    <tr>\n",
       "      <th>462</th>\n",
       "      <td>133</td>\n",
       "      <td>5</td>\n",
       "      <td>3</td>\n",
       "      <td>1990000</td>\n",
       "      <td>75016</td>\n",
       "      <td>0</td>\n",
       "      <td>1</td>\n",
       "      <td>2</td>\n",
       "      <td>1</td>\n",
       "      <td>1</td>\n",
       "      <td>-1</td>\n",
       "      <td>-1</td>\n",
       "      <td>1</td>\n",
       "      <td>1</td>\n",
       "      <td>-1</td>\n",
       "      <td>-1</td>\n",
       "      <td>-1</td>\n",
       "    </tr>\n",
       "    <tr>\n",
       "      <th>3536</th>\n",
       "      <td>188</td>\n",
       "      <td>7</td>\n",
       "      <td>4</td>\n",
       "      <td>1990000</td>\n",
       "      <td>75016</td>\n",
       "      <td>4</td>\n",
       "      <td>10</td>\n",
       "      <td>3</td>\n",
       "      <td>1</td>\n",
       "      <td>1</td>\n",
       "      <td>-1</td>\n",
       "      <td>-1</td>\n",
       "      <td>-1</td>\n",
       "      <td>-1</td>\n",
       "      <td>-1</td>\n",
       "      <td>-1</td>\n",
       "      <td>-1</td>\n",
       "    </tr>\n",
       "    <tr>\n",
       "      <th>2250</th>\n",
       "      <td>188</td>\n",
       "      <td>7</td>\n",
       "      <td>4</td>\n",
       "      <td>1990000</td>\n",
       "      <td>75016</td>\n",
       "      <td>4</td>\n",
       "      <td>10</td>\n",
       "      <td>3</td>\n",
       "      <td>1</td>\n",
       "      <td>1</td>\n",
       "      <td>1</td>\n",
       "      <td>1</td>\n",
       "      <td>1</td>\n",
       "      <td>1</td>\n",
       "      <td>-1</td>\n",
       "      <td>-1</td>\n",
       "      <td>-1</td>\n",
       "    </tr>\n",
       "    <tr>\n",
       "      <th>2249</th>\n",
       "      <td>133</td>\n",
       "      <td>5</td>\n",
       "      <td>3</td>\n",
       "      <td>1990000</td>\n",
       "      <td>75016</td>\n",
       "      <td>0</td>\n",
       "      <td>1</td>\n",
       "      <td>2</td>\n",
       "      <td>1</td>\n",
       "      <td>1</td>\n",
       "      <td>1</td>\n",
       "      <td>-1</td>\n",
       "      <td>1</td>\n",
       "      <td>1</td>\n",
       "      <td>-1</td>\n",
       "      <td>-1</td>\n",
       "      <td>-1</td>\n",
       "    </tr>\n",
       "    <tr>\n",
       "      <th>3535</th>\n",
       "      <td>138</td>\n",
       "      <td>5</td>\n",
       "      <td>3</td>\n",
       "      <td>1984000</td>\n",
       "      <td>75008</td>\n",
       "      <td>2</td>\n",
       "      <td>10</td>\n",
       "      <td>5</td>\n",
       "      <td>1</td>\n",
       "      <td>1</td>\n",
       "      <td>-1</td>\n",
       "      <td>-1</td>\n",
       "      <td>-1</td>\n",
       "      <td>-1</td>\n",
       "      <td>-1</td>\n",
       "      <td>-1</td>\n",
       "      <td>-1</td>\n",
       "    </tr>\n",
       "    <tr>\n",
       "      <th>3937</th>\n",
       "      <td>156</td>\n",
       "      <td>1</td>\n",
       "      <td>5</td>\n",
       "      <td>1980000</td>\n",
       "      <td>75005</td>\n",
       "      <td>6</td>\n",
       "      <td>10</td>\n",
       "      <td>2</td>\n",
       "      <td>1</td>\n",
       "      <td>1</td>\n",
       "      <td>-1</td>\n",
       "      <td>-1</td>\n",
       "      <td>-1</td>\n",
       "      <td>-1</td>\n",
       "      <td>-1</td>\n",
       "      <td>-1</td>\n",
       "      <td>-1</td>\n",
       "    </tr>\n",
       "    <tr>\n",
       "      <th>458</th>\n",
       "      <td>168</td>\n",
       "      <td>6</td>\n",
       "      <td>4</td>\n",
       "      <td>1975000</td>\n",
       "      <td>75009</td>\n",
       "      <td>2</td>\n",
       "      <td>10</td>\n",
       "      <td>1</td>\n",
       "      <td>1</td>\n",
       "      <td>1</td>\n",
       "      <td>-1</td>\n",
       "      <td>-1</td>\n",
       "      <td>1</td>\n",
       "      <td>-1</td>\n",
       "      <td>-1</td>\n",
       "      <td>-1</td>\n",
       "      <td>-1</td>\n",
       "    </tr>\n",
       "    <tr>\n",
       "      <th>3534</th>\n",
       "      <td>150</td>\n",
       "      <td>5</td>\n",
       "      <td>4</td>\n",
       "      <td>1975000</td>\n",
       "      <td>75016</td>\n",
       "      <td>4</td>\n",
       "      <td>10</td>\n",
       "      <td>-1</td>\n",
       "      <td>1</td>\n",
       "      <td>1</td>\n",
       "      <td>-1</td>\n",
       "      <td>-1</td>\n",
       "      <td>-1</td>\n",
       "      <td>-1</td>\n",
       "      <td>-1</td>\n",
       "      <td>-1</td>\n",
       "      <td>-1</td>\n",
       "    </tr>\n",
       "    <tr>\n",
       "      <th>459</th>\n",
       "      <td>157</td>\n",
       "      <td>6</td>\n",
       "      <td>4</td>\n",
       "      <td>1975000</td>\n",
       "      <td>75009</td>\n",
       "      <td>4</td>\n",
       "      <td>10</td>\n",
       "      <td>3</td>\n",
       "      <td>1</td>\n",
       "      <td>1</td>\n",
       "      <td>-1</td>\n",
       "      <td>-1</td>\n",
       "      <td>1</td>\n",
       "      <td>1</td>\n",
       "      <td>-1</td>\n",
       "      <td>-1</td>\n",
       "      <td>-1</td>\n",
       "    </tr>\n",
       "    <tr>\n",
       "      <th>2247</th>\n",
       "      <td>157</td>\n",
       "      <td>6</td>\n",
       "      <td>4</td>\n",
       "      <td>1975000</td>\n",
       "      <td>75009</td>\n",
       "      <td>4</td>\n",
       "      <td>10</td>\n",
       "      <td>3</td>\n",
       "      <td>1</td>\n",
       "      <td>1</td>\n",
       "      <td>-1</td>\n",
       "      <td>-1</td>\n",
       "      <td>1</td>\n",
       "      <td>1</td>\n",
       "      <td>1</td>\n",
       "      <td>-1</td>\n",
       "      <td>-1</td>\n",
       "    </tr>\n",
       "    <tr>\n",
       "      <th>3533</th>\n",
       "      <td>174</td>\n",
       "      <td>5</td>\n",
       "      <td>3</td>\n",
       "      <td>1970000</td>\n",
       "      <td>75007</td>\n",
       "      <td>5</td>\n",
       "      <td>6</td>\n",
       "      <td>-1</td>\n",
       "      <td>1</td>\n",
       "      <td>1</td>\n",
       "      <td>1</td>\n",
       "      <td>-1</td>\n",
       "      <td>1</td>\n",
       "      <td>1</td>\n",
       "      <td>-1</td>\n",
       "      <td>-1</td>\n",
       "      <td>-1</td>\n",
       "    </tr>\n",
       "  </tbody>\n",
       "</table>\n",
       "</div>"
      ],
      "text/plain": [
       "      Superficie (m2)  Nombre Pieces  Nombre Chambres  Prix (Euros)  \\\n",
       "2251              168              6                4       2000000   \n",
       "2248              100              3                2       1990000   \n",
       "460               100              3                2       1990000   \n",
       "461               188              7                4       1990000   \n",
       "462               133              5                3       1990000   \n",
       "3536              188              7                4       1990000   \n",
       "2250              188              7                4       1990000   \n",
       "2249              133              5                3       1990000   \n",
       "3535              138              5                3       1984000   \n",
       "3937              156              1                5       1980000   \n",
       "458               168              6                4       1975000   \n",
       "3534              150              5                4       1975000   \n",
       "459               157              6                4       1975000   \n",
       "2247              157              6                4       1975000   \n",
       "3533              174              5                3       1970000   \n",
       "\n",
       "      Code Postal  Classe Energetique  Nombre Photos  Etage  Type de Bien  \\\n",
       "2251        75009                   0             10      2             1   \n",
       "2248        75001                   0             10      4             1   \n",
       "460         75001                   0             10      4             1   \n",
       "461         75016                   4             10      3             1   \n",
       "462         75016                   0              1      2             1   \n",
       "3536        75016                   4             10      3             1   \n",
       "2250        75016                   4             10      3             1   \n",
       "2249        75016                   0              1      2             1   \n",
       "3535        75008                   2             10      5             1   \n",
       "3937        75005                   6             10      2             1   \n",
       "458         75009                   2             10      1             1   \n",
       "3534        75016                   4             10     -1             1   \n",
       "459         75009                   4             10      3             1   \n",
       "2247        75009                   4             10      3             1   \n",
       "3533        75007                   5              6     -1             1   \n",
       "\n",
       "      Type Vendeur  Terrasse  Parking  Cave  Ascenseur  Gardien  Renove  Box  \n",
       "2251             1        -1       -1    -1         -1       -1      -1   -1  \n",
       "2248             1        -1       -1     1          1       -1      -1   -1  \n",
       "460              1        -1       -1    -1          1       -1      -1   -1  \n",
       "461              1        -1       -1     1         -1       -1      -1   -1  \n",
       "462              1        -1       -1     1          1       -1      -1   -1  \n",
       "3536             1        -1       -1    -1         -1       -1      -1   -1  \n",
       "2250             1         1        1     1          1       -1      -1   -1  \n",
       "2249             1         1       -1     1          1       -1      -1   -1  \n",
       "3535             1        -1       -1    -1         -1       -1      -1   -1  \n",
       "3937             1        -1       -1    -1         -1       -1      -1   -1  \n",
       "458              1        -1       -1     1         -1       -1      -1   -1  \n",
       "3534             1        -1       -1    -1         -1       -1      -1   -1  \n",
       "459              1        -1       -1     1          1       -1      -1   -1  \n",
       "2247             1        -1       -1     1          1        1      -1   -1  \n",
       "3533             1         1       -1     1          1       -1      -1   -1  "
      ]
     },
     "execution_count": 56,
     "metadata": {},
     "output_type": "execute_result"
    }
   ],
   "source": [
    "compteur = 0\n",
    "for prix in y :\n",
    "    if prix > 2000000 :\n",
    "        compteur += 1\n",
    "        df.drop(df[df['Prix (Euros)'] == prix].index, inplace = True)\n",
    "\n",
    "print(\"Nombre de bien supprimé : \",compteur)\n",
    "\n",
    "X = df.drop('Prix (Euros)', axis = 1)\n",
    "y = df['Prix (Euros)']\n",
    "\n",
    "df.sort_values(by=['Prix (Euros)'], ascending=False).head(15)"
   ]
  },
  {
   "cell_type": "code",
   "execution_count": 57,
   "id": "88d54e96",
   "metadata": {},
   "outputs": [],
   "source": [
    "X_train, X_test, y_train, y_test = train_test_split(X,y,test_size=0.2)"
   ]
  },
  {
   "cell_type": "code",
   "execution_count": 58,
   "id": "a1a5d193",
   "metadata": {},
   "outputs": [],
   "source": [
    "MAE_list = []\n",
    "RMSE_list = []\n",
    "median_abs_err_list = []\n",
    "model_list = []\n",
    "score_list = []\n",
    "mean_error_list = []\n",
    "r2_list = []\n",
    "max_error_list = []\n",
    "variance_list = []\n",
    "percentage_error_list = []"
   ]
  },
  {
   "cell_type": "markdown",
   "id": "1f5afeb1",
   "metadata": {},
   "source": [
    "# Modèles  :"
   ]
  },
  {
   "cell_type": "markdown",
   "id": "4a3b09c1",
   "metadata": {},
   "source": [
    "### 1) Regression linéaire "
   ]
  },
  {
   "cell_type": "code",
   "execution_count": 59,
   "id": "c30b7f87",
   "metadata": {},
   "outputs": [
    {
     "data": {
      "text/plain": [
       "0.8503820288735916"
      ]
     },
     "execution_count": 59,
     "metadata": {},
     "output_type": "execute_result"
    }
   ],
   "source": [
    "model_lin_reg = LinearRegression()\n",
    "model_lin_reg.fit(X_train,y_train)\n",
    "score_lin_reg = model_lin_reg.score(X_test,y_test)\n",
    "score_list.append(score_lin_reg)\n",
    "score_lin_reg"
   ]
  },
  {
   "cell_type": "code",
   "execution_count": 60,
   "id": "c3331df3",
   "metadata": {},
   "outputs": [
    {
     "data": {
      "text/plain": [
       "array([0.76628486, 0.75249295, 0.89216701])"
      ]
     },
     "execution_count": 60,
     "metadata": {},
     "output_type": "execute_result"
    }
   ],
   "source": [
    "cross_val_score(model_lin_reg, X, y, cv=3)"
   ]
  },
  {
   "cell_type": "code",
   "execution_count": 61,
   "id": "24762bea",
   "metadata": {},
   "outputs": [
    {
     "data": {
      "text/plain": [
       "array([False,  True,  True, False, False, False, False, False, False,\n",
       "       False,  True, False, False, False, False,  True])"
      ]
     },
     "execution_count": 61,
     "metadata": {},
     "output_type": "execute_result"
    }
   ],
   "source": [
    "linear_selector = SelectFromModel(LinearRegression(),threshold='mean')\n",
    "linear_selector.fit_transform(X,y)\n",
    "linear_selector.get_support()"
   ]
  },
  {
   "cell_type": "code",
   "execution_count": 62,
   "id": "412f9fae",
   "metadata": {},
   "outputs": [
    {
     "name": "stdout",
     "output_type": "stream",
     "text": [
      "MAE :  80817.89305200159\n",
      "RMSE :  137860.8259503258\n",
      "median absolut error :  47960.46482466161\n",
      "R2 score :  0.8503820288735916\n",
      "Max error :  1449585.4975651503\n",
      "Explained variance :  0.8508924781975237\n",
      "mean abs percentage error :  0.18161209491284158\n"
     ]
    }
   ],
   "source": [
    "y_pred = model_lin_reg.predict(X_test)\n",
    "print('MAE : ', mean_absolute_error(y_test,y_pred))\n",
    "print('RMSE : ', np.sqrt(mean_squared_error(y_test, y_pred)))\n",
    "print('median absolut error : ', median_absolute_error(y_test, y_pred))\n",
    "print('R2 score : ', r2_score(y_test, y_pred))\n",
    "print('Max error : ', max_error(y_test, y_pred))\n",
    "print('Explained variance : ', explained_variance_score(y_test, y_pred))\n",
    "print('mean abs percentage error : ', mean_absolute_percentage_error(y_test, y_pred))"
   ]
  },
  {
   "cell_type": "code",
   "execution_count": 63,
   "id": "492fe397",
   "metadata": {},
   "outputs": [],
   "source": [
    "MAE_list.append(mean_absolute_error(y_test,y_pred))\n",
    "RMSE_list.append(np.sqrt(mean_squared_error(y_test, y_pred)))\n",
    "median_abs_err_list.append(median_absolute_error(y_test, y_pred))\n",
    "r2_list.append(r2_score(y_test, y_pred))\n",
    "max_error_list.append(max_error(y_test, y_pred))\n",
    "variance_list.append(explained_variance_score(y_test, y_pred))\n",
    "percentage_error_list.append(mean_absolute_percentage_error(y_test, y_pred))\n",
    "model_list.append(\"Regression \\nLineaire\")"
   ]
  },
  {
   "cell_type": "code",
   "execution_count": 64,
   "id": "2c7c1da2",
   "metadata": {},
   "outputs": [
    {
     "data": {
      "text/plain": [
       "<function matplotlib.pyplot.show(close=None, block=None)>"
      ]
     },
     "execution_count": 64,
     "metadata": {},
     "output_type": "execute_result"
    },
    {
     "data": {
      "image/png": "[encoded data removed]",
      "text/plain": [
       "<Figure size 432x288 with 1 Axes>"
      ]
     },
     "metadata": {
      "needs_background": "light"
     },
     "output_type": "display_data"
    }
   ],
   "source": [
    "error_hist = np.abs(y_test - y_pred)\n",
    "mean_error_list.append(error_hist.mean())\n",
    "plt.hist(error_hist, bins=50)\n",
    "plt.show"
   ]
  },
  {
   "cell_type": "code",
   "execution_count": 65,
   "id": "ad22d94e",
   "metadata": {},
   "outputs": [
    {
     "data": {
      "text/plain": [
       "array([ -84101.82375367, -108086.31427521,  -84671.73421657])"
      ]
     },
     "execution_count": 65,
     "metadata": {},
     "output_type": "execute_result"
    }
   ],
   "source": [
    "cross_val_score(model_lin_reg, X, y, cv=3, scoring='neg_mean_absolute_error')"
   ]
  },
  {
   "cell_type": "markdown",
   "id": "0f573bb0",
   "metadata": {},
   "source": [
    "### 2) Lasso CV"
   ]
  },
  {
   "cell_type": "code",
   "execution_count": 66,
   "id": "e99f70b8",
   "metadata": {},
   "outputs": [
    {
     "data": {
      "text/plain": [
       "0.8468375061560514"
      ]
     },
     "execution_count": 66,
     "metadata": {},
     "output_type": "execute_result"
    }
   ],
   "source": [
    "model_lasso_cv = LassoCV(cv=5)\n",
    "model_lasso_cv.fit(X_train, y_train)\n",
    "score_lasso_cv = model_lasso_cv.score(X_test, y_test)\n",
    "score_list.append(score_lasso_cv)\n",
    "score_lasso_cv"
   ]
  },
  {
   "cell_type": "code",
   "execution_count": 67,
   "id": "37868138",
   "metadata": {},
   "outputs": [
    {
     "data": {
      "text/plain": [
       "array([0.75473795, 0.74855568, 0.89655072])"
      ]
     },
     "execution_count": 67,
     "metadata": {},
     "output_type": "execute_result"
    }
   ],
   "source": [
    "cross_val_score(model_lasso_cv, X, y, cv=3)"
   ]
  },
  {
   "cell_type": "code",
   "execution_count": 68,
   "id": "fe1344dd",
   "metadata": {},
   "outputs": [
    {
     "data": {
      "text/plain": [
       "array([ True, False, False, False,  True,  True,  True, False, False,\n",
       "       False, False, False, False, False, False, False])"
      ]
     },
     "execution_count": 68,
     "metadata": {},
     "output_type": "execute_result"
    }
   ],
   "source": [
    "lasso_selector = SelectFromModel(LassoCV(cv=3),threshold='mean')\n",
    "lasso_selector.fit_transform(X,y)\n",
    "lasso_selector.get_support()"
   ]
  },
  {
   "cell_type": "code",
   "execution_count": 69,
   "id": "a68f4a82",
   "metadata": {},
   "outputs": [
    {
     "name": "stdout",
     "output_type": "stream",
     "text": [
      "MAE :  80601.11778628656\n",
      "RMSE :  139484.26233831482\n",
      "median absolut error :  45864.324587509036\n",
      "R2 score :  0.8468375061560514\n",
      "Max error :  1377819.8258650303\n",
      "Explained variance :  0.8474700577341037\n",
      "mean abs percentage error :  0.17500747329489055\n"
     ]
    }
   ],
   "source": [
    "y_pred = model_lasso_cv.predict(X_test)\n",
    "print('MAE : ', mean_absolute_error(y_test,y_pred))\n",
    "print('RMSE : ', np.sqrt(mean_squared_error(y_test, y_pred)))\n",
    "print('median absolut error : ', median_absolute_error(y_test, y_pred))\n",
    "print('R2 score : ', r2_score(y_test, y_pred))\n",
    "print('Max error : ', max_error(y_test, y_pred))\n",
    "print('Explained variance : ', explained_variance_score(y_test, y_pred))\n",
    "print('mean abs percentage error : ', mean_absolute_percentage_error(y_test, y_pred))"
   ]
  },
  {
   "cell_type": "code",
   "execution_count": 70,
   "id": "9e8ec2a9",
   "metadata": {},
   "outputs": [],
   "source": [
    "MAE_list.append(mean_absolute_error(y_test,y_pred))\n",
    "RMSE_list.append(np.sqrt(mean_squared_error(y_test, y_pred)))\n",
    "median_abs_err_list.append(median_absolute_error(y_test, y_pred))\n",
    "r2_list.append(r2_score(y_test, y_pred))\n",
    "max_error_list.append(max_error(y_test, y_pred))\n",
    "variance_list.append(explained_variance_score(y_test, y_pred))\n",
    "percentage_error_list.append(mean_absolute_percentage_error(y_test, y_pred))\n",
    "model_list.append(\"Lasso CV\")"
   ]
  },
  {
   "cell_type": "code",
   "execution_count": 71,
   "id": "73931a5d",
   "metadata": {},
   "outputs": [
    {
     "data": {
      "text/plain": [
       "<function matplotlib.pyplot.show(close=None, block=None)>"
      ]
     },
     "execution_count": 71,
     "metadata": {},
     "output_type": "execute_result"
    },
    {
     "data": {
      "image/png": "[encoded data removed]",
      "text/plain": [
       "<Figure size 432x288 with 1 Axes>"
      ]
     },
     "metadata": {
      "needs_background": "light"
     },
     "output_type": "display_data"
    }
   ],
   "source": [
    "error_hist = np.abs(y_test - y_pred)\n",
    "mean_error_list.append(error_hist.mean())\n",
    "plt.hist(error_hist, bins=50)\n",
    "plt.show"
   ]
  },
  {
   "cell_type": "code",
   "execution_count": 72,
   "id": "e77c9854",
   "metadata": {},
   "outputs": [
    {
     "data": {
      "text/plain": [
       "array([ -85806.80155977, -108917.59778014,  -77427.23024383])"
      ]
     },
     "execution_count": 72,
     "metadata": {},
     "output_type": "execute_result"
    }
   ],
   "source": [
    "cross_val_score(model_lasso_cv, X, y, cv=3, scoring='neg_mean_absolute_error')"
   ]
  },
  {
   "cell_type": "markdown",
   "id": "37e09e68",
   "metadata": {},
   "source": [
    "### 3) Ridge"
   ]
  },
  {
   "cell_type": "code",
   "execution_count": 73,
   "id": "9c4060cd",
   "metadata": {},
   "outputs": [
    {
     "data": {
      "text/plain": [
       "0.8503822921930917"
      ]
     },
     "execution_count": 73,
     "metadata": {},
     "output_type": "execute_result"
    }
   ],
   "source": [
    "model_ridge = Ridge()\n",
    "model_ridge.fit(X_train, y_train)\n",
    "score_ridge = model_ridge.score(X_test, y_test)\n",
    "score_list.append(score_ridge)\n",
    "score_ridge"
   ]
  },
  {
   "cell_type": "code",
   "execution_count": 74,
   "id": "9a381c53",
   "metadata": {},
   "outputs": [
    {
     "data": {
      "text/plain": [
       "array([0.76627997, 0.75248025, 0.89224079])"
      ]
     },
     "execution_count": 74,
     "metadata": {},
     "output_type": "execute_result"
    }
   ],
   "source": [
    "cross_val_score(model_ridge, X, y, cv=3)"
   ]
  },
  {
   "cell_type": "code",
   "execution_count": 75,
   "id": "724d9445",
   "metadata": {},
   "outputs": [
    {
     "data": {
      "text/plain": [
       "array([ True,  True,  True, False, False, False, False, False, False,\n",
       "       False,  True, False, False, False, False,  True])"
      ]
     },
     "execution_count": 75,
     "metadata": {},
     "output_type": "execute_result"
    }
   ],
   "source": [
    "Ridge_selector = SelectFromModel(Ridge(),threshold='mean')\n",
    "Ridge_selector.fit_transform(X,y)\n",
    "Ridge_selector.get_support()"
   ]
  },
  {
   "cell_type": "code",
   "execution_count": 76,
   "id": "ed8b5171",
   "metadata": {},
   "outputs": [
    {
     "name": "stdout",
     "output_type": "stream",
     "text": [
      "MAE :  80818.89549470971\n",
      "RMSE :  137860.70463649073\n",
      "median absolut error :  47934.14765919745\n",
      "R2 score :  0.8503822921930917\n",
      "Max error :  1449636.7523936331\n",
      "Explained variance :  0.850892837220711\n",
      "mean abs percentage error :  0.18159554196853853\n"
     ]
    }
   ],
   "source": [
    "y_pred = model_ridge.predict(X_test)\n",
    "print('MAE : ', mean_absolute_error(y_test,y_pred))\n",
    "print('RMSE : ', np.sqrt(mean_squared_error(y_test, y_pred)))\n",
    "print('median absolut error : ', median_absolute_error(y_test, y_pred))\n",
    "print('R2 score : ', r2_score(y_test, y_pred))\n",
    "print('Max error : ', max_error(y_test, y_pred))\n",
    "print('Explained variance : ', explained_variance_score(y_test, y_pred))\n",
    "print('mean abs percentage error : ', mean_absolute_percentage_error(y_test, y_pred))"
   ]
  },
  {
   "cell_type": "code",
   "execution_count": 77,
   "id": "b5f309b2",
   "metadata": {},
   "outputs": [],
   "source": [
    "MAE_list.append(mean_absolute_error(y_test,y_pred))\n",
    "RMSE_list.append(np.sqrt(mean_squared_error(y_test, y_pred)))\n",
    "median_abs_err_list.append(median_absolute_error(y_test, y_pred))\n",
    "r2_list.append(r2_score(y_test, y_pred))\n",
    "max_error_list.append(max_error(y_test, y_pred))\n",
    "variance_list.append(explained_variance_score(y_test, y_pred))\n",
    "percentage_error_list.append(mean_absolute_percentage_error(y_test, y_pred))\n",
    "model_list.append(\"Ridge\")"
   ]
  },
  {
   "cell_type": "code",
   "execution_count": 78,
   "id": "4d1e81e7",
   "metadata": {},
   "outputs": [
    {
     "data": {
      "text/plain": [
       "<function matplotlib.pyplot.show(close=None, block=None)>"
      ]
     },
     "execution_count": 78,
     "metadata": {},
     "output_type": "execute_result"
    },
    {
     "data": {
      "image/png": "[encoded data removed]",
      "text/plain": [
       "<Figure size 432x288 with 1 Axes>"
      ]
     },
     "metadata": {
      "needs_background": "light"
     },
     "output_type": "display_data"
    }
   ],
   "source": [
    "error_hist = np.abs(y_test - y_pred)\n",
    "mean_error_list.append(error_hist.mean())\n",
    "plt.hist(error_hist, bins=50)\n",
    "plt.show"
   ]
  },
  {
   "cell_type": "code",
   "execution_count": 79,
   "id": "28e4f871",
   "metadata": {},
   "outputs": [
    {
     "data": {
      "text/plain": [
       "array([ -84102.35658601, -108087.71219265,  -84626.61178151])"
      ]
     },
     "execution_count": 79,
     "metadata": {},
     "output_type": "execute_result"
    }
   ],
   "source": [
    "cross_val_score(model_ridge, X, y, cv=3, scoring='neg_mean_absolute_error')"
   ]
  },
  {
   "cell_type": "markdown",
   "id": "9b287496",
   "metadata": {},
   "source": [
    "### 4) SVR"
   ]
  },
  {
   "cell_type": "code",
   "execution_count": 80,
   "id": "0de1ee38",
   "metadata": {},
   "outputs": [],
   "source": [
    "#model_SVR = SVR(kernel='rbf')\n",
    "#model_SVR.fit(X_train,y_train)\n",
    "#model_SVR.score(X_test,y_test)\n",
    "#score trop faible, process long -> inutile"
   ]
  },
  {
   "cell_type": "markdown",
   "id": "417b6ab9",
   "metadata": {},
   "source": [
    "### 5) SGDClassifier"
   ]
  },
  {
   "cell_type": "code",
   "execution_count": 81,
   "id": "94e61ad5",
   "metadata": {},
   "outputs": [],
   "source": [
    "#model_SGD = SGDClassifier(max_iter=1000, tol=0.01)\n",
    "#model_SGD.fit(X_train,y_train)\n",
    "#model_SGD.score(X_test,y_test)"
   ]
  },
  {
   "cell_type": "markdown",
   "id": "8e13b454",
   "metadata": {},
   "source": [
    "### 6) LogisticRegression"
   ]
  },
  {
   "cell_type": "code",
   "execution_count": 82,
   "id": "10570a2a",
   "metadata": {},
   "outputs": [],
   "source": [
    "#model_logistic_reg = LogisticRegression()\n",
    "#model_logistic_reg.fit(X_train,y_train)\n",
    "#model_logistic_reg.score(X_test,y_test)"
   ]
  },
  {
   "cell_type": "markdown",
   "id": "3da3380f",
   "metadata": {},
   "source": [
    "### 7) BayesianRidge"
   ]
  },
  {
   "cell_type": "code",
   "execution_count": 83,
   "id": "d863046f",
   "metadata": {},
   "outputs": [
    {
     "data": {
      "text/plain": [
       "0.8504069437407036"
      ]
     },
     "execution_count": 83,
     "metadata": {},
     "output_type": "execute_result"
    }
   ],
   "source": [
    "model_bayesian = BayesianRidge()\n",
    "model_bayesian.fit(X_train, y_train)\n",
    "score_bayesian = model_bayesian.score(X_test, y_test)\n",
    "score_list.append(score_bayesian)\n",
    "score_bayesian"
   ]
  },
  {
   "cell_type": "code",
   "execution_count": 84,
   "id": "d4feaa44",
   "metadata": {},
   "outputs": [
    {
     "data": {
      "text/plain": [
       "array([0.76432684, 0.75180817, 0.89329999])"
      ]
     },
     "execution_count": 84,
     "metadata": {},
     "output_type": "execute_result"
    }
   ],
   "source": [
    "cross_val_score(model_bayesian, X, y, cv=3)"
   ]
  },
  {
   "cell_type": "code",
   "execution_count": 85,
   "id": "5ca6b7ec",
   "metadata": {},
   "outputs": [
    {
     "data": {
      "text/plain": [
       "array([ True,  True,  True, False, False, False, False, False, False,\n",
       "       False,  True, False, False, False, False, False])"
      ]
     },
     "execution_count": 85,
     "metadata": {},
     "output_type": "execute_result"
    }
   ],
   "source": [
    "selector_bayesian = SelectFromModel(BayesianRidge(),threshold='mean')\n",
    "selector_bayesian.fit_transform(X,y)\n",
    "selector_bayesian.get_support()"
   ]
  },
  {
   "cell_type": "code",
   "execution_count": 86,
   "id": "a0a8f5e2",
   "metadata": {},
   "outputs": [
    {
     "name": "stdout",
     "output_type": "stream",
     "text": [
      "MAE :  80655.46497539096\n",
      "RMSE :  137849.34695773764\n",
      "median absolut error :  49205.105709686875\n",
      "R2 score :  0.8504069437407036\n",
      "Max error :  1451584.1451651752\n",
      "Explained variance :  0.8509293181473294\n",
      "mean abs percentage error :  0.18082359414688698\n"
     ]
    }
   ],
   "source": [
    "y_pred = model_bayesian.predict(X_test)\n",
    "print('MAE : ', mean_absolute_error(y_test,y_pred))\n",
    "print('RMSE : ', np.sqrt(mean_squared_error(y_test, y_pred)))\n",
    "print('median absolut error : ', median_absolute_error(y_test, y_pred))\n",
    "print('R2 score : ', r2_score(y_test, y_pred))\n",
    "print('Max error : ', max_error(y_test, y_pred))\n",
    "print('Explained variance : ', explained_variance_score(y_test, y_pred))\n",
    "print('mean abs percentage error : ', mean_absolute_percentage_error(y_test, y_pred))"
   ]
  },
  {
   "cell_type": "code",
   "execution_count": 87,
   "id": "989f1f44",
   "metadata": {},
   "outputs": [],
   "source": [
    "MAE_list.append(mean_absolute_error(y_test,y_pred))\n",
    "RMSE_list.append(np.sqrt(mean_squared_error(y_test, y_pred)))\n",
    "median_abs_err_list.append(median_absolute_error(y_test, y_pred))\n",
    "r2_list.append(r2_score(y_test, y_pred))\n",
    "max_error_list.append(max_error(y_test, y_pred))\n",
    "variance_list.append(explained_variance_score(y_test, y_pred))\n",
    "percentage_error_list.append(mean_absolute_percentage_error(y_test, y_pred))\n",
    "model_list.append(\"Bayesian \\nRidge\")"
   ]
  },
  {
   "cell_type": "code",
   "execution_count": 88,
   "id": "1646dad7",
   "metadata": {},
   "outputs": [
    {
     "data": {
      "text/plain": [
       "<function matplotlib.pyplot.show(close=None, block=None)>"
      ]
     },
     "execution_count": 88,
     "metadata": {},
     "output_type": "execute_result"
    },
    {
     "data": {
      "image/png": "[encoded data removed]",
      "text/plain": [
       "<Figure size 432x288 with 1 Axes>"
      ]
     },
     "metadata": {
      "needs_background": "light"
     },
     "output_type": "display_data"
    }
   ],
   "source": [
    "error_hist = np.abs(y_test - y_pred)\n",
    "mean_error_list.append(error_hist.mean())\n",
    "plt.hist(error_hist, bins=50)\n",
    "plt.show"
   ]
  },
  {
   "cell_type": "code",
   "execution_count": 89,
   "id": "5303a50d",
   "metadata": {},
   "outputs": [
    {
     "data": {
      "text/plain": [
       "array([ -84432.36017528, -108049.82194951,  -83779.26364778])"
      ]
     },
     "execution_count": 89,
     "metadata": {},
     "output_type": "execute_result"
    }
   ],
   "source": [
    "cross_val_score(model_bayesian, X, y, cv=3, scoring='neg_mean_absolute_error')"
   ]
  },
  {
   "cell_type": "markdown",
   "id": "65027bca",
   "metadata": {},
   "source": [
    "### 8) TweedieRegressor"
   ]
  },
  {
   "cell_type": "code",
   "execution_count": 90,
   "id": "8858bd3c",
   "metadata": {},
   "outputs": [
    {
     "data": {
      "text/plain": [
       "0.8467850461424771"
      ]
     },
     "execution_count": 90,
     "metadata": {},
     "output_type": "execute_result"
    }
   ],
   "source": [
    "model_tweedie = TweedieRegressor(max_iter=1000)\n",
    "model_tweedie.fit(X_train, y_train)\n",
    "score_tweedie = model_tweedie.score(X_test, y_test)\n",
    "score_list.append(score_tweedie)\n",
    "score_tweedie"
   ]
  },
  {
   "cell_type": "code",
   "execution_count": 91,
   "id": "7917f57e",
   "metadata": {},
   "outputs": [
    {
     "data": {
      "text/plain": [
       "array([0.75600172, 0.74805638, 0.89821984])"
      ]
     },
     "execution_count": 91,
     "metadata": {},
     "output_type": "execute_result"
    }
   ],
   "source": [
    "cross_val_score(model_tweedie, X, y, cv=3)"
   ]
  },
  {
   "cell_type": "code",
   "execution_count": 92,
   "id": "e49da489",
   "metadata": {},
   "outputs": [
    {
     "data": {
      "text/plain": [
       "array([ True, False,  True, False,  True,  True,  True, False, False,\n",
       "       False,  True, False,  True, False, False, False])"
      ]
     },
     "execution_count": 92,
     "metadata": {},
     "output_type": "execute_result"
    }
   ],
   "source": [
    "selector_tweedie = SelectFromModel(TweedieRegressor(max_iter=1000),threshold='mean')\n",
    "selector_tweedie.fit_transform(X,y)\n",
    "selector_tweedie.get_support()"
   ]
  },
  {
   "cell_type": "code",
   "execution_count": 93,
   "id": "fa673ef7",
   "metadata": {},
   "outputs": [
    {
     "name": "stdout",
     "output_type": "stream",
     "text": [
      "MAE :  81102.34432531336\n",
      "RMSE :  139508.1478198362\n",
      "median absolut error :  47457.95311944187\n",
      "R2 score :  0.8467850461424771\n",
      "Max error :  1403475.5531317936\n",
      "Explained variance :  0.847388736675176\n",
      "mean abs percentage error :  0.1770208350547181\n"
     ]
    }
   ],
   "source": [
    "y_pred = model_tweedie.predict(X_test)\n",
    "print('MAE : ', mean_absolute_error(y_test,y_pred))\n",
    "print('RMSE : ', np.sqrt(mean_squared_error(y_test, y_pred)))\n",
    "print('median absolut error : ', median_absolute_error(y_test, y_pred))\n",
    "print('R2 score : ', r2_score(y_test, y_pred))\n",
    "print('Max error : ', max_error(y_test, y_pred))\n",
    "print('Explained variance : ', explained_variance_score(y_test, y_pred))\n",
    "print('mean abs percentage error : ', mean_absolute_percentage_error(y_test, y_pred))"
   ]
  },
  {
   "cell_type": "code",
   "execution_count": 94,
   "id": "40b9257e",
   "metadata": {},
   "outputs": [],
   "source": [
    "MAE_list.append(mean_absolute_error(y_test,y_pred))\n",
    "RMSE_list.append(np.sqrt(mean_squared_error(y_test, y_pred)))\n",
    "median_abs_err_list.append(median_absolute_error(y_test, y_pred))\n",
    "r2_list.append(r2_score(y_test, y_pred))\n",
    "max_error_list.append(max_error(y_test, y_pred))\n",
    "variance_list.append(explained_variance_score(y_test, y_pred))\n",
    "percentage_error_list.append(mean_absolute_percentage_error(y_test, y_pred))\n",
    "model_list.append(\"Tweedie \\nRegressor\")"
   ]
  },
  {
   "cell_type": "code",
   "execution_count": 95,
   "id": "8db55832",
   "metadata": {},
   "outputs": [
    {
     "data": {
      "text/plain": [
       "<function matplotlib.pyplot.show(close=None, block=None)>"
      ]
     },
     "execution_count": 95,
     "metadata": {},
     "output_type": "execute_result"
    },
    {
     "data": {
      "image/png": "[encoded data removed]",
      "text/plain": [
       "<Figure size 432x288 with 1 Axes>"
      ]
     },
     "metadata": {
      "needs_background": "light"
     },
     "output_type": "display_data"
    }
   ],
   "source": [
    "error_hist = np.abs(y_test - y_pred)\n",
    "mean_error_list.append(error_hist.mean())\n",
    "plt.hist(error_hist, bins=50)\n",
    "plt.show"
   ]
  },
  {
   "cell_type": "code",
   "execution_count": 96,
   "id": "f1f70972",
   "metadata": {},
   "outputs": [
    {
     "data": {
      "text/plain": [
       "array([ -86153.12866475, -109053.15756347,  -77281.37555665])"
      ]
     },
     "execution_count": 96,
     "metadata": {},
     "output_type": "execute_result"
    }
   ],
   "source": [
    "cross_val_score(model_tweedie, X, y, cv=3, scoring='neg_mean_absolute_error')"
   ]
  },
  {
   "cell_type": "markdown",
   "id": "f28087e2",
   "metadata": {},
   "source": [
    "### 9) Elastic Net"
   ]
  },
  {
   "cell_type": "code",
   "execution_count": 97,
   "id": "b52b9724",
   "metadata": {},
   "outputs": [
    {
     "data": {
      "text/plain": [
       "0.8504029347083952"
      ]
     },
     "execution_count": 97,
     "metadata": {},
     "output_type": "execute_result"
    }
   ],
   "source": [
    "model_elastic = ElasticNet(alpha=0.01)\n",
    "model_elastic.fit(X_train, y_train)\n",
    "score_elastic = model_elastic.score(X_test, y_test)\n",
    "score_list.append(score_elastic)\n",
    "score_elastic"
   ]
  },
  {
   "cell_type": "code",
   "execution_count": 98,
   "id": "08ad4685",
   "metadata": {},
   "outputs": [
    {
     "data": {
      "text/plain": [
       "array([0.76611284, 0.75232749, 0.89283358])"
      ]
     },
     "execution_count": 98,
     "metadata": {},
     "output_type": "execute_result"
    }
   ],
   "source": [
    "cross_val_score(model_elastic, X, y, cv=3)"
   ]
  },
  {
   "cell_type": "code",
   "execution_count": 99,
   "id": "c87df97e",
   "metadata": {},
   "outputs": [
    {
     "data": {
      "text/plain": [
       "array([ True,  True,  True, False, False, False, False, False, False,\n",
       "       False,  True, False, False, False, False,  True])"
      ]
     },
     "execution_count": 99,
     "metadata": {},
     "output_type": "execute_result"
    }
   ],
   "source": [
    "selector_elastic = SelectFromModel(ElasticNet(alpha=0.01),threshold='mean')\n",
    "selector_elastic.fit_transform(X,y)\n",
    "selector_elastic.get_support()"
   ]
  },
  {
   "cell_type": "code",
   "execution_count": 100,
   "id": "f5310b86",
   "metadata": {},
   "outputs": [
    {
     "name": "stdout",
     "output_type": "stream",
     "text": [
      "MAE :  80788.12276907252\n",
      "RMSE :  137851.1940982295\n",
      "median absolut error :  49220.199229478836\n",
      "R2 score :  0.8504029347083952\n",
      "Max error :  1450484.7625736296\n",
      "Explained variance :  0.8509163877318151\n",
      "mean abs percentage error :  0.18124452681755696\n"
     ]
    }
   ],
   "source": [
    "y_pred = model_elastic.predict(X_test)\n",
    "print('MAE : ', mean_absolute_error(y_test,y_pred))\n",
    "print('RMSE : ', np.sqrt(mean_squared_error(y_test, y_pred)))\n",
    "print('median absolut error : ', median_absolute_error(y_test, y_pred))\n",
    "print('R2 score : ', r2_score(y_test, y_pred))\n",
    "print('Max error : ', max_error(y_test, y_pred))\n",
    "print('Explained variance : ', explained_variance_score(y_test, y_pred))\n",
    "print('mean abs percentage error : ', mean_absolute_percentage_error(y_test, y_pred))"
   ]
  },
  {
   "cell_type": "code",
   "execution_count": 101,
   "id": "cbcae8f5",
   "metadata": {},
   "outputs": [],
   "source": [
    "MAE_list.append(mean_absolute_error(y_test,y_pred))\n",
    "RMSE_list.append(np.sqrt(mean_squared_error(y_test, y_pred)))\n",
    "median_abs_err_list.append(median_absolute_error(y_test, y_pred))\n",
    "r2_list.append(r2_score(y_test, y_pred))\n",
    "max_error_list.append(max_error(y_test, y_pred))\n",
    "variance_list.append(explained_variance_score(y_test, y_pred))\n",
    "percentage_error_list.append(mean_absolute_percentage_error(y_test, y_pred))\n",
    "model_list.append(\"Elastic \\nNet\")"
   ]
  },
  {
   "cell_type": "code",
   "execution_count": 102,
   "id": "26007749",
   "metadata": {
    "scrolled": true
   },
   "outputs": [
    {
     "data": {
      "text/plain": [
       "<function matplotlib.pyplot.show(close=None, block=None)>"
      ]
     },
     "execution_count": 102,
     "metadata": {},
     "output_type": "execute_result"
    },
    {
     "data": {
      "image/png": "[encoded data removed]",
      "text/plain": [
       "<Figure size 432x288 with 1 Axes>"
      ]
     },
     "metadata": {
      "needs_background": "light"
     },
     "output_type": "display_data"
    }
   ],
   "source": [
    "error_hist = np.abs(y_test - y_pred)\n",
    "mean_error_list.append(error_hist.mean())\n",
    "plt.hist(error_hist, bins=50)\n",
    "plt.show"
   ]
  },
  {
   "cell_type": "code",
   "execution_count": 103,
   "id": "e3f445f6",
   "metadata": {
    "scrolled": false
   },
   "outputs": [
    {
     "data": {
      "text/plain": [
       "array([ -84133.136778  , -108088.5226649 ,  -84198.30069589])"
      ]
     },
     "execution_count": 103,
     "metadata": {},
     "output_type": "execute_result"
    }
   ],
   "source": [
    "cross_val_score(model_elastic, X, y, cv=3, scoring='neg_mean_absolute_error')"
   ]
  },
  {
   "cell_type": "markdown",
   "id": "49f7ecad",
   "metadata": {},
   "source": [
    "# Comparaisons des modèles"
   ]
  },
  {
   "cell_type": "markdown",
   "id": "e66ce36b",
   "metadata": {},
   "source": [
    "### Résultats :"
   ]
  },
  {
   "cell_type": "markdown",
   "id": "3ff036a1",
   "metadata": {},
   "source": [
    "#### Accuracy "
   ]
  },
  {
   "cell_type": "code",
   "execution_count": 104,
   "id": "93f47b08",
   "metadata": {},
   "outputs": [
    {
     "data": {
      "text/plain": [
       "Text(0, 0.5, 'Accuracy')"
      ]
     },
     "execution_count": 104,
     "metadata": {},
     "output_type": "execute_result"
    },
    {
     "data": {
      "image/png": "[encoded data removed]",
      "text/plain": [
       "<Figure size 432x288 with 1 Axes>"
      ]
     },
     "metadata": {
      "needs_background": "light"
     },
     "output_type": "display_data"
    }
   ],
   "source": [
    "plt.barh(model_list, score_list)\n",
    "for index, value in enumerate(score_list):\n",
    "    plt.text(value, index, str(value))\n",
    "plt.xlabel('Model')\n",
    "plt.ylabel('Accuracy')"
   ]
  },
  {
   "cell_type": "markdown",
   "id": "3872386b",
   "metadata": {},
   "source": [
    "### Erreurs : "
   ]
  },
  {
   "cell_type": "markdown",
   "id": "26468e8a",
   "metadata": {},
   "source": [
    "#### 1) Mean Error "
   ]
  },
  {
   "cell_type": "code",
   "execution_count": 105,
   "id": "3b774910",
   "metadata": {
    "scrolled": true
   },
   "outputs": [
    {
     "data": {
      "text/plain": [
       "Text(0, 0.5, 'Mean error')"
      ]
     },
     "execution_count": 105,
     "metadata": {},
     "output_type": "execute_result"
    },
    {
     "data": {
      "image/png": "[encoded data removed]",
      "text/plain": [
       "<Figure size 432x288 with 1 Axes>"
      ]
     },
     "metadata": {
      "needs_background": "light"
     },
     "output_type": "display_data"
    }
   ],
   "source": [
    "plt.barh(model_list, mean_error_list)\n",
    "for index, value in enumerate(mean_error_list):\n",
    "    plt.text(value, index, str(value))\n",
    "plt.xlabel('Model')\n",
    "plt.ylabel('Mean error')"
   ]
  },
  {
   "cell_type": "markdown",
   "id": "116f2eb5",
   "metadata": {},
   "source": [
    "#### 2) Mean Absolute Error using MAE"
   ]
  },
  {
   "cell_type": "code",
   "execution_count": 106,
   "id": "caf66f3b",
   "metadata": {
    "scrolled": true
   },
   "outputs": [
    {
     "data": {
      "text/plain": [
       "Text(0, 0.5, 'MAE')"
      ]
     },
     "execution_count": 106,
     "metadata": {},
     "output_type": "execute_result"
    },
    {
     "data": {
      "image/png": "[encoded data removed]",
      "text/plain": [
       "<Figure size 432x288 with 1 Axes>"
      ]
     },
     "metadata": {
      "needs_background": "light"
     },
     "output_type": "display_data"
    }
   ],
   "source": [
    "plt.barh(model_list, MAE_list)\n",
    "for index, value in enumerate(MAE_list):\n",
    "    plt.text(value, index, str(value))\n",
    "plt.xlabel('Model')\n",
    "plt.ylabel('MAE')"
   ]
  },
  {
   "cell_type": "markdown",
   "id": "3b597c13",
   "metadata": {},
   "source": [
    "#### 3) Root Mean Square Error (RMSE)"
   ]
  },
  {
   "cell_type": "code",
   "execution_count": 107,
   "id": "1538af14",
   "metadata": {},
   "outputs": [
    {
     "data": {
      "text/plain": [
       "Text(0, 0.5, 'RMSE')"
      ]
     },
     "execution_count": 107,
     "metadata": {},
     "output_type": "execute_result"
    },
    {
     "data": {
      "image/png": "[encoded data removed]",
      "text/plain": [
       "<Figure size 432x288 with 1 Axes>"
      ]
     },
     "metadata": {
      "needs_background": "light"
     },
     "output_type": "display_data"
    }
   ],
   "source": [
    "plt.barh(model_list, RMSE_list)\n",
    "for index, value in enumerate(RMSE_list):\n",
    "    plt.text(value, index, str(value))\n",
    "plt.xlabel('Model')\n",
    "plt.ylabel('RMSE')"
   ]
  },
  {
   "cell_type": "markdown",
   "id": "016ef099",
   "metadata": {},
   "source": [
    "#### 4) Median Absolute Error"
   ]
  },
  {
   "cell_type": "code",
   "execution_count": 108,
   "id": "3bb1ef2a",
   "metadata": {},
   "outputs": [
    {
     "data": {
      "text/plain": [
       "Text(0, 0.5, 'Median Abs Error')"
      ]
     },
     "execution_count": 108,
     "metadata": {},
     "output_type": "execute_result"
    },
    {
     "data": {
      "image/png": "[encoded data removed]",
      "text/plain": [
       "<Figure size 432x288 with 1 Axes>"
      ]
     },
     "metadata": {
      "needs_background": "light"
     },
     "output_type": "display_data"
    }
   ],
   "source": [
    "plt.barh(model_list, median_abs_err_list)\n",
    "for index, value in enumerate(median_abs_err_list):\n",
    "    plt.text(value, index, str(value))\n",
    "plt.xlabel('Model')\n",
    "plt.ylabel('Median Abs Error')"
   ]
  },
  {
   "cell_type": "markdown",
   "id": "13889662",
   "metadata": {},
   "source": [
    "#### 5) R2 Score (coeficient of determination)"
   ]
  },
  {
   "cell_type": "code",
   "execution_count": 109,
   "id": "20dcb1d9",
   "metadata": {},
   "outputs": [
    {
     "data": {
      "text/plain": [
       "Text(0, 0.5, 'r2 score')"
      ]
     },
     "execution_count": 109,
     "metadata": {},
     "output_type": "execute_result"
    },
    {
     "data": {
      "image/png": "[encoded data removed]",
      "text/plain": [
       "<Figure size 432x288 with 1 Axes>"
      ]
     },
     "metadata": {
      "needs_background": "light"
     },
     "output_type": "display_data"
    }
   ],
   "source": [
    "plt.barh(model_list, r2_list)\n",
    "for index, value in enumerate(r2_list):\n",
    "    plt.text(value, index, str(value))\n",
    "plt.xlabel('Model')\n",
    "plt.ylabel('r2 score')"
   ]
  },
  {
   "cell_type": "markdown",
   "id": "0be82dd2",
   "metadata": {},
   "source": [
    "#### 6) Maximum Error "
   ]
  },
  {
   "cell_type": "code",
   "execution_count": 110,
   "id": "7b42fcf0",
   "metadata": {},
   "outputs": [
    {
     "data": {
      "text/plain": [
       "Text(0, 0.5, 'Max Error')"
      ]
     },
     "execution_count": 110,
     "metadata": {},
     "output_type": "execute_result"
    },
    {
     "data": {
      "image/png": "[encoded data removed]",
      "text/plain": [
       "<Figure size 432x288 with 1 Axes>"
      ]
     },
     "metadata": {
      "needs_background": "light"
     },
     "output_type": "display_data"
    }
   ],
   "source": [
    "plt.barh(model_list, max_error_list)\n",
    "for index, value in enumerate(max_error_list):\n",
    "    plt.text(value, index, str(value))\n",
    "plt.xlabel('Model')\n",
    "plt.ylabel('Max Error')"
   ]
  },
  {
   "cell_type": "markdown",
   "id": "6e832b67",
   "metadata": {},
   "source": [
    "#### 7) Explained Variance Score "
   ]
  },
  {
   "cell_type": "code",
   "execution_count": 111,
   "id": "49ca4018",
   "metadata": {},
   "outputs": [
    {
     "data": {
      "text/plain": [
       "Text(0, 0.5, 'Explained Variance Score')"
      ]
     },
     "execution_count": 111,
     "metadata": {},
     "output_type": "execute_result"
    },
    {
     "data": {
      "image/png": "[encoded data removed]",
      "text/plain": [
       "<Figure size 432x288 with 1 Axes>"
      ]
     },
     "metadata": {
      "needs_background": "light"
     },
     "output_type": "display_data"
    }
   ],
   "source": [
    "plt.barh(model_list, variance_list)\n",
    "for index, value in enumerate(variance_list):\n",
    "    plt.text(value, index, str(value))\n",
    "plt.xlabel('Model')\n",
    "plt.ylabel('Explained Variance Score')"
   ]
  },
  {
   "cell_type": "markdown",
   "id": "13e75f2e",
   "metadata": {},
   "source": [
    "#### 8) Mean Absolute Percentage Error"
   ]
  },
  {
   "cell_type": "code",
   "execution_count": 112,
   "id": "71c21c31",
   "metadata": {},
   "outputs": [
    {
     "data": {
      "text/plain": [
       "Text(0, 0.5, 'Mean Abs Percentage Error')"
      ]
     },
     "execution_count": 112,
     "metadata": {},
     "output_type": "execute_result"
    },
    {
     "data": {
      "image/png": "[encoded data removed]",
      "text/plain": [
       "<Figure size 432x288 with 1 Axes>"
      ]
     },
     "metadata": {
      "needs_background": "light"
     },
     "output_type": "display_data"
    }
   ],
   "source": [
    "plt.barh(model_list, percentage_error_list)\n",
    "for index, value in enumerate(percentage_error_list):\n",
    "    plt.text(value, index, str(value))\n",
    "plt.xlabel('Model')\n",
    "plt.ylabel('Mean Abs Percentage Error')"
   ]
  },
  {
   "cell_type": "markdown",
   "id": "b13df349",
   "metadata": {},
   "source": [
    "### Features : "
   ]
  },
  {
   "cell_type": "code",
   "execution_count": 113,
   "id": "f26f782b",
   "metadata": {},
   "outputs": [
    {
     "data": {
      "text/html": [
       "<div>\n",
       "<style scoped>\n",
       "    .dataframe tbody tr th:only-of-type {\n",
       "        vertical-align: middle;\n",
       "    }\n",
       "\n",
       "    .dataframe tbody tr th {\n",
       "        vertical-align: top;\n",
       "    }\n",
       "\n",
       "    .dataframe thead th {\n",
       "        text-align: right;\n",
       "    }\n",
       "</style>\n",
       "<table border=\"1\" class=\"dataframe\">\n",
       "  <thead>\n",
       "    <tr style=\"text-align: right;\">\n",
       "      <th></th>\n",
       "      <th>Superficie (m2)</th>\n",
       "      <th>Nombre Pieces</th>\n",
       "      <th>Nombre Chambres</th>\n",
       "      <th>Prix (Euros)</th>\n",
       "      <th>Code Postal</th>\n",
       "      <th>Classe Energetique</th>\n",
       "      <th>Nombre Photos</th>\n",
       "      <th>Etage</th>\n",
       "      <th>Type de Bien</th>\n",
       "      <th>Type Vendeur</th>\n",
       "      <th>Terrasse</th>\n",
       "      <th>Parking</th>\n",
       "      <th>Cave</th>\n",
       "      <th>Ascenseur</th>\n",
       "      <th>Gardien</th>\n",
       "      <th>Renove</th>\n",
       "      <th>Box</th>\n",
       "    </tr>\n",
       "  </thead>\n",
       "  <tbody>\n",
       "    <tr>\n",
       "      <th>0</th>\n",
       "      <td>64</td>\n",
       "      <td>3</td>\n",
       "      <td>2</td>\n",
       "      <td>830000</td>\n",
       "      <td>75017</td>\n",
       "      <td>5</td>\n",
       "      <td>1</td>\n",
       "      <td>3</td>\n",
       "      <td>1</td>\n",
       "      <td>1</td>\n",
       "      <td>-1</td>\n",
       "      <td>-1</td>\n",
       "      <td>-1</td>\n",
       "      <td>-1</td>\n",
       "      <td>-1</td>\n",
       "      <td>-1</td>\n",
       "      <td>-1</td>\n",
       "    </tr>\n",
       "    <tr>\n",
       "      <th>1</th>\n",
       "      <td>122</td>\n",
       "      <td>5</td>\n",
       "      <td>5</td>\n",
       "      <td>1470000</td>\n",
       "      <td>75015</td>\n",
       "      <td>0</td>\n",
       "      <td>10</td>\n",
       "      <td>3</td>\n",
       "      <td>1</td>\n",
       "      <td>1</td>\n",
       "      <td>1</td>\n",
       "      <td>1</td>\n",
       "      <td>1</td>\n",
       "      <td>1</td>\n",
       "      <td>-1</td>\n",
       "      <td>-1</td>\n",
       "      <td>1</td>\n",
       "    </tr>\n",
       "    <tr>\n",
       "      <th>2</th>\n",
       "      <td>5</td>\n",
       "      <td>1</td>\n",
       "      <td>0</td>\n",
       "      <td>65000</td>\n",
       "      <td>75116</td>\n",
       "      <td>5</td>\n",
       "      <td>6</td>\n",
       "      <td>6</td>\n",
       "      <td>1</td>\n",
       "      <td>1</td>\n",
       "      <td>-1</td>\n",
       "      <td>-1</td>\n",
       "      <td>-1</td>\n",
       "      <td>1</td>\n",
       "      <td>1</td>\n",
       "      <td>1</td>\n",
       "      <td>-1</td>\n",
       "    </tr>\n",
       "    <tr>\n",
       "      <th>3</th>\n",
       "      <td>7</td>\n",
       "      <td>1</td>\n",
       "      <td>0</td>\n",
       "      <td>80000</td>\n",
       "      <td>75015</td>\n",
       "      <td>0</td>\n",
       "      <td>4</td>\n",
       "      <td>7</td>\n",
       "      <td>1</td>\n",
       "      <td>1</td>\n",
       "      <td>-1</td>\n",
       "      <td>-1</td>\n",
       "      <td>-1</td>\n",
       "      <td>-1</td>\n",
       "      <td>1</td>\n",
       "      <td>-1</td>\n",
       "      <td>-1</td>\n",
       "    </tr>\n",
       "    <tr>\n",
       "      <th>4</th>\n",
       "      <td>8</td>\n",
       "      <td>1</td>\n",
       "      <td>0</td>\n",
       "      <td>87000</td>\n",
       "      <td>75006</td>\n",
       "      <td>0</td>\n",
       "      <td>4</td>\n",
       "      <td>6</td>\n",
       "      <td>1</td>\n",
       "      <td>1</td>\n",
       "      <td>-1</td>\n",
       "      <td>-1</td>\n",
       "      <td>-1</td>\n",
       "      <td>1</td>\n",
       "      <td>1</td>\n",
       "      <td>-1</td>\n",
       "      <td>-1</td>\n",
       "    </tr>\n",
       "  </tbody>\n",
       "</table>\n",
       "</div>"
      ],
      "text/plain": [
       "   Superficie (m2)  Nombre Pieces  Nombre Chambres  Prix (Euros)  Code Postal  \\\n",
       "0               64              3                2        830000        75017   \n",
       "1              122              5                5       1470000        75015   \n",
       "2                5              1                0         65000        75116   \n",
       "3                7              1                0         80000        75015   \n",
       "4                8              1                0         87000        75006   \n",
       "\n",
       "   Classe Energetique  Nombre Photos  Etage  Type de Bien  Type Vendeur  \\\n",
       "0                   5              1      3             1             1   \n",
       "1                   0             10      3             1             1   \n",
       "2                   5              6      6             1             1   \n",
       "3                   0              4      7             1             1   \n",
       "4                   0              4      6             1             1   \n",
       "\n",
       "   Terrasse  Parking  Cave  Ascenseur  Gardien  Renove  Box  \n",
       "0        -1       -1    -1         -1       -1      -1   -1  \n",
       "1         1        1     1          1       -1      -1    1  \n",
       "2        -1       -1    -1          1        1       1   -1  \n",
       "3        -1       -1    -1         -1        1      -1   -1  \n",
       "4        -1       -1    -1          1        1      -1   -1  "
      ]
     },
     "execution_count": 113,
     "metadata": {},
     "output_type": "execute_result"
    }
   ],
   "source": [
    "df.head()"
   ]
  },
  {
   "cell_type": "code",
   "execution_count": 114,
   "id": "2e8d0fda",
   "metadata": {},
   "outputs": [
    {
     "data": {
      "text/html": [
       "<div>\n",
       "<style scoped>\n",
       "    .dataframe tbody tr th:only-of-type {\n",
       "        vertical-align: middle;\n",
       "    }\n",
       "\n",
       "    .dataframe tbody tr th {\n",
       "        vertical-align: top;\n",
       "    }\n",
       "\n",
       "    .dataframe thead th {\n",
       "        text-align: right;\n",
       "    }\n",
       "</style>\n",
       "<table border=\"1\" class=\"dataframe\">\n",
       "  <thead>\n",
       "    <tr style=\"text-align: right;\">\n",
       "      <th></th>\n",
       "      <th>Code Postal</th>\n",
       "      <th>Prix (Euros)</th>\n",
       "      <th>Superficie (m2)</th>\n",
       "    </tr>\n",
       "  </thead>\n",
       "  <tbody>\n",
       "    <tr>\n",
       "      <th>0</th>\n",
       "      <td>75017</td>\n",
       "      <td>830000</td>\n",
       "      <td>64</td>\n",
       "    </tr>\n",
       "    <tr>\n",
       "      <th>1</th>\n",
       "      <td>75015</td>\n",
       "      <td>1470000</td>\n",
       "      <td>122</td>\n",
       "    </tr>\n",
       "    <tr>\n",
       "      <th>2</th>\n",
       "      <td>75116</td>\n",
       "      <td>65000</td>\n",
       "      <td>5</td>\n",
       "    </tr>\n",
       "    <tr>\n",
       "      <th>3</th>\n",
       "      <td>75015</td>\n",
       "      <td>80000</td>\n",
       "      <td>7</td>\n",
       "    </tr>\n",
       "    <tr>\n",
       "      <th>4</th>\n",
       "      <td>75006</td>\n",
       "      <td>87000</td>\n",
       "      <td>8</td>\n",
       "    </tr>\n",
       "    <tr>\n",
       "      <th>...</th>\n",
       "      <td>...</td>\n",
       "      <td>...</td>\n",
       "      <td>...</td>\n",
       "    </tr>\n",
       "    <tr>\n",
       "      <th>5151</th>\n",
       "      <td>75015</td>\n",
       "      <td>240000</td>\n",
       "      <td>16</td>\n",
       "    </tr>\n",
       "    <tr>\n",
       "      <th>5152</th>\n",
       "      <td>75011</td>\n",
       "      <td>240000</td>\n",
       "      <td>22</td>\n",
       "    </tr>\n",
       "    <tr>\n",
       "      <th>5153</th>\n",
       "      <td>75009</td>\n",
       "      <td>240000</td>\n",
       "      <td>0</td>\n",
       "    </tr>\n",
       "    <tr>\n",
       "      <th>5154</th>\n",
       "      <td>75016</td>\n",
       "      <td>240000</td>\n",
       "      <td>16</td>\n",
       "    </tr>\n",
       "    <tr>\n",
       "      <th>5155</th>\n",
       "      <td>75020</td>\n",
       "      <td>240000</td>\n",
       "      <td>16</td>\n",
       "    </tr>\n",
       "  </tbody>\n",
       "</table>\n",
       "<p>4932 rows × 3 columns</p>\n",
       "</div>"
      ],
      "text/plain": [
       "      Code Postal  Prix (Euros)  Superficie (m2)\n",
       "0           75017        830000               64\n",
       "1           75015       1470000              122\n",
       "2           75116         65000                5\n",
       "3           75015         80000                7\n",
       "4           75006         87000                8\n",
       "...           ...           ...              ...\n",
       "5151        75015        240000               16\n",
       "5152        75011        240000               22\n",
       "5153        75009        240000                0\n",
       "5154        75016        240000               16\n",
       "5155        75020        240000               16\n",
       "\n",
       "[4932 rows x 3 columns]"
      ]
     },
     "execution_count": 114,
     "metadata": {},
     "output_type": "execute_result"
    }
   ],
   "source": [
    "df[['Code Postal','Prix (Euros)', 'Superficie (m2)']]"
   ]
  },
  {
   "cell_type": "code",
   "execution_count": 115,
   "id": "11b34a3e",
   "metadata": {},
   "outputs": [
    {
     "name": "stdout",
     "output_type": "stream",
     "text": [
      "75018    639\n",
      "75015    532\n",
      "75017    438\n",
      "75019    345\n",
      "75020    335\n",
      "75016    321\n",
      "75011    292\n",
      "75014    282\n",
      "75010    267\n",
      "75013    264\n",
      "75012    223\n",
      "75009    173\n",
      "75007    128\n",
      "75006    119\n",
      "75005    117\n",
      "75008    101\n",
      "75003     94\n",
      "75004     88\n",
      "75002     76\n",
      "75116     55\n",
      "75001     43\n",
      "Name: Code Postal, dtype: int64\n",
      "Code Postal\n",
      "75001    609783.720930\n",
      "75002    391514.473684\n",
      "75003    732075.531915\n",
      "75004    625607.840909\n",
      "75005    522330.769231\n",
      "75006    654425.714286\n",
      "75007    752905.468750\n",
      "75008    760256.336634\n",
      "75009    599421.387283\n",
      "75010    454153.662921\n",
      "75011    438668.458904\n",
      "75012    449231.735426\n",
      "75013    451530.094697\n",
      "75014    514674.255319\n",
      "75015    498635.460526\n",
      "75016    573643.514019\n",
      "75017    468571.301370\n",
      "75018    385280.974961\n",
      "75019    424292.886957\n",
      "75020    401352.002985\n",
      "75116    577070.000000\n",
      "Name: Prix (Euros), dtype: float64\n"
     ]
    }
   ],
   "source": [
    "print(df[\"Code Postal\"].value_counts())\n",
    "print(df.groupby('Code Postal')['Prix (Euros)'].mean())"
   ]
  },
  {
   "cell_type": "code",
   "execution_count": 116,
   "id": "ad5751e2",
   "metadata": {},
   "outputs": [
    {
     "name": "stdout",
     "output_type": "stream",
     "text": [
      "38     136\n",
      "18     122\n",
      "36     117\n",
      "42     116\n",
      "8      107\n",
      "      ... \n",
      "229      1\n",
      "131      1\n",
      "237      1\n",
      "180      1\n",
      "156      1\n",
      "Name: Superficie (m2), Length: 166, dtype: int64\n",
      "Superficie (m2)\n",
      "0      1.638115e+05\n",
      "5      6.220833e+04\n",
      "6      6.961028e+04\n",
      "7      8.612788e+04\n",
      "8      8.968505e+04\n",
      "           ...     \n",
      "177    1.670000e+06\n",
      "180    9.800000e+05\n",
      "188    1.990000e+06\n",
      "229    1.360000e+06\n",
      "237    1.350000e+06\n",
      "Name: Prix (Euros), Length: 166, dtype: float64\n"
     ]
    }
   ],
   "source": [
    "print(df[\"Superficie (m2)\"].value_counts())\n",
    "print(df.groupby('Superficie (m2)')['Prix (Euros)'].mean())"
   ]
  },
  {
   "cell_type": "code",
   "execution_count": 117,
   "id": "648edc80",
   "metadata": {},
   "outputs": [
    {
     "name": "stdout",
     "output_type": "stream",
     "text": [
      "1    1803\n",
      "2    1726\n",
      "3     812\n",
      "4     360\n",
      "5     175\n",
      "6      49\n",
      "7       7\n",
      "Name: Nombre Pieces, dtype: int64\n",
      "Nombre Pieces\n",
      "1    2.249640e+05\n",
      "2    4.309653e+05\n",
      "3    7.029517e+05\n",
      "4    1.043706e+06\n",
      "5    1.364352e+06\n",
      "6    1.573694e+06\n",
      "7    1.588286e+06\n",
      "Name: Prix (Euros), dtype: float64\n"
     ]
    }
   ],
   "source": [
    "print(df[\"Nombre Pieces\"].value_counts())\n",
    "print(df.groupby('Nombre Pieces')['Prix (Euros)'].mean())"
   ]
  },
  {
   "cell_type": "code",
   "execution_count": 118,
   "id": "06053d4b",
   "metadata": {},
   "outputs": [
    {
     "name": "stdout",
     "output_type": "stream",
     "text": [
      "1    1862\n",
      "0    1808\n",
      "2     857\n",
      "3     298\n",
      "4      99\n",
      "5       8\n",
      "Name: Nombre Chambres, dtype: int64\n",
      "Nombre Chambres\n",
      "0    2.263572e+05\n",
      "1    4.546394e+05\n",
      "2    7.888278e+05\n",
      "3    1.125345e+06\n",
      "4    1.461194e+06\n",
      "5    1.393625e+06\n",
      "Name: Prix (Euros), dtype: float64\n"
     ]
    }
   ],
   "source": [
    "print(df[\"Nombre Chambres\"].value_counts())\n",
    "print(df.groupby('Nombre Chambres')['Prix (Euros)'].mean())"
   ]
  },
  {
   "cell_type": "code",
   "execution_count": 119,
   "id": "5369e805",
   "metadata": {},
   "outputs": [
    {
     "name": "stdout",
     "output_type": "stream",
     "text": [
      "0    1685\n",
      "5    1014\n",
      "4     821\n",
      "7     589\n",
      "6     554\n",
      "3     207\n",
      "1      31\n",
      "2      31\n",
      "Name: Classe Energetique, dtype: int64\n",
      "Classe Energetique\n",
      "0    432055.472997\n",
      "1    527762.903226\n",
      "2    802106.322581\n",
      "3    710939.613527\n",
      "4    685726.182704\n",
      "5    524808.343195\n",
      "6    403498.808664\n",
      "7    319012.782683\n",
      "Name: Prix (Euros), dtype: float64\n"
     ]
    }
   ],
   "source": [
    "print(df[\"Classe Energetique\"].value_counts())\n",
    "print(df.groupby('Classe Energetique')['Prix (Euros)'].mean())"
   ]
  },
  {
   "cell_type": "code",
   "execution_count": 120,
   "id": "aee8ac3a",
   "metadata": {},
   "outputs": [
    {
     "name": "stdout",
     "output_type": "stream",
     "text": [
      "10    1650\n",
      "6      546\n",
      "7      521\n",
      "8      513\n",
      "9      478\n",
      "5      425\n",
      "4      345\n",
      "3      209\n",
      "1      129\n",
      "2       95\n",
      "0       21\n",
      "Name: Nombre Photos, dtype: int64\n",
      "Nombre Photos\n",
      "0     293835.238095\n",
      "1     382763.868217\n",
      "2     397794.178947\n",
      "3     271269.717703\n",
      "4     301280.950725\n",
      "5     324222.261176\n",
      "6     384534.369963\n",
      "7     401925.973129\n",
      "8     459347.095517\n",
      "9     528582.223849\n",
      "10    680934.421818\n",
      "Name: Prix (Euros), dtype: float64\n"
     ]
    }
   ],
   "source": [
    "print(df[\"Nombre Photos\"].value_counts())\n",
    "print(df.groupby('Nombre Photos')['Prix (Euros)'].mean())"
   ]
  },
  {
   "cell_type": "code",
   "execution_count": 121,
   "id": "ac734cd8",
   "metadata": {},
   "outputs": [
    {
     "name": "stdout",
     "output_type": "stream",
     "text": [
      " 1    913\n",
      "-1    860\n",
      " 2    743\n",
      " 3    636\n",
      " 4    522\n",
      " 6    510\n",
      " 5    399\n",
      " 7    250\n",
      " 8     75\n",
      " 9     24\n",
      "Name: Etage, dtype: int64\n",
      "Etage\n",
      "-1    443440.132558\n",
      " 1    534150.982475\n",
      " 2    553838.549125\n",
      " 3    577341.863208\n",
      " 4    552745.009579\n",
      " 5    518153.350877\n",
      " 6    326742.786275\n",
      " 7    264210.368000\n",
      " 8    450657.866667\n",
      " 9    561707.500000\n",
      "Name: Prix (Euros), dtype: float64\n"
     ]
    }
   ],
   "source": [
    "print(df[\"Etage\"].value_counts())\n",
    "print(df.groupby('Etage')['Prix (Euros)'].mean())"
   ]
  },
  {
   "cell_type": "code",
   "execution_count": 122,
   "id": "a96a8d1e",
   "metadata": {},
   "outputs": [
    {
     "name": "stdout",
     "output_type": "stream",
     "text": [
      "-1    4237\n",
      " 1     695\n",
      "Name: Terrasse, dtype: int64\n",
      "Terrasse\n",
      "-1    460458.118480\n",
      " 1    679160.568345\n",
      "Name: Prix (Euros), dtype: float64\n"
     ]
    }
   ],
   "source": [
    "print(df[\"Terrasse\"].value_counts())\n",
    "print(df.groupby('Terrasse')['Prix (Euros)'].mean())"
   ]
  },
  {
   "cell_type": "code",
   "execution_count": 123,
   "id": "00323fc7",
   "metadata": {},
   "outputs": [
    {
     "name": "stdout",
     "output_type": "stream",
     "text": [
      "-1    4682\n",
      " 1     250\n",
      "Name: Parking, dtype: int64\n",
      "Parking\n",
      "-1    481395.635626\n",
      " 1    676333.108000\n",
      "Name: Prix (Euros), dtype: float64\n"
     ]
    }
   ],
   "source": [
    "print(df[\"Parking\"].value_counts())\n",
    "print(df.groupby('Parking')['Prix (Euros)'].mean())"
   ]
  },
  {
   "cell_type": "code",
   "execution_count": 124,
   "id": "b746b0ff",
   "metadata": {},
   "outputs": [
    {
     "name": "stdout",
     "output_type": "stream",
     "text": [
      "-1    2674\n",
      " 1    2258\n",
      "Name: Cave, dtype: int64\n",
      "Cave\n",
      "-1    401859.581152\n",
      " 1    597167.902126\n",
      "Name: Prix (Euros), dtype: float64\n"
     ]
    }
   ],
   "source": [
    "print(df[\"Cave\"].value_counts())\n",
    "print(df.groupby('Cave')['Prix (Euros)'].mean())"
   ]
  },
  {
   "cell_type": "code",
   "execution_count": 125,
   "id": "a99e3b57",
   "metadata": {},
   "outputs": [
    {
     "name": "stdout",
     "output_type": "stream",
     "text": [
      "-1    3135\n",
      " 1    1797\n",
      "Name: Ascenseur, dtype: int64\n",
      "Ascenseur\n",
      "-1    425482.738118\n",
      " 1    606059.687813\n",
      "Name: Prix (Euros), dtype: float64\n"
     ]
    }
   ],
   "source": [
    "print(df[\"Ascenseur\"].value_counts())\n",
    "print(df.groupby('Ascenseur')['Prix (Euros)'].mean())"
   ]
  },
  {
   "cell_type": "code",
   "execution_count": 126,
   "id": "daae56f0",
   "metadata": {},
   "outputs": [
    {
     "name": "stdout",
     "output_type": "stream",
     "text": [
      "-1    3864\n",
      " 1    1068\n",
      "Name: Gardien, dtype: int64\n",
      "Gardien\n",
      "-1    466037.253106\n",
      " 1    582593.349251\n",
      "Name: Prix (Euros), dtype: float64\n"
     ]
    }
   ],
   "source": [
    "print(df[\"Gardien\"].value_counts())\n",
    "print(df.groupby('Gardien')['Prix (Euros)'].mean())"
   ]
  },
  {
   "cell_type": "code",
   "execution_count": 127,
   "id": "7af8ddb2",
   "metadata": {},
   "outputs": [
    {
     "name": "stdout",
     "output_type": "stream",
     "text": [
      "-1    4671\n",
      " 1     261\n",
      "Name: Renove, dtype: int64\n",
      "Renove\n",
      "-1    487772.518304\n",
      " 1    553993.141762\n",
      "Name: Prix (Euros), dtype: float64\n"
     ]
    }
   ],
   "source": [
    "print(df[\"Renove\"].value_counts())\n",
    "print(df.groupby('Renove')['Prix (Euros)'].mean())"
   ]
  },
  {
   "cell_type": "code",
   "execution_count": 128,
   "id": "dda0aa8c",
   "metadata": {},
   "outputs": [
    {
     "name": "stdout",
     "output_type": "stream",
     "text": [
      "-1    4928\n",
      " 1       4\n",
      "Name: Box, dtype: int64\n",
      "Box\n",
      "-1    490931.339894\n",
      " 1    917000.000000\n",
      "Name: Prix (Euros), dtype: float64\n"
     ]
    }
   ],
   "source": [
    "print(df[\"Box\"].value_counts())\n",
    "print(df.groupby('Box')['Prix (Euros)'].mean())"
   ]
  },
  {
   "cell_type": "code",
   "execution_count": null,
   "id": "7814f0ed",
   "metadata": {},
   "outputs": [],
   "source": []
  },
  {
   "cell_type": "markdown",
   "id": "6a12f140",
   "metadata": {},
   "source": [
    "### Les prix trop élevés affectent les métriques"
   ]
  },
  {
   "cell_type": "code",
   "execution_count": 129,
   "id": "25a4ca78",
   "metadata": {},
   "outputs": [
    {
     "data": {
      "image/png": "[encoded data removed]",
      "text/plain": [
       "<Figure size 432x288 with 1 Axes>"
      ]
     },
     "metadata": {
      "needs_background": "light"
     },
     "output_type": "display_data"
    }
   ],
   "source": [
    "plt.hist(y, bins=100)\n",
    "plt.show()"
   ]
  },
  {
   "cell_type": "code",
   "execution_count": 130,
   "id": "6e006956",
   "metadata": {},
   "outputs": [
    {
     "name": "stdout",
     "output_type": "stream",
     "text": [
      "2000000\n"
     ]
    }
   ],
   "source": [
    "print(max(y))"
   ]
  },
  {
   "cell_type": "code",
   "execution_count": 131,
   "id": "487b1bc0",
   "metadata": {},
   "outputs": [
    {
     "data": {
      "text/plain": [
       "Text(0, 0.5, 'prix')"
      ]
     },
     "execution_count": 131,
     "metadata": {},
     "output_type": "execute_result"
    },
    {
     "data": {
      "image/png": "[encoded data removed]",
      "text/plain": [
       "<Figure size 432x288 with 1 Axes>"
      ]
     },
     "metadata": {
      "needs_background": "light"
     },
     "output_type": "display_data"
    }
   ],
   "source": [
    "ax = df['Prix (Euros)'].plot()\n",
    "ax.set_xlabel(\"appartements\")\n",
    "ax.set_ylabel(\"prix\")"
   ]
  },
  {
   "cell_type": "code",
   "execution_count": 132,
   "id": "8e9b8f53",
   "metadata": {},
   "outputs": [
    {
     "name": "stdout",
     "output_type": "stream",
     "text": [
      "0\n",
      "[]\n"
     ]
    }
   ],
   "source": [
    "val = []\n",
    "for i in y :\n",
    "    if i > 6000000 :\n",
    "        val.append(i)\n",
    "print(len(val))\n",
    "print(val)"
   ]
  },
  {
   "cell_type": "code",
   "execution_count": 133,
   "id": "629ccacf",
   "metadata": {},
   "outputs": [
    {
     "data": {
      "text/html": [
       "<div>\n",
       "<style scoped>\n",
       "    .dataframe tbody tr th:only-of-type {\n",
       "        vertical-align: middle;\n",
       "    }\n",
       "\n",
       "    .dataframe tbody tr th {\n",
       "        vertical-align: top;\n",
       "    }\n",
       "\n",
       "    .dataframe thead th {\n",
       "        text-align: right;\n",
       "    }\n",
       "</style>\n",
       "<table border=\"1\" class=\"dataframe\">\n",
       "  <thead>\n",
       "    <tr style=\"text-align: right;\">\n",
       "      <th></th>\n",
       "      <th>Superficie (m2)</th>\n",
       "      <th>Nombre Pieces</th>\n",
       "      <th>Nombre Chambres</th>\n",
       "      <th>Prix (Euros)</th>\n",
       "      <th>Code Postal</th>\n",
       "      <th>Classe Energetique</th>\n",
       "      <th>Nombre Photos</th>\n",
       "      <th>Etage</th>\n",
       "      <th>Type de Bien</th>\n",
       "      <th>Type Vendeur</th>\n",
       "      <th>Terrasse</th>\n",
       "      <th>Parking</th>\n",
       "      <th>Cave</th>\n",
       "      <th>Ascenseur</th>\n",
       "      <th>Gardien</th>\n",
       "      <th>Renove</th>\n",
       "      <th>Box</th>\n",
       "    </tr>\n",
       "  </thead>\n",
       "  <tbody>\n",
       "    <tr>\n",
       "      <th>2251</th>\n",
       "      <td>168</td>\n",
       "      <td>6</td>\n",
       "      <td>4</td>\n",
       "      <td>2000000</td>\n",
       "      <td>75009</td>\n",
       "      <td>0</td>\n",
       "      <td>10</td>\n",
       "      <td>2</td>\n",
       "      <td>1</td>\n",
       "      <td>1</td>\n",
       "      <td>-1</td>\n",
       "      <td>-1</td>\n",
       "      <td>-1</td>\n",
       "      <td>-1</td>\n",
       "      <td>-1</td>\n",
       "      <td>-1</td>\n",
       "      <td>-1</td>\n",
       "    </tr>\n",
       "    <tr>\n",
       "      <th>2248</th>\n",
       "      <td>100</td>\n",
       "      <td>3</td>\n",
       "      <td>2</td>\n",
       "      <td>1990000</td>\n",
       "      <td>75001</td>\n",
       "      <td>0</td>\n",
       "      <td>10</td>\n",
       "      <td>4</td>\n",
       "      <td>1</td>\n",
       "      <td>1</td>\n",
       "      <td>-1</td>\n",
       "      <td>-1</td>\n",
       "      <td>1</td>\n",
       "      <td>1</td>\n",
       "      <td>-1</td>\n",
       "      <td>-1</td>\n",
       "      <td>-1</td>\n",
       "    </tr>\n",
       "    <tr>\n",
       "      <th>460</th>\n",
       "      <td>100</td>\n",
       "      <td>3</td>\n",
       "      <td>2</td>\n",
       "      <td>1990000</td>\n",
       "      <td>75001</td>\n",
       "      <td>0</td>\n",
       "      <td>10</td>\n",
       "      <td>4</td>\n",
       "      <td>1</td>\n",
       "      <td>1</td>\n",
       "      <td>-1</td>\n",
       "      <td>-1</td>\n",
       "      <td>-1</td>\n",
       "      <td>1</td>\n",
       "      <td>-1</td>\n",
       "      <td>-1</td>\n",
       "      <td>-1</td>\n",
       "    </tr>\n",
       "    <tr>\n",
       "      <th>461</th>\n",
       "      <td>188</td>\n",
       "      <td>7</td>\n",
       "      <td>4</td>\n",
       "      <td>1990000</td>\n",
       "      <td>75016</td>\n",
       "      <td>4</td>\n",
       "      <td>10</td>\n",
       "      <td>3</td>\n",
       "      <td>1</td>\n",
       "      <td>1</td>\n",
       "      <td>-1</td>\n",
       "      <td>-1</td>\n",
       "      <td>1</td>\n",
       "      <td>-1</td>\n",
       "      <td>-1</td>\n",
       "      <td>-1</td>\n",
       "      <td>-1</td>\n",
       "    </tr>\n",
       "    <tr>\n",
       "      <th>462</th>\n",
       "      <td>133</td>\n",
       "      <td>5</td>\n",
       "      <td>3</td>\n",
       "      <td>1990000</td>\n",
       "      <td>75016</td>\n",
       "      <td>0</td>\n",
       "      <td>1</td>\n",
       "      <td>2</td>\n",
       "      <td>1</td>\n",
       "      <td>1</td>\n",
       "      <td>-1</td>\n",
       "      <td>-1</td>\n",
       "      <td>1</td>\n",
       "      <td>1</td>\n",
       "      <td>-1</td>\n",
       "      <td>-1</td>\n",
       "      <td>-1</td>\n",
       "    </tr>\n",
       "    <tr>\n",
       "      <th>3536</th>\n",
       "      <td>188</td>\n",
       "      <td>7</td>\n",
       "      <td>4</td>\n",
       "      <td>1990000</td>\n",
       "      <td>75016</td>\n",
       "      <td>4</td>\n",
       "      <td>10</td>\n",
       "      <td>3</td>\n",
       "      <td>1</td>\n",
       "      <td>1</td>\n",
       "      <td>-1</td>\n",
       "      <td>-1</td>\n",
       "      <td>-1</td>\n",
       "      <td>-1</td>\n",
       "      <td>-1</td>\n",
       "      <td>-1</td>\n",
       "      <td>-1</td>\n",
       "    </tr>\n",
       "    <tr>\n",
       "      <th>2250</th>\n",
       "      <td>188</td>\n",
       "      <td>7</td>\n",
       "      <td>4</td>\n",
       "      <td>1990000</td>\n",
       "      <td>75016</td>\n",
       "      <td>4</td>\n",
       "      <td>10</td>\n",
       "      <td>3</td>\n",
       "      <td>1</td>\n",
       "      <td>1</td>\n",
       "      <td>1</td>\n",
       "      <td>1</td>\n",
       "      <td>1</td>\n",
       "      <td>1</td>\n",
       "      <td>-1</td>\n",
       "      <td>-1</td>\n",
       "      <td>-1</td>\n",
       "    </tr>\n",
       "    <tr>\n",
       "      <th>2249</th>\n",
       "      <td>133</td>\n",
       "      <td>5</td>\n",
       "      <td>3</td>\n",
       "      <td>1990000</td>\n",
       "      <td>75016</td>\n",
       "      <td>0</td>\n",
       "      <td>1</td>\n",
       "      <td>2</td>\n",
       "      <td>1</td>\n",
       "      <td>1</td>\n",
       "      <td>1</td>\n",
       "      <td>-1</td>\n",
       "      <td>1</td>\n",
       "      <td>1</td>\n",
       "      <td>-1</td>\n",
       "      <td>-1</td>\n",
       "      <td>-1</td>\n",
       "    </tr>\n",
       "    <tr>\n",
       "      <th>3535</th>\n",
       "      <td>138</td>\n",
       "      <td>5</td>\n",
       "      <td>3</td>\n",
       "      <td>1984000</td>\n",
       "      <td>75008</td>\n",
       "      <td>2</td>\n",
       "      <td>10</td>\n",
       "      <td>5</td>\n",
       "      <td>1</td>\n",
       "      <td>1</td>\n",
       "      <td>-1</td>\n",
       "      <td>-1</td>\n",
       "      <td>-1</td>\n",
       "      <td>-1</td>\n",
       "      <td>-1</td>\n",
       "      <td>-1</td>\n",
       "      <td>-1</td>\n",
       "    </tr>\n",
       "    <tr>\n",
       "      <th>3937</th>\n",
       "      <td>156</td>\n",
       "      <td>1</td>\n",
       "      <td>5</td>\n",
       "      <td>1980000</td>\n",
       "      <td>75005</td>\n",
       "      <td>6</td>\n",
       "      <td>10</td>\n",
       "      <td>2</td>\n",
       "      <td>1</td>\n",
       "      <td>1</td>\n",
       "      <td>-1</td>\n",
       "      <td>-1</td>\n",
       "      <td>-1</td>\n",
       "      <td>-1</td>\n",
       "      <td>-1</td>\n",
       "      <td>-1</td>\n",
       "      <td>-1</td>\n",
       "    </tr>\n",
       "    <tr>\n",
       "      <th>458</th>\n",
       "      <td>168</td>\n",
       "      <td>6</td>\n",
       "      <td>4</td>\n",
       "      <td>1975000</td>\n",
       "      <td>75009</td>\n",
       "      <td>2</td>\n",
       "      <td>10</td>\n",
       "      <td>1</td>\n",
       "      <td>1</td>\n",
       "      <td>1</td>\n",
       "      <td>-1</td>\n",
       "      <td>-1</td>\n",
       "      <td>1</td>\n",
       "      <td>-1</td>\n",
       "      <td>-1</td>\n",
       "      <td>-1</td>\n",
       "      <td>-1</td>\n",
       "    </tr>\n",
       "    <tr>\n",
       "      <th>3534</th>\n",
       "      <td>150</td>\n",
       "      <td>5</td>\n",
       "      <td>4</td>\n",
       "      <td>1975000</td>\n",
       "      <td>75016</td>\n",
       "      <td>4</td>\n",
       "      <td>10</td>\n",
       "      <td>-1</td>\n",
       "      <td>1</td>\n",
       "      <td>1</td>\n",
       "      <td>-1</td>\n",
       "      <td>-1</td>\n",
       "      <td>-1</td>\n",
       "      <td>-1</td>\n",
       "      <td>-1</td>\n",
       "      <td>-1</td>\n",
       "      <td>-1</td>\n",
       "    </tr>\n",
       "    <tr>\n",
       "      <th>459</th>\n",
       "      <td>157</td>\n",
       "      <td>6</td>\n",
       "      <td>4</td>\n",
       "      <td>1975000</td>\n",
       "      <td>75009</td>\n",
       "      <td>4</td>\n",
       "      <td>10</td>\n",
       "      <td>3</td>\n",
       "      <td>1</td>\n",
       "      <td>1</td>\n",
       "      <td>-1</td>\n",
       "      <td>-1</td>\n",
       "      <td>1</td>\n",
       "      <td>1</td>\n",
       "      <td>-1</td>\n",
       "      <td>-1</td>\n",
       "      <td>-1</td>\n",
       "    </tr>\n",
       "    <tr>\n",
       "      <th>2247</th>\n",
       "      <td>157</td>\n",
       "      <td>6</td>\n",
       "      <td>4</td>\n",
       "      <td>1975000</td>\n",
       "      <td>75009</td>\n",
       "      <td>4</td>\n",
       "      <td>10</td>\n",
       "      <td>3</td>\n",
       "      <td>1</td>\n",
       "      <td>1</td>\n",
       "      <td>-1</td>\n",
       "      <td>-1</td>\n",
       "      <td>1</td>\n",
       "      <td>1</td>\n",
       "      <td>1</td>\n",
       "      <td>-1</td>\n",
       "      <td>-1</td>\n",
       "    </tr>\n",
       "    <tr>\n",
       "      <th>3533</th>\n",
       "      <td>174</td>\n",
       "      <td>5</td>\n",
       "      <td>3</td>\n",
       "      <td>1970000</td>\n",
       "      <td>75007</td>\n",
       "      <td>5</td>\n",
       "      <td>6</td>\n",
       "      <td>-1</td>\n",
       "      <td>1</td>\n",
       "      <td>1</td>\n",
       "      <td>1</td>\n",
       "      <td>-1</td>\n",
       "      <td>1</td>\n",
       "      <td>1</td>\n",
       "      <td>-1</td>\n",
       "      <td>-1</td>\n",
       "      <td>-1</td>\n",
       "    </tr>\n",
       "  </tbody>\n",
       "</table>\n",
       "</div>"
      ],
      "text/plain": [
       "      Superficie (m2)  Nombre Pieces  Nombre Chambres  Prix (Euros)  \\\n",
       "2251              168              6                4       2000000   \n",
       "2248              100              3                2       1990000   \n",
       "460               100              3                2       1990000   \n",
       "461               188              7                4       1990000   \n",
       "462               133              5                3       1990000   \n",
       "3536              188              7                4       1990000   \n",
       "2250              188              7                4       1990000   \n",
       "2249              133              5                3       1990000   \n",
       "3535              138              5                3       1984000   \n",
       "3937              156              1                5       1980000   \n",
       "458               168              6                4       1975000   \n",
       "3534              150              5                4       1975000   \n",
       "459               157              6                4       1975000   \n",
       "2247              157              6                4       1975000   \n",
       "3533              174              5                3       1970000   \n",
       "\n",
       "      Code Postal  Classe Energetique  Nombre Photos  Etage  Type de Bien  \\\n",
       "2251        75009                   0             10      2             1   \n",
       "2248        75001                   0             10      4             1   \n",
       "460         75001                   0             10      4             1   \n",
       "461         75016                   4             10      3             1   \n",
       "462         75016                   0              1      2             1   \n",
       "3536        75016                   4             10      3             1   \n",
       "2250        75016                   4             10      3             1   \n",
       "2249        75016                   0              1      2             1   \n",
       "3535        75008                   2             10      5             1   \n",
       "3937        75005                   6             10      2             1   \n",
       "458         75009                   2             10      1             1   \n",
       "3534        75016                   4             10     -1             1   \n",
       "459         75009                   4             10      3             1   \n",
       "2247        75009                   4             10      3             1   \n",
       "3533        75007                   5              6     -1             1   \n",
       "\n",
       "      Type Vendeur  Terrasse  Parking  Cave  Ascenseur  Gardien  Renove  Box  \n",
       "2251             1        -1       -1    -1         -1       -1      -1   -1  \n",
       "2248             1        -1       -1     1          1       -1      -1   -1  \n",
       "460              1        -1       -1    -1          1       -1      -1   -1  \n",
       "461              1        -1       -1     1         -1       -1      -1   -1  \n",
       "462              1        -1       -1     1          1       -1      -1   -1  \n",
       "3536             1        -1       -1    -1         -1       -1      -1   -1  \n",
       "2250             1         1        1     1          1       -1      -1   -1  \n",
       "2249             1         1       -1     1          1       -1      -1   -1  \n",
       "3535             1        -1       -1    -1         -1       -1      -1   -1  \n",
       "3937             1        -1       -1    -1         -1       -1      -1   -1  \n",
       "458              1        -1       -1     1         -1       -1      -1   -1  \n",
       "3534             1        -1       -1    -1         -1       -1      -1   -1  \n",
       "459              1        -1       -1     1          1       -1      -1   -1  \n",
       "2247             1        -1       -1     1          1        1      -1   -1  \n",
       "3533             1         1       -1     1          1       -1      -1   -1  "
      ]
     },
     "execution_count": 133,
     "metadata": {},
     "output_type": "execute_result"
    }
   ],
   "source": [
    "df.sort_values(by=['Prix (Euros)'], ascending=False).head(15)"
   ]
  }
 ],
 "metadata": {
  "kernelspec": {
   "display_name": "Python 3 (ipykernel)",
   "language": "python",
   "name": "python3"
  },
  "language_info": {
   "codemirror_mode": {
    "name": "ipython",
    "version": 3
   },
   "file_extension": ".py",
   "mimetype": "text/x-python",
   "name": "python",
   "nbconvert_exporter": "python",
   "pygments_lexer": "ipython3",
   "version": "3.7.11"
  }
 },
 "nbformat": 4,
 "nbformat_minor": 5
}
