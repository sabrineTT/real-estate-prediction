{
 "cells": [
  {
   "cell_type": "markdown",
   "id": "684d74d5",
   "metadata": {},
   "source": [
    "# Imports"
   ]
  },
  {
   "cell_type": "code",
   "execution_count": 3,
   "id": "701a7c28",
   "metadata": {},
   "outputs": [],
   "source": [
    "import pandas as pd\n",
    "import matplotlib.pyplot as plt\n",
    "import numpy as np\n",
    "\n",
    "from sklearn.model_selection import train_test_split\n",
    "from sklearn.model_selection import cross_val_score\n",
    "\n",
    "from sklearn.linear_model import LinearRegression, LassoCV, Ridge, LogisticRegression, BayesianRidge, TweedieRegressor \n",
    "from sklearn.svm import SVR\n",
    "from sklearn.tree import DecisionTreeClassifier\n",
    "from sklearn.ensemble import RandomForestClassifier\n",
    "from sklearn.linear_model import SGDClassifier\n",
    "\n",
    "from sklearn import tree\n",
    "from sklearn.feature_selection import SelectFromModel\n",
    "from sklearn.preprocessing import StandardScaler\n",
    "\n",
    "from sklearn.metrics import *"
   ]
  },
  {
   "cell_type": "markdown",
   "id": "935ef21a",
   "metadata": {},
   "source": [
    "# DataFrame, Data et Variables"
   ]
  },
  {
   "cell_type": "code",
   "execution_count": 4,
   "id": "d4efb336",
   "metadata": {},
   "outputs": [],
   "source": [
    "df = pd.read_csv('logicimmo - Copie.csv')\n",
    "X = df.drop('Prix (Euros)', axis = 1)\n",
    "y = df['Prix (Euros)']"
   ]
  },
  {
   "cell_type": "code",
   "execution_count": 5,
   "id": "88d54e96",
   "metadata": {},
   "outputs": [],
   "source": [
    "X_train, X_test, y_train, y_test = train_test_split(X,y,test_size=0.2)"
   ]
  },
  {
   "cell_type": "code",
   "execution_count": 6,
   "id": "a1a5d193",
   "metadata": {},
   "outputs": [],
   "source": [
    "MAE_list = []\n",
    "RMSE_list = []\n",
    "median_abs_err_list = []\n",
    "model_list = []\n",
    "score_list = []"
   ]
  },
  {
   "cell_type": "markdown",
   "id": "1f5afeb1",
   "metadata": {},
   "source": [
    "# Modèles  :"
   ]
  },
  {
   "cell_type": "markdown",
   "id": "4a3b09c1",
   "metadata": {},
   "source": [
    "### Regression linéaire "
   ]
  },
  {
   "cell_type": "code",
   "execution_count": 7,
   "id": "c30b7f87",
   "metadata": {},
   "outputs": [
    {
     "data": {
      "text/plain": [
       "0.8352343493403724"
      ]
     },
     "execution_count": 7,
     "metadata": {},
     "output_type": "execute_result"
    }
   ],
   "source": [
    "model_lin_reg = LinearRegression()\n",
    "model_lin_reg.fit(X_train,y_train)\n",
    "score_lin_reg = model_lin_reg.score(X_test,y_test)\n",
    "score_list.append(score_lin_reg)\n",
    "score_lin_reg"
   ]
  },
  {
   "cell_type": "code",
   "execution_count": 8,
   "id": "c3331df3",
   "metadata": {},
   "outputs": [
    {
     "data": {
      "text/plain": [
       "array([  0.79090888, -83.48100222,   0.78531564,   0.83156989,\n",
       "        -2.8694372 ])"
      ]
     },
     "execution_count": 8,
     "metadata": {},
     "output_type": "execute_result"
    }
   ],
   "source": [
    "cross_val_score(model_lin_reg, X, y, cv=5)"
   ]
  },
  {
   "cell_type": "code",
   "execution_count": 9,
   "id": "24762bea",
   "metadata": {},
   "outputs": [
    {
     "data": {
      "text/plain": [
       "array([ True,  True,  True, False, False, False, False, False, False,\n",
       "       False,  True, False, False, False, False, False])"
      ]
     },
     "execution_count": 9,
     "metadata": {},
     "output_type": "execute_result"
    }
   ],
   "source": [
    "linear_selector = SelectFromModel(LinearRegression(),threshold='mean')\n",
    "linear_selector.fit_transform(X,y)\n",
    "linear_selector.get_support()"
   ]
  },
  {
   "cell_type": "code",
   "execution_count": 10,
   "id": "412f9fae",
   "metadata": {},
   "outputs": [
    {
     "name": "stdout",
     "output_type": "stream",
     "text": [
      "MAE :  146355.09794351863\n",
      "RMSE :  295062.3855790506\n",
      "median absolut error :  83968.94637251645\n"
     ]
    }
   ],
   "source": [
    "y_pred = model_lin_reg.predict(X_test)\n",
    "print('MAE : ', mean_absolute_error(y_test,y_pred))\n",
    "print('RMSE : ', np.sqrt(mean_squared_error(y_test, y_pred)))\n",
    "print('median absolut error : ', median_absolute_error(y_test, y_pred))"
   ]
  },
  {
   "cell_type": "code",
   "execution_count": 11,
   "id": "a2af4ffd",
   "metadata": {},
   "outputs": [],
   "source": [
    "MAE_lin_reg = mean_absolute_error(y_test,y_pred)\n",
    "RMSE_lin_reg = np.sqrt(mean_squared_error(y_test, y_pred))\n",
    "median_abs_err_lin_reg = median_absolute_error(y_test, y_pred)\n",
    "MAE_list.append(MAE_lin_reg)\n",
    "model_list.append(\"Regression \\nLineaire\")\n",
    "RMSE_list.append(RMSE_lin_reg)\n",
    "median_abs_err_list.append(median_abs_err_lin_reg)"
   ]
  },
  {
   "cell_type": "code",
   "execution_count": 12,
   "id": "2c7c1da2",
   "metadata": {},
   "outputs": [
    {
     "data": {
      "text/plain": [
       "<function matplotlib.pyplot.show(close=None, block=None)>"
      ]
     },
     "execution_count": 12,
     "metadata": {},
     "output_type": "execute_result"
    },
    {
     "data": {
      "image/png": "[encoded data removed]",
      "text/plain": [
       "<Figure size 432x288 with 1 Axes>"
      ]
     },
     "metadata": {
      "needs_background": "light"
     },
     "output_type": "display_data"
    }
   ],
   "source": [
    "error_hist = np.abs(y_test - y_pred)\n",
    "plt.hist(error_hist, bins=50)\n",
    "plt.show"
   ]
  },
  {
   "cell_type": "code",
   "execution_count": 13,
   "id": "ad22d94e",
   "metadata": {},
   "outputs": [
    {
     "data": {
      "text/plain": [
       "array([-152884.21362369, -104756.0305361 , -173104.86260393,\n",
       "       -230797.1864671 ,  -67311.92956468])"
      ]
     },
     "execution_count": 13,
     "metadata": {},
     "output_type": "execute_result"
    }
   ],
   "source": [
    "cross_val_score(model_lin_reg, X, y, cv=5, scoring='neg_mean_absolute_error')"
   ]
  },
  {
   "cell_type": "markdown",
   "id": "0f573bb0",
   "metadata": {},
   "source": [
    "### Lasso CV"
   ]
  },
  {
   "cell_type": "code",
   "execution_count": 14,
   "id": "e99f70b8",
   "metadata": {},
   "outputs": [
    {
     "data": {
      "text/plain": [
       "0.8251953699186833"
      ]
     },
     "execution_count": 14,
     "metadata": {},
     "output_type": "execute_result"
    }
   ],
   "source": [
    "model_lasso_cv = LassoCV(cv=5)\n",
    "model_lasso_cv.fit(X_train, y_train)\n",
    "score_lasso_cv = model_lasso_cv.score(X_test, y_test)\n",
    "score_list.append(score_lasso_cv)\n",
    "score_lasso_cv"
   ]
  },
  {
   "cell_type": "code",
   "execution_count": 15,
   "id": "37868138",
   "metadata": {},
   "outputs": [
    {
     "data": {
      "text/plain": [
       "array([  0.7908616 , -83.75179355,   0.77818214,   0.82865153,\n",
       "        -3.22061011])"
      ]
     },
     "execution_count": 15,
     "metadata": {},
     "output_type": "execute_result"
    }
   ],
   "source": [
    "cross_val_score(model_lasso_cv, X, y, cv=5)"
   ]
  },
  {
   "cell_type": "code",
   "execution_count": 16,
   "id": "fe1344dd",
   "metadata": {},
   "outputs": [
    {
     "data": {
      "text/plain": [
       "array([ True,  True,  True, False, False, False,  True, False, False,\n",
       "       False, False, False, False, False, False, False])"
      ]
     },
     "execution_count": 16,
     "metadata": {},
     "output_type": "execute_result"
    }
   ],
   "source": [
    "lasso_selector = SelectFromModel(LassoCV(cv=5),threshold='mean')\n",
    "lasso_selector.fit_transform(X,y)\n",
    "lasso_selector.get_support()"
   ]
  },
  {
   "cell_type": "code",
   "execution_count": 17,
   "id": "a68f4a82",
   "metadata": {},
   "outputs": [
    {
     "name": "stdout",
     "output_type": "stream",
     "text": [
      "MAE :  146737.6646398401\n",
      "RMSE :  303918.3875181064\n",
      "median absolut error :  80610.30395924812\n"
     ]
    }
   ],
   "source": [
    "y_pred = model_lasso_cv.predict(X_test)\n",
    "print('MAE : ', mean_absolute_error(y_test,y_pred))\n",
    "print('RMSE : ', np.sqrt(mean_squared_error(y_test, y_pred)))\n",
    "print('median absolut error : ', median_absolute_error(y_test, y_pred))"
   ]
  },
  {
   "cell_type": "code",
   "execution_count": 18,
   "id": "0588e79e",
   "metadata": {},
   "outputs": [],
   "source": [
    "MAE_lasso_cv = mean_absolute_error(y_test,y_pred)\n",
    "RMSE_lasso_cv = np.sqrt(mean_squared_error(y_test, y_pred))\n",
    "median_abs_err_lasso_cv = median_absolute_error(y_test, y_pred)\n",
    "MAE_list.append(MAE_lasso_cv)\n",
    "model_list.append(\"Lasso CV\")\n",
    "RMSE_list.append(RMSE_lasso_cv)\n",
    "median_abs_err_list.append(median_abs_err_lasso_cv)"
   ]
  },
  {
   "cell_type": "code",
   "execution_count": 19,
   "id": "73931a5d",
   "metadata": {},
   "outputs": [
    {
     "data": {
      "text/plain": [
       "<function matplotlib.pyplot.show(close=None, block=None)>"
      ]
     },
     "execution_count": 19,
     "metadata": {},
     "output_type": "execute_result"
    },
    {
     "data": {
      "image/png": "[encoded data removed]",
      "text/plain": [
       "<Figure size 432x288 with 1 Axes>"
      ]
     },
     "metadata": {
      "needs_background": "light"
     },
     "output_type": "display_data"
    }
   ],
   "source": [
    "error_hist = np.abs(y_test - y_pred)\n",
    "plt.hist(error_hist, bins=50)\n",
    "plt.show"
   ]
  },
  {
   "cell_type": "code",
   "execution_count": 20,
   "id": "e77c9854",
   "metadata": {},
   "outputs": [
    {
     "data": {
      "text/plain": [
       "array([-146476.99164607, -101478.81082156, -171475.24680105,\n",
       "       -228727.92393453,  -78407.28977636])"
      ]
     },
     "execution_count": 20,
     "metadata": {},
     "output_type": "execute_result"
    }
   ],
   "source": [
    "cross_val_score(model_lasso_cv, X, y, cv=5, scoring='neg_mean_absolute_error')"
   ]
  },
  {
   "cell_type": "markdown",
   "id": "37e09e68",
   "metadata": {},
   "source": [
    "### Ridge"
   ]
  },
  {
   "cell_type": "code",
   "execution_count": 21,
   "id": "9c4060cd",
   "metadata": {},
   "outputs": [
    {
     "data": {
      "text/plain": [
       "0.8352309357039797"
      ]
     },
     "execution_count": 21,
     "metadata": {},
     "output_type": "execute_result"
    }
   ],
   "source": [
    "model_ridge = Ridge()\n",
    "model_ridge.fit(X_train, y_train)\n",
    "score_ridge = model_ridge.score(X_test, y_test)\n",
    "score_list.append(score_ridge)\n",
    "score_ridge"
   ]
  },
  {
   "cell_type": "code",
   "execution_count": 22,
   "id": "9a381c53",
   "metadata": {},
   "outputs": [
    {
     "data": {
      "text/plain": [
       "array([  0.79091685, -83.47632586,   0.78531354,   0.83164108,\n",
       "        -2.86854223])"
      ]
     },
     "execution_count": 22,
     "metadata": {},
     "output_type": "execute_result"
    }
   ],
   "source": [
    "cross_val_score(model_ridge, X, y, cv=5)"
   ]
  },
  {
   "cell_type": "code",
   "execution_count": 23,
   "id": "724d9445",
   "metadata": {},
   "outputs": [
    {
     "data": {
      "text/plain": [
       "array([ True,  True,  True, False, False, False, False, False, False,\n",
       "       False,  True, False, False, False, False, False])"
      ]
     },
     "execution_count": 23,
     "metadata": {},
     "output_type": "execute_result"
    }
   ],
   "source": [
    "Ridge_selector = SelectFromModel(Ridge(),threshold='mean')\n",
    "Ridge_selector.fit_transform(X,y)\n",
    "Ridge_selector.get_support()"
   ]
  },
  {
   "cell_type": "code",
   "execution_count": 24,
   "id": "ed8b5171",
   "metadata": {},
   "outputs": [
    {
     "name": "stdout",
     "output_type": "stream",
     "text": [
      "MAE :  146351.57594170215\n",
      "RMSE :  295065.44213385007\n",
      "median absolut error :  83963.22834345326\n"
     ]
    }
   ],
   "source": [
    "y_pred = model_ridge.predict(X_test)\n",
    "print('MAE : ', mean_absolute_error(y_test,y_pred))\n",
    "print('RMSE : ', np.sqrt(mean_squared_error(y_test, y_pred)))\n",
    "print('median absolut error : ', median_absolute_error(y_test, y_pred))"
   ]
  },
  {
   "cell_type": "code",
   "execution_count": 25,
   "id": "b5f309b2",
   "metadata": {},
   "outputs": [],
   "source": [
    "MAE_ridge = mean_absolute_error(y_test,y_pred)\n",
    "RMSE_ridge = np.sqrt(mean_squared_error(y_test, y_pred))\n",
    "median_abs_err_ridge = median_absolute_error(y_test, y_pred)\n",
    "MAE_list.append(MAE_ridge)\n",
    "model_list.append(\"Ridge\")\n",
    "RMSE_list.append(RMSE_ridge)\n",
    "median_abs_err_list.append(median_abs_err_ridge)"
   ]
  },
  {
   "cell_type": "code",
   "execution_count": 26,
   "id": "4d1e81e7",
   "metadata": {},
   "outputs": [
    {
     "data": {
      "text/plain": [
       "<function matplotlib.pyplot.show(close=None, block=None)>"
      ]
     },
     "execution_count": 26,
     "metadata": {},
     "output_type": "execute_result"
    },
    {
     "data": {
      "image/png": "[encoded data removed]",
      "text/plain": [
       "<Figure size 432x288 with 1 Axes>"
      ]
     },
     "metadata": {
      "needs_background": "light"
     },
     "output_type": "display_data"
    }
   ],
   "source": [
    "error_hist = np.abs(y_test - y_pred)\n",
    "plt.hist(error_hist, bins=50)\n",
    "plt.show"
   ]
  },
  {
   "cell_type": "code",
   "execution_count": 27,
   "id": "28e4f871",
   "metadata": {},
   "outputs": [
    {
     "data": {
      "text/plain": [
       "array([-152870.57985798, -104750.25738684, -173102.62110546,\n",
       "       -230752.12170093,  -67309.13474903])"
      ]
     },
     "execution_count": 27,
     "metadata": {},
     "output_type": "execute_result"
    }
   ],
   "source": [
    "cross_val_score(model_ridge, X, y, cv=5, scoring='neg_mean_absolute_error')"
   ]
  },
  {
   "cell_type": "markdown",
   "id": "9b287496",
   "metadata": {},
   "source": [
    "### SVR"
   ]
  },
  {
   "cell_type": "code",
   "execution_count": 28,
   "id": "0de1ee38",
   "metadata": {},
   "outputs": [],
   "source": [
    "#model_SVR = SVR(kernel='rbf')\n",
    "#model_SVR.fit(X_train,y_train)\n",
    "#model_SVR.score(X_test,y_test)\n",
    "#score trop faible, process long -> inutile"
   ]
  },
  {
   "cell_type": "markdown",
   "id": "1f270fd7",
   "metadata": {},
   "source": [
    "### DecisionTreeClassifier"
   ]
  },
  {
   "cell_type": "code",
   "execution_count": 29,
   "id": "68deec5d",
   "metadata": {},
   "outputs": [
    {
     "data": {
      "text/plain": [
       "0.24031007751937986"
      ]
     },
     "execution_count": 29,
     "metadata": {},
     "output_type": "execute_result"
    }
   ],
   "source": [
    "model_decision_tree = tree.DecisionTreeClassifier()\n",
    "model_decision_tree.fit(X_train,y_train)\n",
    "score_decision_tree = model_decision_tree.score(X_test,y_test)\n",
    "score_list.append(score_decision_tree)\n",
    "score_decision_tree"
   ]
  },
  {
   "cell_type": "code",
   "execution_count": 30,
   "id": "2671ea79",
   "metadata": {},
   "outputs": [
    {
     "name": "stderr",
     "output_type": "stream",
     "text": [
      "C:\\Users\\kju78\\anaconda3\\lib\\site-packages\\sklearn\\model_selection\\_split.py:680: UserWarning: The least populated class in y has only 1 members, which is less than n_splits=5.\n",
      "  UserWarning,\n"
     ]
    },
    {
     "data": {
      "text/plain": [
       "array([0.27325581, 0.28516004, 0.27061106, 0.25218235, 0.19689622])"
      ]
     },
     "execution_count": 30,
     "metadata": {},
     "output_type": "execute_result"
    }
   ],
   "source": [
    "cross_val_score(model_decision_tree, X, y, cv=5)"
   ]
  },
  {
   "cell_type": "code",
   "execution_count": 31,
   "id": "131d907f",
   "metadata": {},
   "outputs": [
    {
     "data": {
      "text/plain": [
       "array([ True, False, False,  True,  True,  True,  True, False, False,\n",
       "       False, False, False, False, False, False, False])"
      ]
     },
     "execution_count": 31,
     "metadata": {},
     "output_type": "execute_result"
    }
   ],
   "source": [
    "selector_tree = SelectFromModel(tree.DecisionTreeClassifier(),threshold='mean')\n",
    "selector_tree.fit_transform(X,y)\n",
    "selector_tree.get_support()"
   ]
  },
  {
   "cell_type": "code",
   "execution_count": 32,
   "id": "e141180f",
   "metadata": {},
   "outputs": [
    {
     "name": "stdout",
     "output_type": "stream",
     "text": [
      "MAE :  116647.76647286821\n",
      "RMSE :  311234.05225606903\n",
      "median absolut error :  25000.0\n"
     ]
    }
   ],
   "source": [
    "y_pred = model_decision_tree.predict(X_test)\n",
    "print('MAE : ', mean_absolute_error(y_test,y_pred))\n",
    "print('RMSE : ', np.sqrt(mean_squared_error(y_test, y_pred)))\n",
    "print('median absolut error : ', median_absolute_error(y_test, y_pred))"
   ]
  },
  {
   "cell_type": "code",
   "execution_count": 33,
   "id": "6d1a8628",
   "metadata": {},
   "outputs": [],
   "source": [
    "MAE_decision_tree = mean_absolute_error(y_test,y_pred)\n",
    "RMSE_decision_tree = np.sqrt(mean_squared_error(y_test, y_pred))\n",
    "median_abs_err_decision_tree = median_absolute_error(y_test, y_pred)\n",
    "MAE_list.append(MAE_decision_tree)\n",
    "model_list.append(\"Decision Tree \\nClassifier\")\n",
    "RMSE_list.append(RMSE_decision_tree)\n",
    "median_abs_err_list.append(median_abs_err_decision_tree)"
   ]
  },
  {
   "cell_type": "code",
   "execution_count": 34,
   "id": "62705803",
   "metadata": {},
   "outputs": [
    {
     "data": {
      "text/plain": [
       "<function matplotlib.pyplot.show(close=None, block=None)>"
      ]
     },
     "execution_count": 34,
     "metadata": {},
     "output_type": "execute_result"
    },
    {
     "data": {
      "image/png": "[encoded data removed]",
      "text/plain": [
       "<Figure size 432x288 with 1 Axes>"
      ]
     },
     "metadata": {
      "needs_background": "light"
     },
     "output_type": "display_data"
    }
   ],
   "source": [
    "error_hist = np.abs(y_test - y_pred)\n",
    "plt.hist(error_hist, bins=50)\n",
    "plt.show"
   ]
  },
  {
   "cell_type": "code",
   "execution_count": 35,
   "id": "0a22a04f",
   "metadata": {},
   "outputs": [
    {
     "name": "stderr",
     "output_type": "stream",
     "text": [
      "C:\\Users\\kju78\\anaconda3\\lib\\site-packages\\sklearn\\model_selection\\_split.py:680: UserWarning: The least populated class in y has only 1 members, which is less than n_splits=5.\n",
      "  UserWarning,\n"
     ]
    },
    {
     "data": {
      "text/plain": [
       "array([-106108.83042636, -129487.66343356,  -98772.93501455,\n",
       "       -122766.02909796, -116713.16585839])"
      ]
     },
     "execution_count": 35,
     "metadata": {},
     "output_type": "execute_result"
    }
   ],
   "source": [
    "cross_val_score(model_decision_tree, X, y, cv=5, scoring='neg_mean_absolute_error')"
   ]
  },
  {
   "cell_type": "markdown",
   "id": "c0aba4bc",
   "metadata": {},
   "source": [
    "### RandomForestClassifier"
   ]
  },
  {
   "cell_type": "code",
   "execution_count": 36,
   "id": "5b9243a4",
   "metadata": {},
   "outputs": [
    {
     "data": {
      "text/plain": [
       "0.21511627906976744"
      ]
     },
     "execution_count": 36,
     "metadata": {},
     "output_type": "execute_result"
    }
   ],
   "source": [
    "model_random_forest = RandomForestClassifier(n_estimators=10)\n",
    "model_random_forest.fit(X_train,y_train)\n",
    "score_random_forest = model_random_forest.score(X_test,y_test)\n",
    "score_list.append(score_random_forest)\n",
    "score_random_forest"
   ]
  },
  {
   "cell_type": "code",
   "execution_count": 37,
   "id": "f2e322dc",
   "metadata": {},
   "outputs": [
    {
     "name": "stderr",
     "output_type": "stream",
     "text": [
      "C:\\Users\\kju78\\anaconda3\\lib\\site-packages\\sklearn\\model_selection\\_split.py:680: UserWarning: The least populated class in y has only 1 members, which is less than n_splits=5.\n",
      "  UserWarning,\n"
     ]
    },
    {
     "data": {
      "text/plain": [
       "array([0.24321705, 0.25024248, 0.2599418 , 0.20368574, 0.14645975])"
      ]
     },
     "execution_count": 37,
     "metadata": {},
     "output_type": "execute_result"
    }
   ],
   "source": [
    "cross_val_score(model_random_forest, X, y, cv=5)"
   ]
  },
  {
   "cell_type": "code",
   "execution_count": 38,
   "id": "74957185",
   "metadata": {},
   "outputs": [
    {
     "data": {
      "text/plain": [
       "array([ True, False, False,  True,  True,  True,  True, False, False,\n",
       "       False, False, False, False, False, False, False])"
      ]
     },
     "execution_count": 38,
     "metadata": {},
     "output_type": "execute_result"
    }
   ],
   "source": [
    "selector_random_forest = SelectFromModel(RandomForestClassifier(n_estimators=10),threshold='mean')\n",
    "selector_random_forest.fit_transform(X,y)\n",
    "selector_random_forest.get_support()"
   ]
  },
  {
   "cell_type": "code",
   "execution_count": 39,
   "id": "8ba50f82",
   "metadata": {},
   "outputs": [
    {
     "name": "stdout",
     "output_type": "stream",
     "text": [
      "MAE :  161363.71511627908\n",
      "RMSE :  521641.0446619975\n",
      "median absolut error :  30050.0\n"
     ]
    }
   ],
   "source": [
    "y_pred = model_random_forest.predict(X_test)\n",
    "print('MAE : ', mean_absolute_error(y_test,y_pred))\n",
    "print('RMSE : ', np.sqrt(mean_squared_error(y_test, y_pred)))\n",
    "print('median absolut error : ', median_absolute_error(y_test, y_pred))"
   ]
  },
  {
   "cell_type": "code",
   "execution_count": 40,
   "id": "76204ac1",
   "metadata": {},
   "outputs": [],
   "source": [
    "MAE_random_forest = mean_absolute_error(y_test,y_pred)\n",
    "RMSE_random_forest = np.sqrt(mean_squared_error(y_test, y_pred))\n",
    "median_abs_err_random_forest = median_absolute_error(y_test, y_pred)\n",
    "MAE_list.append(MAE_random_forest)\n",
    "model_list.append(\"Random Forest \\nClassifier\")\n",
    "RMSE_list.append(RMSE_random_forest)\n",
    "median_abs_err_list.append(median_abs_err_random_forest)"
   ]
  },
  {
   "cell_type": "code",
   "execution_count": 41,
   "id": "398ee6b1",
   "metadata": {},
   "outputs": [
    {
     "data": {
      "text/plain": [
       "<function matplotlib.pyplot.show(close=None, block=None)>"
      ]
     },
     "execution_count": 41,
     "metadata": {},
     "output_type": "execute_result"
    },
    {
     "data": {
      "image/png": "[encoded data removed]",
      "text/plain": [
       "<Figure size 432x288 with 1 Axes>"
      ]
     },
     "metadata": {
      "needs_background": "light"
     },
     "output_type": "display_data"
    }
   ],
   "source": [
    "error_hist = np.abs(y_test - y_pred)\n",
    "plt.hist(error_hist, bins=50)\n",
    "plt.show"
   ]
  },
  {
   "cell_type": "code",
   "execution_count": 42,
   "id": "e1d031cc",
   "metadata": {},
   "outputs": [
    {
     "name": "stderr",
     "output_type": "stream",
     "text": [
      "C:\\Users\\kju78\\anaconda3\\lib\\site-packages\\sklearn\\model_selection\\_split.py:680: UserWarning: The least populated class in y has only 1 members, which is less than n_splits=5.\n",
      "  UserWarning,\n"
     ]
    },
    {
     "data": {
      "text/plain": [
       "array([-145802.51356589, -142307.99127061, -137494.08050436,\n",
       "       -157541.80116392, -162840.38603298])"
      ]
     },
     "execution_count": 42,
     "metadata": {},
     "output_type": "execute_result"
    }
   ],
   "source": [
    "cross_val_score(model_random_forest, X, y, cv=5, scoring='neg_mean_absolute_error')"
   ]
  },
  {
   "cell_type": "markdown",
   "id": "417b6ab9",
   "metadata": {},
   "source": [
    "### SGDClassifier"
   ]
  },
  {
   "cell_type": "code",
   "execution_count": 43,
   "id": "94e61ad5",
   "metadata": {},
   "outputs": [],
   "source": [
    "#model_SGD = SGDClassifier(max_iter=1000, tol=0.01)\n",
    "#model_SGD.fit(X_train,y_train)\n",
    "#model_SGD.score(X_test,y_test)"
   ]
  },
  {
   "cell_type": "markdown",
   "id": "8e13b454",
   "metadata": {},
   "source": [
    "### LogisticRegression"
   ]
  },
  {
   "cell_type": "code",
   "execution_count": 44,
   "id": "10570a2a",
   "metadata": {},
   "outputs": [],
   "source": [
    "#model_logistic_reg = LogisticRegression()\n",
    "#model_logistic_reg.fit(X_train,y_train)\n",
    "#model_logistic_reg.score(X_test,y_test)"
   ]
  },
  {
   "cell_type": "markdown",
   "id": "3da3380f",
   "metadata": {},
   "source": [
    "### BayesianRidge"
   ]
  },
  {
   "cell_type": "code",
   "execution_count": 45,
   "id": "d863046f",
   "metadata": {},
   "outputs": [
    {
     "data": {
      "text/plain": [
       "0.8350313829052425"
      ]
     },
     "execution_count": 45,
     "metadata": {},
     "output_type": "execute_result"
    }
   ],
   "source": [
    "model_bayesian = BayesianRidge()\n",
    "model_bayesian.fit(X_train, y_train)\n",
    "score_bayesian = model_bayesian.score(X_test, y_test)\n",
    "score_list.append(score_bayesian)\n",
    "score_bayesian"
   ]
  },
  {
   "cell_type": "code",
   "execution_count": 46,
   "id": "d4feaa44",
   "metadata": {},
   "outputs": [
    {
     "data": {
      "text/plain": [
       "array([  0.79124067, -83.15788254,   0.78519372,   0.83313848,\n",
       "        -2.8408571 ])"
      ]
     },
     "execution_count": 46,
     "metadata": {},
     "output_type": "execute_result"
    }
   ],
   "source": [
    "cross_val_score(model_bayesian, X, y, cv=5)"
   ]
  },
  {
   "cell_type": "code",
   "execution_count": 47,
   "id": "5ca6b7ec",
   "metadata": {},
   "outputs": [
    {
     "data": {
      "text/plain": [
       "array([ True,  True,  True, False, False, False, False, False, False,\n",
       "       False,  True, False, False, False, False, False])"
      ]
     },
     "execution_count": 47,
     "metadata": {},
     "output_type": "execute_result"
    }
   ],
   "source": [
    "selector_bayesian = SelectFromModel(BayesianRidge(),threshold='mean')\n",
    "selector_bayesian.fit_transform(X,y)\n",
    "selector_bayesian.get_support()"
   ]
  },
  {
   "cell_type": "code",
   "execution_count": 48,
   "id": "a0a8f5e2",
   "metadata": {},
   "outputs": [
    {
     "name": "stdout",
     "output_type": "stream",
     "text": [
      "MAE :  146042.28915293526\n",
      "RMSE :  295244.06582757516\n",
      "median absolut error :  82424.51596534625\n"
     ]
    }
   ],
   "source": [
    "y_pred = model_bayesian.predict(X_test)\n",
    "print('MAE : ', mean_absolute_error(y_test,y_pred))\n",
    "print('RMSE : ', np.sqrt(mean_squared_error(y_test, y_pred)))\n",
    "print('median absolut error : ', median_absolute_error(y_test, y_pred))"
   ]
  },
  {
   "cell_type": "code",
   "execution_count": 49,
   "id": "989f1f44",
   "metadata": {},
   "outputs": [],
   "source": [
    "MAE_bayesian = mean_absolute_error(y_test,y_pred)\n",
    "RMSE_bayesian = np.sqrt(mean_squared_error(y_test, y_pred))\n",
    "median_abs_err_bayesian = median_absolute_error(y_test, y_pred)\n",
    "MAE_list.append(MAE_bayesian)\n",
    "model_list.append(\"Bayesian \\nRidge\")\n",
    "RMSE_list.append(RMSE_bayesian)\n",
    "median_abs_err_list.append(median_abs_err_bayesian)"
   ]
  },
  {
   "cell_type": "code",
   "execution_count": 50,
   "id": "1646dad7",
   "metadata": {},
   "outputs": [
    {
     "data": {
      "text/plain": [
       "<function matplotlib.pyplot.show(close=None, block=None)>"
      ]
     },
     "execution_count": 50,
     "metadata": {},
     "output_type": "execute_result"
    },
    {
     "data": {
      "image/png": "[encoded data removed]",
      "text/plain": [
       "<Figure size 432x288 with 1 Axes>"
      ]
     },
     "metadata": {
      "needs_background": "light"
     },
     "output_type": "display_data"
    }
   ],
   "source": [
    "error_hist = np.abs(y_test - y_pred)\n",
    "plt.hist(error_hist, bins=50)\n",
    "plt.show"
   ]
  },
  {
   "cell_type": "code",
   "execution_count": 51,
   "id": "5303a50d",
   "metadata": {},
   "outputs": [
    {
     "data": {
      "text/plain": [
       "array([-152360.45739838, -104372.53376239, -172908.89753049,\n",
       "       -229786.7388412 ,  -67208.03672126])"
      ]
     },
     "execution_count": 51,
     "metadata": {},
     "output_type": "execute_result"
    }
   ],
   "source": [
    "cross_val_score(model_bayesian, X, y, cv=5, scoring='neg_mean_absolute_error')"
   ]
  },
  {
   "cell_type": "markdown",
   "id": "65027bca",
   "metadata": {},
   "source": [
    "### TweedieRegressor"
   ]
  },
  {
   "cell_type": "code",
   "execution_count": 52,
   "id": "8858bd3c",
   "metadata": {},
   "outputs": [
    {
     "data": {
      "text/plain": [
       "0.8251447306146602"
      ]
     },
     "execution_count": 52,
     "metadata": {},
     "output_type": "execute_result"
    }
   ],
   "source": [
    "model_tweedie = TweedieRegressor(max_iter=1000)\n",
    "model_tweedie.fit(X_train, y_train)\n",
    "score_tweedie = model_tweedie.score(X_test, y_test)\n",
    "score_list.append(score_tweedie)\n",
    "score_tweedie"
   ]
  },
  {
   "cell_type": "code",
   "execution_count": 53,
   "id": "7917f57e",
   "metadata": {},
   "outputs": [
    {
     "data": {
      "text/plain": [
       "array([  0.79298073, -83.03996912,   0.77652359,   0.8257756 ,\n",
       "        -3.21383296])"
      ]
     },
     "execution_count": 53,
     "metadata": {},
     "output_type": "execute_result"
    }
   ],
   "source": [
    "cross_val_score(model_tweedie, X, y, cv=5)"
   ]
  },
  {
   "cell_type": "code",
   "execution_count": 54,
   "id": "e49da489",
   "metadata": {},
   "outputs": [
    {
     "data": {
      "text/plain": [
       "array([ True,  True,  True, False, False, False,  True, False, False,\n",
       "       False, False,  True, False, False, False, False])"
      ]
     },
     "execution_count": 54,
     "metadata": {},
     "output_type": "execute_result"
    }
   ],
   "source": [
    "selector_tweedie = SelectFromModel(TweedieRegressor(max_iter=1000),threshold='mean')\n",
    "selector_tweedie.fit_transform(X,y)\n",
    "selector_tweedie.get_support()"
   ]
  },
  {
   "cell_type": "code",
   "execution_count": 55,
   "id": "fa673ef7",
   "metadata": {},
   "outputs": [
    {
     "name": "stdout",
     "output_type": "stream",
     "text": [
      "MAE :  145593.5423049065\n",
      "RMSE :  303962.40552030905\n",
      "median absolut error :  81161.77765459532\n"
     ]
    }
   ],
   "source": [
    "y_pred = model_tweedie.predict(X_test)\n",
    "print('MAE : ', mean_absolute_error(y_test,y_pred))\n",
    "print('RMSE : ', np.sqrt(mean_squared_error(y_test, y_pred)))\n",
    "print('median absolut error : ', median_absolute_error(y_test, y_pred))"
   ]
  },
  {
   "cell_type": "code",
   "execution_count": 56,
   "id": "40b9257e",
   "metadata": {},
   "outputs": [],
   "source": [
    "MAE_tweedie = mean_absolute_error(y_test,y_pred)\n",
    "RMSE_tweedie = np.sqrt(mean_squared_error(y_test, y_pred))\n",
    "median_abs_err_tweedie = median_absolute_error(y_test, y_pred)\n",
    "MAE_list.append(MAE_tweedie)\n",
    "model_list.append(\"Tweedie \\nRegressor\")\n",
    "RMSE_list.append(RMSE_tweedie)\n",
    "median_abs_err_list.append(median_abs_err_tweedie)"
   ]
  },
  {
   "cell_type": "code",
   "execution_count": 57,
   "id": "8db55832",
   "metadata": {},
   "outputs": [
    {
     "data": {
      "text/plain": [
       "<function matplotlib.pyplot.show(close=None, block=None)>"
      ]
     },
     "execution_count": 57,
     "metadata": {},
     "output_type": "execute_result"
    },
    {
     "data": {
      "image/png": "[encoded data removed]",
      "text/plain": [
       "<Figure size 432x288 with 1 Axes>"
      ]
     },
     "metadata": {
      "needs_background": "light"
     },
     "output_type": "display_data"
    }
   ],
   "source": [
    "error_hist = np.abs(y_test - y_pred)\n",
    "plt.hist(error_hist, bins=50)\n",
    "plt.show"
   ]
  },
  {
   "cell_type": "code",
   "execution_count": 58,
   "id": "f1f70972",
   "metadata": {},
   "outputs": [
    {
     "data": {
      "text/plain": [
       "array([-145828.00021741, -100390.98287401, -173406.23471127,\n",
       "       -231204.7450746 ,  -76346.42446033])"
      ]
     },
     "execution_count": 58,
     "metadata": {},
     "output_type": "execute_result"
    }
   ],
   "source": [
    "cross_val_score(model_tweedie, X, y, cv=5, scoring='neg_mean_absolute_error')"
   ]
  },
  {
   "cell_type": "markdown",
   "id": "49f7ecad",
   "metadata": {},
   "source": [
    "# Comparaisons des modèles"
   ]
  },
  {
   "cell_type": "markdown",
   "id": "e66ce36b",
   "metadata": {},
   "source": [
    "### Résultats :"
   ]
  },
  {
   "cell_type": "markdown",
   "id": "3ff036a1",
   "metadata": {},
   "source": [
    "#### Précision "
   ]
  },
  {
   "cell_type": "code",
   "execution_count": 59,
   "id": "93f47b08",
   "metadata": {},
   "outputs": [
    {
     "data": {
      "text/plain": [
       "Text(0, 0.5, 'Accuracy')"
      ]
     },
     "execution_count": 59,
     "metadata": {},
     "output_type": "execute_result"
    },
    {
     "data": {
      "image/png": "[encoded data removed]",
      "text/plain": [
       "<Figure size 432x288 with 1 Axes>"
      ]
     },
     "metadata": {
      "needs_background": "light"
     },
     "output_type": "display_data"
    }
   ],
   "source": [
    "plt.bar(model_list, score_list)\n",
    "plt.xticks(model_list)\n",
    "plt.yticks(score_list)\n",
    "plt.xlabel('Model')\n",
    "plt.ylabel('Accuracy')"
   ]
  },
  {
   "cell_type": "code",
   "execution_count": null,
   "id": "0de3d81d",
   "metadata": {},
   "outputs": [],
   "source": []
  },
  {
   "cell_type": "markdown",
   "id": "3872386b",
   "metadata": {},
   "source": [
    "### Erreurs : "
   ]
  },
  {
   "cell_type": "code",
   "execution_count": 60,
   "id": "caf66f3b",
   "metadata": {},
   "outputs": [
    {
     "data": {
      "text/plain": [
       "Text(0, 0.5, 'MAE')"
      ]
     },
     "execution_count": 60,
     "metadata": {},
     "output_type": "execute_result"
    },
    {
     "data": {
      "image/png": "[encoded data removed]",
      "text/plain": [
       "<Figure size 432x288 with 1 Axes>"
      ]
     },
     "metadata": {
      "needs_background": "light"
     },
     "output_type": "display_data"
    }
   ],
   "source": [
    "plt.bar(model_list, MAE_list)\n",
    "plt.xticks(model_list)\n",
    "plt.yticks(MAE_list)\n",
    "plt.xlabel('Model')\n",
    "plt.ylabel('MAE')"
   ]
  },
  {
   "cell_type": "code",
   "execution_count": 61,
   "id": "1538af14",
   "metadata": {},
   "outputs": [
    {
     "data": {
      "text/plain": [
       "Text(0, 0.5, 'RMSE')"
      ]
     },
     "execution_count": 61,
     "metadata": {},
     "output_type": "execute_result"
    },
    {
     "data": {
      "image/png": "[encoded data removed]",
      "text/plain": [
       "<Figure size 432x288 with 1 Axes>"
      ]
     },
     "metadata": {
      "needs_background": "light"
     },
     "output_type": "display_data"
    }
   ],
   "source": [
    "plt.bar(model_list, RMSE_list)\n",
    "plt.xticks(model_list)\n",
    "plt.yticks(RMSE_list)\n",
    "plt.xlabel('Model')\n",
    "plt.ylabel('RMSE')"
   ]
  },
  {
   "cell_type": "code",
   "execution_count": 62,
   "id": "3bb1ef2a",
   "metadata": {},
   "outputs": [
    {
     "data": {
      "text/plain": [
       "Text(0, 0.5, 'Median Abs Error')"
      ]
     },
     "execution_count": 62,
     "metadata": {},
     "output_type": "execute_result"
    },
    {
     "data": {
      "image/png": "[encoded data removed]",
      "text/plain": [
       "<Figure size 432x288 with 1 Axes>"
      ]
     },
     "metadata": {
      "needs_background": "light"
     },
     "output_type": "display_data"
    }
   ],
   "source": [
    "plt.bar(model_list, median_abs_err_list)\n",
    "plt.xticks(model_list)\n",
    "plt.yticks(median_abs_err_list)\n",
    "plt.xlabel('Model')\n",
    "plt.ylabel('Median Abs Error')"
   ]
  },
  {
   "cell_type": "markdown",
   "id": "b13df349",
   "metadata": {},
   "source": [
    "### Features : "
   ]
  },
  {
   "cell_type": "code",
   "execution_count": 95,
   "id": "f26f782b",
   "metadata": {},
   "outputs": [
    {
     "data": {
      "text/html": [
       "<div>\n",
       "<style scoped>\n",
       "    .dataframe tbody tr th:only-of-type {\n",
       "        vertical-align: middle;\n",
       "    }\n",
       "\n",
       "    .dataframe tbody tr th {\n",
       "        vertical-align: top;\n",
       "    }\n",
       "\n",
       "    .dataframe thead th {\n",
       "        text-align: right;\n",
       "    }\n",
       "</style>\n",
       "<table border=\"1\" class=\"dataframe\">\n",
       "  <thead>\n",
       "    <tr style=\"text-align: right;\">\n",
       "      <th></th>\n",
       "      <th>Superficie (m2)</th>\n",
       "      <th>Nombre Pieces</th>\n",
       "      <th>Nombre Chambres</th>\n",
       "      <th>Prix (Euros)</th>\n",
       "      <th>Code Postal</th>\n",
       "      <th>Classe Energetique</th>\n",
       "      <th>Nombre Photos</th>\n",
       "      <th>Etage</th>\n",
       "      <th>Type de Bien</th>\n",
       "      <th>Type Vendeur</th>\n",
       "      <th>Terrasse</th>\n",
       "      <th>Parking</th>\n",
       "      <th>Cave</th>\n",
       "      <th>Ascenseur</th>\n",
       "      <th>Gardien</th>\n",
       "      <th>Renove</th>\n",
       "      <th>Box</th>\n",
       "    </tr>\n",
       "  </thead>\n",
       "  <tbody>\n",
       "    <tr>\n",
       "      <th>0</th>\n",
       "      <td>64</td>\n",
       "      <td>3</td>\n",
       "      <td>2</td>\n",
       "      <td>830000</td>\n",
       "      <td>75017</td>\n",
       "      <td>5</td>\n",
       "      <td>1</td>\n",
       "      <td>3</td>\n",
       "      <td>1</td>\n",
       "      <td>1</td>\n",
       "      <td>-1</td>\n",
       "      <td>-1</td>\n",
       "      <td>-1</td>\n",
       "      <td>-1</td>\n",
       "      <td>-1</td>\n",
       "      <td>-1</td>\n",
       "      <td>-1</td>\n",
       "    </tr>\n",
       "    <tr>\n",
       "      <th>1</th>\n",
       "      <td>122</td>\n",
       "      <td>5</td>\n",
       "      <td>5</td>\n",
       "      <td>1470000</td>\n",
       "      <td>75015</td>\n",
       "      <td>0</td>\n",
       "      <td>10</td>\n",
       "      <td>3</td>\n",
       "      <td>1</td>\n",
       "      <td>1</td>\n",
       "      <td>1</td>\n",
       "      <td>1</td>\n",
       "      <td>1</td>\n",
       "      <td>1</td>\n",
       "      <td>-1</td>\n",
       "      <td>-1</td>\n",
       "      <td>1</td>\n",
       "    </tr>\n",
       "    <tr>\n",
       "      <th>2</th>\n",
       "      <td>5</td>\n",
       "      <td>1</td>\n",
       "      <td>0</td>\n",
       "      <td>65000</td>\n",
       "      <td>75116</td>\n",
       "      <td>5</td>\n",
       "      <td>6</td>\n",
       "      <td>6</td>\n",
       "      <td>1</td>\n",
       "      <td>1</td>\n",
       "      <td>-1</td>\n",
       "      <td>-1</td>\n",
       "      <td>-1</td>\n",
       "      <td>1</td>\n",
       "      <td>1</td>\n",
       "      <td>1</td>\n",
       "      <td>-1</td>\n",
       "    </tr>\n",
       "    <tr>\n",
       "      <th>3</th>\n",
       "      <td>7</td>\n",
       "      <td>1</td>\n",
       "      <td>0</td>\n",
       "      <td>80000</td>\n",
       "      <td>75015</td>\n",
       "      <td>0</td>\n",
       "      <td>4</td>\n",
       "      <td>7</td>\n",
       "      <td>1</td>\n",
       "      <td>1</td>\n",
       "      <td>-1</td>\n",
       "      <td>-1</td>\n",
       "      <td>-1</td>\n",
       "      <td>-1</td>\n",
       "      <td>1</td>\n",
       "      <td>-1</td>\n",
       "      <td>-1</td>\n",
       "    </tr>\n",
       "    <tr>\n",
       "      <th>4</th>\n",
       "      <td>8</td>\n",
       "      <td>1</td>\n",
       "      <td>0</td>\n",
       "      <td>87000</td>\n",
       "      <td>75006</td>\n",
       "      <td>0</td>\n",
       "      <td>4</td>\n",
       "      <td>6</td>\n",
       "      <td>1</td>\n",
       "      <td>1</td>\n",
       "      <td>-1</td>\n",
       "      <td>-1</td>\n",
       "      <td>-1</td>\n",
       "      <td>1</td>\n",
       "      <td>1</td>\n",
       "      <td>-1</td>\n",
       "      <td>-1</td>\n",
       "    </tr>\n",
       "  </tbody>\n",
       "</table>\n",
       "</div>"
      ],
      "text/plain": [
       "   Superficie (m2)  Nombre Pieces  Nombre Chambres  Prix (Euros)  Code Postal  \\\n",
       "0               64              3                2        830000        75017   \n",
       "1              122              5                5       1470000        75015   \n",
       "2                5              1                0         65000        75116   \n",
       "3                7              1                0         80000        75015   \n",
       "4                8              1                0         87000        75006   \n",
       "\n",
       "   Classe Energetique  Nombre Photos  Etage  Type de Bien  Type Vendeur  \\\n",
       "0                   5              1      3             1             1   \n",
       "1                   0             10      3             1             1   \n",
       "2                   5              6      6             1             1   \n",
       "3                   0              4      7             1             1   \n",
       "4                   0              4      6             1             1   \n",
       "\n",
       "   Terrasse  Parking  Cave  Ascenseur  Gardien  Renove  Box  \n",
       "0        -1       -1    -1         -1       -1      -1   -1  \n",
       "1         1        1     1          1       -1      -1    1  \n",
       "2        -1       -1    -1          1        1       1   -1  \n",
       "3        -1       -1    -1         -1        1      -1   -1  \n",
       "4        -1       -1    -1          1        1      -1   -1  "
      ]
     },
     "execution_count": 95,
     "metadata": {},
     "output_type": "execute_result"
    }
   ],
   "source": [
    "df.head()"
   ]
  },
  {
   "cell_type": "code",
   "execution_count": 67,
   "id": "2e8d0fda",
   "metadata": {},
   "outputs": [
    {
     "data": {
      "text/html": [
       "<div>\n",
       "<style scoped>\n",
       "    .dataframe tbody tr th:only-of-type {\n",
       "        vertical-align: middle;\n",
       "    }\n",
       "\n",
       "    .dataframe tbody tr th {\n",
       "        vertical-align: top;\n",
       "    }\n",
       "\n",
       "    .dataframe thead th {\n",
       "        text-align: right;\n",
       "    }\n",
       "</style>\n",
       "<table border=\"1\" class=\"dataframe\">\n",
       "  <thead>\n",
       "    <tr style=\"text-align: right;\">\n",
       "      <th></th>\n",
       "      <th>Code Postal</th>\n",
       "      <th>Prix (Euros)</th>\n",
       "    </tr>\n",
       "  </thead>\n",
       "  <tbody>\n",
       "    <tr>\n",
       "      <th>0</th>\n",
       "      <td>75017</td>\n",
       "      <td>830000</td>\n",
       "    </tr>\n",
       "    <tr>\n",
       "      <th>1</th>\n",
       "      <td>75015</td>\n",
       "      <td>1470000</td>\n",
       "    </tr>\n",
       "    <tr>\n",
       "      <th>2</th>\n",
       "      <td>75116</td>\n",
       "      <td>65000</td>\n",
       "    </tr>\n",
       "    <tr>\n",
       "      <th>3</th>\n",
       "      <td>75015</td>\n",
       "      <td>80000</td>\n",
       "    </tr>\n",
       "    <tr>\n",
       "      <th>4</th>\n",
       "      <td>75006</td>\n",
       "      <td>87000</td>\n",
       "    </tr>\n",
       "    <tr>\n",
       "      <th>...</th>\n",
       "      <td>...</td>\n",
       "      <td>...</td>\n",
       "    </tr>\n",
       "    <tr>\n",
       "      <th>5151</th>\n",
       "      <td>75015</td>\n",
       "      <td>240000</td>\n",
       "    </tr>\n",
       "    <tr>\n",
       "      <th>5152</th>\n",
       "      <td>75011</td>\n",
       "      <td>240000</td>\n",
       "    </tr>\n",
       "    <tr>\n",
       "      <th>5153</th>\n",
       "      <td>75009</td>\n",
       "      <td>240000</td>\n",
       "    </tr>\n",
       "    <tr>\n",
       "      <th>5154</th>\n",
       "      <td>75016</td>\n",
       "      <td>240000</td>\n",
       "    </tr>\n",
       "    <tr>\n",
       "      <th>5155</th>\n",
       "      <td>75020</td>\n",
       "      <td>240000</td>\n",
       "    </tr>\n",
       "  </tbody>\n",
       "</table>\n",
       "<p>5156 rows × 2 columns</p>\n",
       "</div>"
      ],
      "text/plain": [
       "      Code Postal  Prix (Euros)\n",
       "0           75017        830000\n",
       "1           75015       1470000\n",
       "2           75116         65000\n",
       "3           75015         80000\n",
       "4           75006         87000\n",
       "...           ...           ...\n",
       "5151        75015        240000\n",
       "5152        75011        240000\n",
       "5153        75009        240000\n",
       "5154        75016        240000\n",
       "5155        75020        240000\n",
       "\n",
       "[5156 rows x 2 columns]"
      ]
     },
     "execution_count": 67,
     "metadata": {},
     "output_type": "execute_result"
    }
   ],
   "source": [
    "df[['Code Postal','Prix (Euros)']]"
   ]
  },
  {
   "cell_type": "code",
   "execution_count": 102,
   "id": "11b34a3e",
   "metadata": {},
   "outputs": [
    {
     "name": "stdout",
     "output_type": "stream",
     "text": [
      "75018    641\n",
      "75015    542\n",
      "75017    457\n",
      "75016    356\n",
      "75019    346\n",
      "75020    335\n",
      "75011    294\n",
      "75014    282\n",
      "75010    267\n",
      "75013    265\n",
      "75012    223\n",
      "75009    181\n",
      "75007    166\n",
      "75008    142\n",
      "75006    135\n",
      "75005    122\n",
      "75003     99\n",
      "75004     96\n",
      "75002     81\n",
      "75116     75\n",
      "75001     51\n",
      "Name: Code Postal, dtype: int64\n",
      "Code Postal\n",
      "75001    9.001314e+05\n",
      "75002    5.287049e+05\n",
      "75003    8.346677e+05\n",
      "75004    8.086822e+05\n",
      "75005    5.969873e+05\n",
      "75006    9.359901e+05\n",
      "75007    1.341716e+06\n",
      "75008    1.526422e+06\n",
      "75009    7.078613e+05\n",
      "75010    4.541537e+05\n",
      "75011    4.523510e+05\n",
      "75012    4.492317e+05\n",
      "75013    4.583168e+05\n",
      "75014    5.146743e+05\n",
      "75015    5.331625e+05\n",
      "75016    8.187319e+05\n",
      "75017    5.701865e+05\n",
      "75018    3.929556e+05\n",
      "75019    4.305811e+05\n",
      "75020    4.013520e+05\n",
      "75116    1.585651e+06\n",
      "Name: Prix (Euros), dtype: float64\n"
     ]
    }
   ],
   "source": [
    "print(df[\"Code Postal\"].value_counts())\n",
    "print(df.groupby('Code Postal')['Prix (Euros)'].mean())"
   ]
  },
  {
   "cell_type": "code",
   "execution_count": 103,
   "id": "ad5751e2",
   "metadata": {},
   "outputs": [
    {
     "name": "stdout",
     "output_type": "stream",
     "text": [
      "38     136\n",
      "18     122\n",
      "36     117\n",
      "42     116\n",
      "8      107\n",
      "      ... \n",
      "234      1\n",
      "167      1\n",
      "191      1\n",
      "207      1\n",
      "460      1\n",
      "Name: Superficie (m2), Length: 232, dtype: int64\n",
      "Superficie (m2)\n",
      "0      3.306821e+05\n",
      "5      6.220833e+04\n",
      "6      6.961028e+04\n",
      "7      8.612788e+04\n",
      "8      8.968505e+04\n",
      "           ...     \n",
      "343    5.000000e+06\n",
      "393    9.000000e+06\n",
      "416    9.375000e+06\n",
      "417    9.900000e+06\n",
      "460    6.500000e+06\n",
      "Name: Prix (Euros), Length: 232, dtype: float64\n"
     ]
    }
   ],
   "source": [
    "print(df[\"Superficie (m2)\"].value_counts())\n",
    "print(df.groupby('Superficie (m2)')['Prix (Euros)'].mean())"
   ]
  },
  {
   "cell_type": "code",
   "execution_count": 105,
   "id": "648edc80",
   "metadata": {},
   "outputs": [
    {
     "name": "stdout",
     "output_type": "stream",
     "text": [
      "1    1807\n",
      "2    1729\n",
      "3     826\n",
      "4     389\n",
      "5     241\n",
      "6     104\n",
      "7      43\n",
      "8      16\n",
      "9       1\n",
      "Name: Nombre Pieces, dtype: int64\n",
      "Nombre Pieces\n",
      "1    2.360460e+05\n",
      "2    4.351077e+05\n",
      "3    7.321619e+05\n",
      "4    1.188376e+06\n",
      "5    1.766525e+06\n",
      "6    2.537125e+06\n",
      "7    2.908506e+06\n",
      "8    4.286250e+06\n",
      "9    2.950000e+06\n",
      "Name: Prix (Euros), dtype: float64\n"
     ]
    }
   ],
   "source": [
    "print(df[\"Nombre Pieces\"].value_counts())\n",
    "print(df.groupby('Nombre Pieces')['Prix (Euros)'].mean())"
   ]
  },
  {
   "cell_type": "code",
   "execution_count": 106,
   "id": "06053d4b",
   "metadata": {},
   "outputs": [
    {
     "name": "stdout",
     "output_type": "stream",
     "text": [
      "1    1869\n",
      "0    1808\n",
      "2     894\n",
      "3     386\n",
      "4     155\n",
      "5      36\n",
      "6       7\n",
      "8       1\n",
      "Name: Nombre Chambres, dtype: int64\n",
      "Nombre Chambres\n",
      "0    2.263572e+05\n",
      "1    4.625808e+05\n",
      "2    8.788953e+05\n",
      "3    1.608067e+06\n",
      "4    2.088253e+06\n",
      "5    2.754493e+06\n",
      "6    2.798571e+06\n",
      "8    9.375000e+06\n",
      "Name: Prix (Euros), dtype: float64\n"
     ]
    }
   ],
   "source": [
    "print(df[\"Nombre Chambres\"].value_counts())\n",
    "print(df.groupby('Nombre Chambres')['Prix (Euros)'].mean())"
   ]
  },
  {
   "cell_type": "code",
   "execution_count": 107,
   "id": "5369e805",
   "metadata": {},
   "outputs": [
    {
     "name": "stdout",
     "output_type": "stream",
     "text": [
      "0    1773\n",
      "5    1045\n",
      "4     882\n",
      "7     592\n",
      "6     565\n",
      "3     231\n",
      "2      37\n",
      "1      31\n",
      "Name: Classe Energetique, dtype: int64\n",
      "Classe Energetique\n",
      "0    5.740742e+05\n",
      "1    5.277629e+05\n",
      "2    1.609062e+06\n",
      "3    9.255952e+05\n",
      "4    8.352301e+05\n",
      "5    6.033470e+05\n",
      "6    4.616431e+05\n",
      "7    3.319739e+05\n",
      "Name: Prix (Euros), dtype: float64\n"
     ]
    }
   ],
   "source": [
    "print(df[\"Classe Energetique\"].value_counts())\n",
    "print(df.groupby('Classe Energetique')['Prix (Euros)'].mean())"
   ]
  },
  {
   "cell_type": "code",
   "execution_count": 121,
   "id": "aee8ac3a",
   "metadata": {},
   "outputs": [
    {
     "name": "stdout",
     "output_type": "stream",
     "text": [
      "10    1810\n",
      "6      557\n",
      "7      529\n",
      "8      522\n",
      "9      496\n",
      "5      429\n",
      "4      348\n",
      "3      212\n",
      "1      133\n",
      "2       98\n",
      "0       22\n",
      "Name: Nombre Photos, dtype: int64\n",
      "Nombre Photos\n",
      "0     575933.636364\n",
      "1     468545.406015\n",
      "2     460616.806122\n",
      "3     305119.674528\n",
      "4     334904.965517\n",
      "5     352236.505828\n",
      "6     433708.736086\n",
      "7     435348.642722\n",
      "8     500714.674330\n",
      "9     619665.429435\n",
      "10    905523.644199\n",
      "Name: Prix (Euros), dtype: float64\n"
     ]
    }
   ],
   "source": [
    "print(df[\"Nombre Photos\"].value_counts())\n",
    "print(df.groupby('Nombre Photos')['Prix (Euros)'].mean())"
   ]
  },
  {
   "cell_type": "code",
   "execution_count": 110,
   "id": "ac734cd8",
   "metadata": {},
   "outputs": [
    {
     "name": "stdout",
     "output_type": "stream",
     "text": [
      " 1    943\n",
      "-1    893\n",
      " 2    776\n",
      " 3    675\n",
      " 4    552\n",
      " 6    525\n",
      " 5    432\n",
      " 7    256\n",
      " 8     79\n",
      " 9     25\n",
      "Name: Etage, dtype: int64\n",
      "Etage\n",
      "-1    542669.108623\n",
      " 1    599112.244963\n",
      " 2    669194.319588\n",
      " 3    717765.074074\n",
      " 4    677237.128623\n",
      " 5    753055.988426\n",
      " 6    407597.754286\n",
      " 7    368857.781250\n",
      " 8    689422.025316\n",
      " 9    667239.200000\n",
      "Name: Prix (Euros), dtype: float64\n"
     ]
    }
   ],
   "source": [
    "print(df[\"Etage\"].value_counts())\n",
    "print(df.groupby('Etage')['Prix (Euros)'].mean())"
   ]
  },
  {
   "cell_type": "code",
   "execution_count": 111,
   "id": "a96a8d1e",
   "metadata": {},
   "outputs": [
    {
     "name": "stdout",
     "output_type": "stream",
     "text": [
      "-1    4410\n",
      " 1     746\n",
      "Name: Terrasse, dtype: int64\n",
      "Terrasse\n",
      "-1    568231.700227\n",
      " 1    839366.749330\n",
      "Name: Prix (Euros), dtype: float64\n"
     ]
    }
   ],
   "source": [
    "print(df[\"Terrasse\"].value_counts())\n",
    "print(df.groupby('Terrasse')['Prix (Euros)'].mean())"
   ]
  },
  {
   "cell_type": "code",
   "execution_count": 119,
   "id": "00323fc7",
   "metadata": {},
   "outputs": [
    {
     "name": "stdout",
     "output_type": "stream",
     "text": [
      "-1    4882\n",
      " 1     274\n",
      "Name: Parking, dtype: int64\n",
      "Parking\n",
      "-1    593648.938140\n",
      " 1    853559.405109\n",
      "Name: Prix (Euros), dtype: float64\n"
     ]
    }
   ],
   "source": [
    "print(df[\"Parking\"].value_counts())\n",
    "print(df.groupby('Parking')['Prix (Euros)'].mean())"
   ]
  },
  {
   "cell_type": "code",
   "execution_count": 113,
   "id": "b746b0ff",
   "metadata": {},
   "outputs": [
    {
     "name": "stdout",
     "output_type": "stream",
     "text": [
      "-1    2787\n",
      " 1    2369\n",
      "Name: Cave, dtype: int64\n",
      "Cave\n",
      "-1    527426.451381\n",
      " 1    701617.506543\n",
      "Name: Prix (Euros), dtype: float64\n"
     ]
    }
   ],
   "source": [
    "print(df[\"Cave\"].value_counts())\n",
    "print(df.groupby('Cave')['Prix (Euros)'].mean())"
   ]
  },
  {
   "cell_type": "code",
   "execution_count": 118,
   "id": "a99e3b57",
   "metadata": {},
   "outputs": [
    {
     "name": "stdout",
     "output_type": "stream",
     "text": [
      "-1    3234\n",
      " 1    1922\n",
      "Name: Ascenseur, dtype: int64\n",
      "Ascenseur\n",
      "-1    513086.389610\n",
      " 1    766258.069199\n",
      "Name: Prix (Euros), dtype: float64\n"
     ]
    }
   ],
   "source": [
    "print(df[\"Ascenseur\"].value_counts())\n",
    "print(df.groupby('Ascenseur')['Prix (Euros)'].mean())"
   ]
  },
  {
   "cell_type": "code",
   "execution_count": 115,
   "id": "daae56f0",
   "metadata": {},
   "outputs": [
    {
     "name": "stdout",
     "output_type": "stream",
     "text": [
      "-1    4014\n",
      " 1    1142\n",
      "Name: Gardien, dtype: int64\n",
      "Gardien\n",
      "-1    569760.076233\n",
      " 1    739975.873030\n",
      "Name: Prix (Euros), dtype: float64\n"
     ]
    }
   ],
   "source": [
    "print(df[\"Gardien\"].value_counts())\n",
    "print(df.groupby('Gardien')['Prix (Euros)'].mean())"
   ]
  },
  {
   "cell_type": "code",
   "execution_count": 116,
   "id": "7af8ddb2",
   "metadata": {},
   "outputs": [
    {
     "name": "stdout",
     "output_type": "stream",
     "text": [
      "-1    4882\n",
      " 1     274\n",
      "Name: Renove, dtype: int64\n",
      "Renove\n",
      "-1    604539.160795\n",
      " 1    659522.664234\n",
      "Name: Prix (Euros), dtype: float64\n"
     ]
    }
   ],
   "source": [
    "print(df[\"Renove\"].value_counts())\n",
    "print(df.groupby('Renove')['Prix (Euros)'].mean())"
   ]
  },
  {
   "cell_type": "code",
   "execution_count": 117,
   "id": "dda0aa8c",
   "metadata": {},
   "outputs": [
    {
     "name": "stdout",
     "output_type": "stream",
     "text": [
      "-1    5152\n",
      " 1       4\n",
      "Name: Box, dtype: int64\n",
      "Box\n",
      "-1    607220.767275\n",
      " 1    917000.000000\n",
      "Name: Prix (Euros), dtype: float64\n"
     ]
    }
   ],
   "source": [
    "print(df[\"Box\"].value_counts())\n",
    "print(df.groupby('Box')['Prix (Euros)'].mean())"
   ]
  },
  {
   "cell_type": "code",
   "execution_count": null,
   "id": "7814f0ed",
   "metadata": {},
   "outputs": [],
   "source": []
  }
 ],
 "metadata": {
  "kernelspec": {
   "display_name": "Python 3 (ipykernel)",
   "language": "python",
   "name": "python3"
  },
  "language_info": {
   "codemirror_mode": {
    "name": "ipython",
    "version": 3
   },
   "file_extension": ".py",
   "mimetype": "text/x-python",
   "name": "python",
   "nbconvert_exporter": "python",
   "pygments_lexer": "ipython3",
   "version": "3.7.11"
  }
 },
 "nbformat": 4,
 "nbformat_minor": 5
}
